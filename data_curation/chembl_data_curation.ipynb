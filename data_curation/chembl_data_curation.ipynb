{
 "cells": [
  {
   "cell_type": "markdown",
   "metadata": {},
   "source": [
    "# Curate sets of TARGET activity and selectivity data from ChEMBL"
   ]
  },
  {
   "cell_type": "code",
   "execution_count": 1,
   "metadata": {},
   "outputs": [
    {
     "name": "stdout",
     "output_type": "stream",
     "text": [
      "Imports Done.\n"
     ]
    }
   ],
   "source": [
    "import importlib as imp\n",
    "import pdb\n",
    "\n",
    "import os\n",
    "import sys\n",
    "#sys.path.append(f\"{os.environ['HOME']}/git/data_science/code\")\n",
    "import numpy as np\n",
    "import pandas as pd\n",
    "\n",
    "import curate_parp_data as cpd  # .py\n",
    "import public_data_curation as pdc  # .py\n",
    "\n",
    "#from atomsci.ddm.utils.curate_data import freq_table, aggregate_assay_data\n",
    "import atomsci.ddm.utils.curate_data as cd\n",
    "from atomsci.ddm.utils.rdkit_easy import setup_notebook\n",
    "import atomsci.ddm.utils.data_curation_functions as dcf\n",
    "import  atomsci.ddm.utils.struct_utils as su #import base_smiles_from_smiles, get_rdkit_smiles\n",
    "\n",
    "from rdkit import Chem\n",
    "\n",
    "import logging\n",
    "logging.basicConfig(format='%(asctime)-15s %(message)s')\n",
    "logger = logging.getLogger('ATOM')\n",
    "logger.setLevel(logging.INFO)\n",
    "\n",
    "import seaborn as sns\n",
    "import matplotlib\n",
    "import matplotlib.pyplot as plt\n",
    "matplotlib.style.use('ggplot')\n",
    "matplotlib.rc('xtick', labelsize=12)\n",
    "matplotlib.rc('ytick', labelsize=12)\n",
    "matplotlib.rc('axes', labelsize=12)\n",
    "%matplotlib inline\n",
    "print(\"Imports Done.\")"
   ]
  },
  {
   "cell_type": "code",
   "execution_count": 2,
   "metadata": {},
   "outputs": [
    {
     "data": {
      "text/html": [
       "\n",
       "    <div class=\"bk-root\">\n",
       "        <a href=\"https://bokeh.org\" target=\"_blank\" class=\"bk-logo bk-logo-small bk-logo-notebook\"></a>\n",
       "        <span id=\"1002\">Loading BokehJS ...</span>\n",
       "    </div>"
      ]
     },
     "metadata": {},
     "output_type": "display_data"
    },
    {
     "data": {
      "application/javascript": [
       "\n",
       "(function(root) {\n",
       "  function now() {\n",
       "    return new Date();\n",
       "  }\n",
       "\n",
       "  var force = true;\n",
       "\n",
       "  if (typeof root._bokeh_onload_callbacks === \"undefined\" || force === true) {\n",
       "    root._bokeh_onload_callbacks = [];\n",
       "    root._bokeh_is_loading = undefined;\n",
       "  }\n",
       "\n",
       "  var JS_MIME_TYPE = 'application/javascript';\n",
       "  var HTML_MIME_TYPE = 'text/html';\n",
       "  var EXEC_MIME_TYPE = 'application/vnd.bokehjs_exec.v0+json';\n",
       "  var CLASS_NAME = 'output_bokeh rendered_html';\n",
       "\n",
       "  /**\n",
       "   * Render data to the DOM node\n",
       "   */\n",
       "  function render(props, node) {\n",
       "    var script = document.createElement(\"script\");\n",
       "    node.appendChild(script);\n",
       "  }\n",
       "\n",
       "  /**\n",
       "   * Handle when an output is cleared or removed\n",
       "   */\n",
       "  function handleClearOutput(event, handle) {\n",
       "    var cell = handle.cell;\n",
       "\n",
       "    var id = cell.output_area._bokeh_element_id;\n",
       "    var server_id = cell.output_area._bokeh_server_id;\n",
       "    // Clean up Bokeh references\n",
       "    if (id != null && id in Bokeh.index) {\n",
       "      Bokeh.index[id].model.document.clear();\n",
       "      delete Bokeh.index[id];\n",
       "    }\n",
       "\n",
       "    if (server_id !== undefined) {\n",
       "      // Clean up Bokeh references\n",
       "      var cmd = \"from bokeh.io.state import curstate; print(curstate().uuid_to_server['\" + server_id + \"'].get_sessions()[0].document.roots[0]._id)\";\n",
       "      cell.notebook.kernel.execute(cmd, {\n",
       "        iopub: {\n",
       "          output: function(msg) {\n",
       "            var id = msg.content.text.trim();\n",
       "            if (id in Bokeh.index) {\n",
       "              Bokeh.index[id].model.document.clear();\n",
       "              delete Bokeh.index[id];\n",
       "            }\n",
       "          }\n",
       "        }\n",
       "      });\n",
       "      // Destroy server and session\n",
       "      var cmd = \"import bokeh.io.notebook as ion; ion.destroy_server('\" + server_id + \"')\";\n",
       "      cell.notebook.kernel.execute(cmd);\n",
       "    }\n",
       "  }\n",
       "\n",
       "  /**\n",
       "   * Handle when a new output is added\n",
       "   */\n",
       "  function handleAddOutput(event, handle) {\n",
       "    var output_area = handle.output_area;\n",
       "    var output = handle.output;\n",
       "\n",
       "    // limit handleAddOutput to display_data with EXEC_MIME_TYPE content only\n",
       "    if ((output.output_type != \"display_data\") || (!Object.prototype.hasOwnProperty.call(output.data, EXEC_MIME_TYPE))) {\n",
       "      return\n",
       "    }\n",
       "\n",
       "    var toinsert = output_area.element.find(\".\" + CLASS_NAME.split(' ')[0]);\n",
       "\n",
       "    if (output.metadata[EXEC_MIME_TYPE][\"id\"] !== undefined) {\n",
       "      toinsert[toinsert.length - 1].firstChild.textContent = output.data[JS_MIME_TYPE];\n",
       "      // store reference to embed id on output_area\n",
       "      output_area._bokeh_element_id = output.metadata[EXEC_MIME_TYPE][\"id\"];\n",
       "    }\n",
       "    if (output.metadata[EXEC_MIME_TYPE][\"server_id\"] !== undefined) {\n",
       "      var bk_div = document.createElement(\"div\");\n",
       "      bk_div.innerHTML = output.data[HTML_MIME_TYPE];\n",
       "      var script_attrs = bk_div.children[0].attributes;\n",
       "      for (var i = 0; i < script_attrs.length; i++) {\n",
       "        toinsert[toinsert.length - 1].firstChild.setAttribute(script_attrs[i].name, script_attrs[i].value);\n",
       "        toinsert[toinsert.length - 1].firstChild.textContent = bk_div.children[0].textContent\n",
       "      }\n",
       "      // store reference to server id on output_area\n",
       "      output_area._bokeh_server_id = output.metadata[EXEC_MIME_TYPE][\"server_id\"];\n",
       "    }\n",
       "  }\n",
       "\n",
       "  function register_renderer(events, OutputArea) {\n",
       "\n",
       "    function append_mime(data, metadata, element) {\n",
       "      // create a DOM node to render to\n",
       "      var toinsert = this.create_output_subarea(\n",
       "        metadata,\n",
       "        CLASS_NAME,\n",
       "        EXEC_MIME_TYPE\n",
       "      );\n",
       "      this.keyboard_manager.register_events(toinsert);\n",
       "      // Render to node\n",
       "      var props = {data: data, metadata: metadata[EXEC_MIME_TYPE]};\n",
       "      render(props, toinsert[toinsert.length - 1]);\n",
       "      element.append(toinsert);\n",
       "      return toinsert\n",
       "    }\n",
       "\n",
       "    /* Handle when an output is cleared or removed */\n",
       "    events.on('clear_output.CodeCell', handleClearOutput);\n",
       "    events.on('delete.Cell', handleClearOutput);\n",
       "\n",
       "    /* Handle when a new output is added */\n",
       "    events.on('output_added.OutputArea', handleAddOutput);\n",
       "\n",
       "    /**\n",
       "     * Register the mime type and append_mime function with output_area\n",
       "     */\n",
       "    OutputArea.prototype.register_mime_type(EXEC_MIME_TYPE, append_mime, {\n",
       "      /* Is output safe? */\n",
       "      safe: true,\n",
       "      /* Index of renderer in `output_area.display_order` */\n",
       "      index: 0\n",
       "    });\n",
       "  }\n",
       "\n",
       "  // register the mime type if in Jupyter Notebook environment and previously unregistered\n",
       "  if (root.Jupyter !== undefined) {\n",
       "    var events = require('base/js/events');\n",
       "    var OutputArea = require('notebook/js/outputarea').OutputArea;\n",
       "\n",
       "    if (OutputArea.prototype.mime_types().indexOf(EXEC_MIME_TYPE) == -1) {\n",
       "      register_renderer(events, OutputArea);\n",
       "    }\n",
       "  }\n",
       "\n",
       "  \n",
       "  if (typeof (root._bokeh_timeout) === \"undefined\" || force === true) {\n",
       "    root._bokeh_timeout = Date.now() + 5000;\n",
       "    root._bokeh_failed_load = false;\n",
       "  }\n",
       "\n",
       "  var NB_LOAD_WARNING = {'data': {'text/html':\n",
       "     \"<div style='background-color: #fdd'>\\n\"+\n",
       "     \"<p>\\n\"+\n",
       "     \"BokehJS does not appear to have successfully loaded. If loading BokehJS from CDN, this \\n\"+\n",
       "     \"may be due to a slow or bad network connection. Possible fixes:\\n\"+\n",
       "     \"</p>\\n\"+\n",
       "     \"<ul>\\n\"+\n",
       "     \"<li>re-rerun `output_notebook()` to attempt to load from CDN again, or</li>\\n\"+\n",
       "     \"<li>use INLINE resources instead, as so:</li>\\n\"+\n",
       "     \"</ul>\\n\"+\n",
       "     \"<code>\\n\"+\n",
       "     \"from bokeh.resources import INLINE\\n\"+\n",
       "     \"output_notebook(resources=INLINE)\\n\"+\n",
       "     \"</code>\\n\"+\n",
       "     \"</div>\"}};\n",
       "\n",
       "  function display_loaded() {\n",
       "    var el = document.getElementById(\"1002\");\n",
       "    if (el != null) {\n",
       "      el.textContent = \"BokehJS is loading...\";\n",
       "    }\n",
       "    if (root.Bokeh !== undefined) {\n",
       "      if (el != null) {\n",
       "        el.textContent = \"BokehJS \" + root.Bokeh.version + \" successfully loaded.\";\n",
       "      }\n",
       "    } else if (Date.now() < root._bokeh_timeout) {\n",
       "      setTimeout(display_loaded, 100)\n",
       "    }\n",
       "  }\n",
       "\n",
       "\n",
       "  function run_callbacks() {\n",
       "    try {\n",
       "      root._bokeh_onload_callbacks.forEach(function(callback) {\n",
       "        if (callback != null)\n",
       "          callback();\n",
       "      });\n",
       "    } finally {\n",
       "      delete root._bokeh_onload_callbacks\n",
       "    }\n",
       "    console.debug(\"Bokeh: all callbacks have finished\");\n",
       "  }\n",
       "\n",
       "  function load_libs(css_urls, js_urls, callback) {\n",
       "    if (css_urls == null) css_urls = [];\n",
       "    if (js_urls == null) js_urls = [];\n",
       "\n",
       "    root._bokeh_onload_callbacks.push(callback);\n",
       "    if (root._bokeh_is_loading > 0) {\n",
       "      console.debug(\"Bokeh: BokehJS is being loaded, scheduling callback at\", now());\n",
       "      return null;\n",
       "    }\n",
       "    if (js_urls == null || js_urls.length === 0) {\n",
       "      run_callbacks();\n",
       "      return null;\n",
       "    }\n",
       "    console.debug(\"Bokeh: BokehJS not loaded, scheduling load and callback at\", now());\n",
       "    root._bokeh_is_loading = css_urls.length + js_urls.length;\n",
       "\n",
       "    function on_load() {\n",
       "      root._bokeh_is_loading--;\n",
       "      if (root._bokeh_is_loading === 0) {\n",
       "        console.debug(\"Bokeh: all BokehJS libraries/stylesheets loaded\");\n",
       "        run_callbacks()\n",
       "      }\n",
       "    }\n",
       "\n",
       "    function on_error(url) {\n",
       "      console.error(\"failed to load \" + url);\n",
       "    }\n",
       "\n",
       "    for (let i = 0; i < css_urls.length; i++) {\n",
       "      const url = css_urls[i];\n",
       "      const element = document.createElement(\"link\");\n",
       "      element.onload = on_load;\n",
       "      element.onerror = on_error.bind(null, url);\n",
       "      element.rel = \"stylesheet\";\n",
       "      element.type = \"text/css\";\n",
       "      element.href = url;\n",
       "      console.debug(\"Bokeh: injecting link tag for BokehJS stylesheet: \", url);\n",
       "      document.body.appendChild(element);\n",
       "    }\n",
       "\n",
       "    const hashes = {\"https://cdn.bokeh.org/bokeh/release/bokeh-2.3.3.min.js\": \"dM3QQsP+wXdHg42wTqW85BjZQdLNNIXqlPw/BgKoExPmTG7ZLML4EGqLMfqHT6ON\", \"https://cdn.bokeh.org/bokeh/release/bokeh-tables-2.3.3.min.js\": \"8x57I4YuIfu8XyZfFo0XVr2WAT8EK4rh/uDe3wF7YuW2FNUSNEpJbsPaB1nJ2fz2\", \"https://cdn.bokeh.org/bokeh/release/bokeh-widgets-2.3.3.min.js\": \"3QTqdz9LyAm2i0sG5XTePsHec3UHWwVsrOL68SYRoAXsafvfAyqtQ+h440+qIBhS\"};\n",
       "\n",
       "    for (let i = 0; i < js_urls.length; i++) {\n",
       "      const url = js_urls[i];\n",
       "      const element = document.createElement('script');\n",
       "      element.onload = on_load;\n",
       "      element.onerror = on_error.bind(null, url);\n",
       "      element.async = false;\n",
       "      element.src = url;\n",
       "      if (url in hashes) {\n",
       "        element.crossOrigin = \"anonymous\";\n",
       "        element.integrity = \"sha384-\" + hashes[url];\n",
       "      }\n",
       "      console.debug(\"Bokeh: injecting script tag for BokehJS library: \", url);\n",
       "      document.head.appendChild(element);\n",
       "    }\n",
       "  };\n",
       "\n",
       "  function inject_raw_css(css) {\n",
       "    const element = document.createElement(\"style\");\n",
       "    element.appendChild(document.createTextNode(css));\n",
       "    document.body.appendChild(element);\n",
       "  }\n",
       "\n",
       "  \n",
       "  var js_urls = [\"https://cdn.bokeh.org/bokeh/release/bokeh-2.3.3.min.js\", \"https://cdn.bokeh.org/bokeh/release/bokeh-widgets-2.3.3.min.js\", \"https://cdn.bokeh.org/bokeh/release/bokeh-tables-2.3.3.min.js\"];\n",
       "  var css_urls = [];\n",
       "  \n",
       "\n",
       "  var inline_js = [\n",
       "    function(Bokeh) {\n",
       "      Bokeh.set_log_level(\"info\");\n",
       "    },\n",
       "    function(Bokeh) {\n",
       "    \n",
       "    \n",
       "    }\n",
       "  ];\n",
       "\n",
       "  function run_inline_js() {\n",
       "    \n",
       "    if (root.Bokeh !== undefined || force === true) {\n",
       "      \n",
       "    for (var i = 0; i < inline_js.length; i++) {\n",
       "      inline_js[i].call(root, root.Bokeh);\n",
       "    }\n",
       "    if (force === true) {\n",
       "        display_loaded();\n",
       "      }} else if (Date.now() < root._bokeh_timeout) {\n",
       "      setTimeout(run_inline_js, 100);\n",
       "    } else if (!root._bokeh_failed_load) {\n",
       "      console.log(\"Bokeh: BokehJS failed to load within specified timeout.\");\n",
       "      root._bokeh_failed_load = true;\n",
       "    } else if (force !== true) {\n",
       "      var cell = $(document.getElementById(\"1002\")).parents('.cell').data().cell;\n",
       "      cell.output_area.append_execute_result(NB_LOAD_WARNING)\n",
       "    }\n",
       "\n",
       "  }\n",
       "\n",
       "  if (root._bokeh_is_loading === 0) {\n",
       "    console.debug(\"Bokeh: BokehJS loaded, going straight to plotting\");\n",
       "    run_inline_js();\n",
       "  } else {\n",
       "    load_libs(css_urls, js_urls, function() {\n",
       "      console.debug(\"Bokeh: BokehJS plotting callback run at\", now());\n",
       "      run_inline_js();\n",
       "    });\n",
       "  }\n",
       "}(window));"
      ],
      "application/vnd.bokehjs_load.v0+json": "\n(function(root) {\n  function now() {\n    return new Date();\n  }\n\n  var force = true;\n\n  if (typeof root._bokeh_onload_callbacks === \"undefined\" || force === true) {\n    root._bokeh_onload_callbacks = [];\n    root._bokeh_is_loading = undefined;\n  }\n\n  \n\n  \n  if (typeof (root._bokeh_timeout) === \"undefined\" || force === true) {\n    root._bokeh_timeout = Date.now() + 5000;\n    root._bokeh_failed_load = false;\n  }\n\n  var NB_LOAD_WARNING = {'data': {'text/html':\n     \"<div style='background-color: #fdd'>\\n\"+\n     \"<p>\\n\"+\n     \"BokehJS does not appear to have successfully loaded. If loading BokehJS from CDN, this \\n\"+\n     \"may be due to a slow or bad network connection. Possible fixes:\\n\"+\n     \"</p>\\n\"+\n     \"<ul>\\n\"+\n     \"<li>re-rerun `output_notebook()` to attempt to load from CDN again, or</li>\\n\"+\n     \"<li>use INLINE resources instead, as so:</li>\\n\"+\n     \"</ul>\\n\"+\n     \"<code>\\n\"+\n     \"from bokeh.resources import INLINE\\n\"+\n     \"output_notebook(resources=INLINE)\\n\"+\n     \"</code>\\n\"+\n     \"</div>\"}};\n\n  function display_loaded() {\n    var el = document.getElementById(\"1002\");\n    if (el != null) {\n      el.textContent = \"BokehJS is loading...\";\n    }\n    if (root.Bokeh !== undefined) {\n      if (el != null) {\n        el.textContent = \"BokehJS \" + root.Bokeh.version + \" successfully loaded.\";\n      }\n    } else if (Date.now() < root._bokeh_timeout) {\n      setTimeout(display_loaded, 100)\n    }\n  }\n\n\n  function run_callbacks() {\n    try {\n      root._bokeh_onload_callbacks.forEach(function(callback) {\n        if (callback != null)\n          callback();\n      });\n    } finally {\n      delete root._bokeh_onload_callbacks\n    }\n    console.debug(\"Bokeh: all callbacks have finished\");\n  }\n\n  function load_libs(css_urls, js_urls, callback) {\n    if (css_urls == null) css_urls = [];\n    if (js_urls == null) js_urls = [];\n\n    root._bokeh_onload_callbacks.push(callback);\n    if (root._bokeh_is_loading > 0) {\n      console.debug(\"Bokeh: BokehJS is being loaded, scheduling callback at\", now());\n      return null;\n    }\n    if (js_urls == null || js_urls.length === 0) {\n      run_callbacks();\n      return null;\n    }\n    console.debug(\"Bokeh: BokehJS not loaded, scheduling load and callback at\", now());\n    root._bokeh_is_loading = css_urls.length + js_urls.length;\n\n    function on_load() {\n      root._bokeh_is_loading--;\n      if (root._bokeh_is_loading === 0) {\n        console.debug(\"Bokeh: all BokehJS libraries/stylesheets loaded\");\n        run_callbacks()\n      }\n    }\n\n    function on_error(url) {\n      console.error(\"failed to load \" + url);\n    }\n\n    for (let i = 0; i < css_urls.length; i++) {\n      const url = css_urls[i];\n      const element = document.createElement(\"link\");\n      element.onload = on_load;\n      element.onerror = on_error.bind(null, url);\n      element.rel = \"stylesheet\";\n      element.type = \"text/css\";\n      element.href = url;\n      console.debug(\"Bokeh: injecting link tag for BokehJS stylesheet: \", url);\n      document.body.appendChild(element);\n    }\n\n    const hashes = {\"https://cdn.bokeh.org/bokeh/release/bokeh-2.3.3.min.js\": \"dM3QQsP+wXdHg42wTqW85BjZQdLNNIXqlPw/BgKoExPmTG7ZLML4EGqLMfqHT6ON\", \"https://cdn.bokeh.org/bokeh/release/bokeh-tables-2.3.3.min.js\": \"8x57I4YuIfu8XyZfFo0XVr2WAT8EK4rh/uDe3wF7YuW2FNUSNEpJbsPaB1nJ2fz2\", \"https://cdn.bokeh.org/bokeh/release/bokeh-widgets-2.3.3.min.js\": \"3QTqdz9LyAm2i0sG5XTePsHec3UHWwVsrOL68SYRoAXsafvfAyqtQ+h440+qIBhS\"};\n\n    for (let i = 0; i < js_urls.length; i++) {\n      const url = js_urls[i];\n      const element = document.createElement('script');\n      element.onload = on_load;\n      element.onerror = on_error.bind(null, url);\n      element.async = false;\n      element.src = url;\n      if (url in hashes) {\n        element.crossOrigin = \"anonymous\";\n        element.integrity = \"sha384-\" + hashes[url];\n      }\n      console.debug(\"Bokeh: injecting script tag for BokehJS library: \", url);\n      document.head.appendChild(element);\n    }\n  };\n\n  function inject_raw_css(css) {\n    const element = document.createElement(\"style\");\n    element.appendChild(document.createTextNode(css));\n    document.body.appendChild(element);\n  }\n\n  \n  var js_urls = [\"https://cdn.bokeh.org/bokeh/release/bokeh-2.3.3.min.js\", \"https://cdn.bokeh.org/bokeh/release/bokeh-widgets-2.3.3.min.js\", \"https://cdn.bokeh.org/bokeh/release/bokeh-tables-2.3.3.min.js\"];\n  var css_urls = [];\n  \n\n  var inline_js = [\n    function(Bokeh) {\n      Bokeh.set_log_level(\"info\");\n    },\n    function(Bokeh) {\n    \n    \n    }\n  ];\n\n  function run_inline_js() {\n    \n    if (root.Bokeh !== undefined || force === true) {\n      \n    for (var i = 0; i < inline_js.length; i++) {\n      inline_js[i].call(root, root.Bokeh);\n    }\n    if (force === true) {\n        display_loaded();\n      }} else if (Date.now() < root._bokeh_timeout) {\n      setTimeout(run_inline_js, 100);\n    } else if (!root._bokeh_failed_load) {\n      console.log(\"Bokeh: BokehJS failed to load within specified timeout.\");\n      root._bokeh_failed_load = true;\n    } else if (force !== true) {\n      var cell = $(document.getElementById(\"1002\")).parents('.cell').data().cell;\n      cell.output_area.append_execute_result(NB_LOAD_WARNING)\n    }\n\n  }\n\n  if (root._bokeh_is_loading === 0) {\n    console.debug(\"Bokeh: BokehJS loaded, going straight to plotting\");\n    run_inline_js();\n  } else {\n    load_libs(css_urls, js_urls, function() {\n      console.debug(\"Bokeh: BokehJS plotting callback run at\", now());\n      run_inline_js();\n    });\n  }\n}(window));"
     },
     "metadata": {},
     "output_type": "display_data"
    },
    {
     "data": {
      "text/html": [
       "<style>.container { width:100% !important; }</style>"
      ],
      "text/plain": [
       "<IPython.core.display.HTML object>"
      ]
     },
     "metadata": {},
     "output_type": "display_data"
    }
   ],
   "source": [
    "setup_notebook()"
   ]
  },
  {
   "cell_type": "markdown",
   "metadata": {},
   "source": [
    "# Step 1: Collect Data\n",
    "\n",
    "There are two methods to collect ChEMBL data:\n",
    "\n",
    "1. Manually via web interface \n",
    "2. Via Python-API for ChEMBL (using SQL DB) - You need to install a ChEMBL 30 SQLite database on your system. "
   ]
  },
  {
   "cell_type": "markdown",
   "metadata": {},
   "source": [
    "## Option 1: Manual retrieval\n",
    "\n",
    "ChEMBL datasets are expected to be downloaded from the ChEMBL website, https://www.ebi.ac.uk/chembl/ . \n",
    "\n",
    "The process for bioactivity data is: search for a target using its gene symbol; identify the correct Homo sapiens version of the target and click on its ChEMBL ID; click on the activity type you want (e.g., IC50) in the activity pie chart; then click on the CSV button above the result table to download the activity data. The downloaded CSV files are actually semicolon-separated. \n",
    "\n",
    "After uncompressing the downloaded file, rename it to indicate the target, activity type and species, with a \".txt\" extension. Move the file to (root)/public_dsets/ChEMBL/raw, where (root) is /usr/local/data on TTB and /usr/workspace/atom on LC. \n",
    "\n",
    "For systems other than LC, you can use any location you want to. Feel free to create a directory '/Data' and use it as root. "
   ]
  },
  {
   "cell_type": "markdown",
   "metadata": {},
   "source": [
    "## Option 2: SQL Python ChEMBL API "
   ]
  },
  {
   "cell_type": "code",
   "execution_count": 3,
   "metadata": {},
   "outputs": [],
   "source": [
    "# # Create directory structure -> /Data\n",
    "#                                      /chembl\n",
    "#                                             /raw | /curated\n",
    "dset_dir = f\"Data/\"\n",
    "os.makedirs(dset_dir, exist_ok=True)\n",
    "chembl_dir = f\"{dset_dir}/chembl\"\n",
    "os.makedirs(chembl_dir, exist_ok=True)\n",
    "raw_dir = f\"{chembl_dir}/raw\"\n",
    "os.makedirs(raw_dir, exist_ok=True)\n",
    "curated_dir = f\"{chembl_dir}/curated\"\n",
    "os.makedirs(curated_dir, exist_ok=True)"
   ]
  },
  {
   "cell_type": "code",
   "execution_count": 4,
   "metadata": {},
   "outputs": [
    {
     "data": {
      "text/plain": [
       "{'CYP2C9': {'AC50': 'CHEMBL25-CYP2C9_human_AC50_26Nov2019',\n",
       "  'IC50': 'CHEMBL25-CYP2C9_human_IC50_26Nov2019'},\n",
       " 'CYP2D6': {'AC50': 'CHEMBL25-CYP2D6_human_AC50_26Nov2019',\n",
       "  'IC50': 'CHEMBL25-CYP2D6_human_IC50_26Nov2019'},\n",
       " 'CYP3A4': {'AC50': 'CHEMBL25-CYP3A4_human_AC50_26Nov2019',\n",
       "  'IC50': 'CHEMBL25-CYP3A4_human_IC50_26Nov2019'},\n",
       " 'AURKA': {'IC50': 'CHEMBL26-AURKA_human_IC50'},\n",
       " 'AURKB': {'IC50': 'CHEMBL26-AURKB_human_IC50'},\n",
       " 'BSEP': {'IC50': 'CHEMBL26-BSEP_human_IC50'},\n",
       " 'hERG': {'IC50': 'CHEMBL26-hERG_human_IC50'},\n",
       " 'JAK1': {'IC50': 'CHEMBL25-JAK1_IC50_human_26Nov2019'},\n",
       " 'JAK2': {'IC50': 'CHEMBL25-JAK2_IC50_human_26Nov2019'},\n",
       " 'JAK3': {'IC50': 'CHEMBL25-JAK3_IC50_human_26Nov2019'},\n",
       " 'PI3Kg': {'IC50': 'CHEMBL25-pI3K_p110gamma_human_IC50_26Nov2019'},\n",
       " 'KCNA5': {'IC50': 'CHEMBL26-KCNA5_human_IC50'},\n",
       " 'SCN5A': {'IC50': 'CHEMBL26-SCN5A_human_IC50'},\n",
       " 'KCNQ1_KCNE1': {'IC50': 'CHEMBL26-KCNQ1_KCNE1_human_IC50'},\n",
       " 'CACNA1C': {'IC50': 'CHEMBL26-CACNA1C_human_IC50'},\n",
       " 'CHRM1': {'IC50': 'CHEMBL26-CHRM1_human_IC50',\n",
       "  'Ki': 'CHEMBL26-CHRM1_human_Ki'},\n",
       " 'CHRM2': {'IC50': 'CHEMBL26-CHRM2_human_IC50',\n",
       "  'Ki': 'CHEMBL26-CHRM2_human_Ki'},\n",
       " 'CHRM3': {'IC50': 'CHEMBL26-CHRM3_human_IC50',\n",
       "  'Ki': 'CHEMBL26-CHRM3_human_Ki'},\n",
       " 'HRH1': {'IC50': 'CHEMBL26-HRH1_human_IC50', 'Ki': 'CHEMBL26-HRH1_human_Ki'},\n",
       " 'Solubility': 'CHEMBL25-Solubility_pH7_4_AstraZenica_26Nov2019',\n",
       " 'hepCL_human': 'CHEMBL25-hepatocyte_clearance_AZ_26Nov2019',\n",
       " 'hepCL_rat': 'CHEMBL25-hepatocyte_clearance_rat_AZ_26Nov2019',\n",
       " 'micCL_human': 'CHEMBL25-microsomal_clearance_human_AZprotocl_26Nov2019'}"
      ]
     },
     "execution_count": 4,
     "metadata": {},
     "output_type": "execute_result"
    }
   ],
   "source": [
    "log_var_map = {\n",
    "    'IC50': 'pIC50',\n",
    "    'AC50': 'pIC50',\n",
    "    'Ki': 'pKi',\n",
    "    'Solubility': 'logSolubility',\n",
    "    'CL': 'logCL'\n",
    "}\n",
    " # This is already saved at LC, you can download your own data and rename in similar format\n",
    "chembl_dsets = dict(\n",
    "    CYP2C9 = dict(AC50='CHEMBL25-CYP2C9_human_AC50_26Nov2019', IC50='CHEMBL25-CYP2C9_human_IC50_26Nov2019'),\n",
    "    CYP2D6 = dict(AC50='CHEMBL25-CYP2D6_human_AC50_26Nov2019', IC50='CHEMBL25-CYP2D6_human_IC50_26Nov2019'),\n",
    "    CYP3A4 = dict(AC50='CHEMBL25-CYP3A4_human_AC50_26Nov2019', IC50='CHEMBL25-CYP3A4_human_IC50_26Nov2019'),\n",
    "    AURKA = dict(IC50=\"CHEMBL26-AURKA_human_IC50\"),\n",
    "    AURKB = dict(IC50=\"CHEMBL26-AURKB_human_IC50\"),\n",
    "    BSEP = dict(IC50=\"CHEMBL26-BSEP_human_IC50\"),\n",
    "    hERG = dict(IC50=\"CHEMBL26-hERG_human_IC50\"),\n",
    "    JAK1 = dict(IC50=\"CHEMBL25-JAK1_IC50_human_26Nov2019\"),\n",
    "    JAK2 = dict(IC50=\"CHEMBL25-JAK2_IC50_human_26Nov2019\"),\n",
    "    JAK3 = dict(IC50=\"CHEMBL25-JAK3_IC50_human_26Nov2019\"),\n",
    "    PI3Kg = dict(IC50=\"CHEMBL25-pI3K_p110gamma_human_IC50_26Nov2019\"),\n",
    "    KCNA5 = dict(IC50=\"CHEMBL26-KCNA5_human_IC50\"),\n",
    "    SCN5A = dict(IC50=\"CHEMBL26-SCN5A_human_IC50\"),\n",
    "    KCNQ1_KCNE1 = dict(IC50=\"CHEMBL26-KCNQ1_KCNE1_human_IC50\"),\n",
    "    CACNA1C = dict(IC50=\"CHEMBL26-CACNA1C_human_IC50\"),\n",
    "    CHRM1 = dict(IC50=\"CHEMBL26-CHRM1_human_IC50\", Ki=\"CHEMBL26-CHRM1_human_Ki\"),\n",
    "    CHRM2 = dict(IC50=\"CHEMBL26-CHRM2_human_IC50\", Ki=\"CHEMBL26-CHRM2_human_Ki\"),\n",
    "    CHRM3 = dict(IC50=\"CHEMBL26-CHRM3_human_IC50\", Ki=\"CHEMBL26-CHRM3_human_Ki\"),\n",
    "    HRH1 = dict(IC50=\"CHEMBL26-HRH1_human_IC50\", Ki=\"CHEMBL26-HRH1_human_Ki\"),\n",
    "    Solubility=\"CHEMBL25-Solubility_pH7_4_AstraZenica_26Nov2019\",\n",
    "    hepCL_human=\"CHEMBL25-hepatocyte_clearance_AZ_26Nov2019\",\n",
    "    hepCL_rat=\"CHEMBL25-hepatocyte_clearance_rat_AZ_26Nov2019\",\n",
    "    micCL_human=\"CHEMBL25-microsomal_clearance_human_AZprotocl_26Nov2019\"\n",
    ")\n",
    "# Phospholipidosis dataset is not included above because the 'Standard Value' column is empty; it's a classification\n",
    "# dataset where the classes are in the Comment column. Need to treat it specially.\n",
    "chembl_dsets"
   ]
  },
  {
   "cell_type": "code",
   "execution_count": 5,
   "metadata": {},
   "outputs": [
    {
     "data": {
      "text/plain": [
       "{'PARP1': 'CHEMBL3105',\n",
       " 'PARP2': 'CHEMBL5366',\n",
       " 'CYP3A4': 'CHEMBL340',\n",
       " 'CYP2C9': 'CHEMBL3397'}"
      ]
     },
     "execution_count": 5,
     "metadata": {},
     "output_type": "execute_result"
    }
   ],
   "source": [
    "# ChEMBL target IDs for *human* Targets\n",
    "# You need to manually find the CHEMBL ID for the specific target you want to explore.\n",
    "# E.g. for CYP3A4, search for 'Cytochrome 450 3a4' in chenbl online database, then select chembl id 'CHEMBL340'.\n",
    "chembl_target_id = dict(PARP1='CHEMBL3105', PARP2='CHEMBL5366', CYP3A4='CHEMBL340', CYP2C9='CHEMBL3397')\n",
    "chembl_target_id"
   ]
  },
  {
   "cell_type": "code",
   "execution_count": 6,
   "metadata": {},
   "outputs": [],
   "source": [
    "import chembl  # code/chembl.py which have functions for sql chembl db connector\n",
    "import atomsci.ddm.utils.struct_utils as su\n",
    "\n",
    "# This function was written to extract PARP data from ChEMBL, but this works for all targets. \n",
    "# target='PARP1' (default), you can call with any other target.\n",
    "def get_raw_chembl_parp_activity_data(target='PARP1', activity_type='IC50', db_version='30', force_update=False):\n",
    "    \"\"\"\n",
    "    Query ChEMBL for measurements of PARP1 or PARP2 activity of the given type.\n",
    "    \"\"\"\n",
    "    raw_file = f\"{raw_dir}/{target}_{activity_type}_chembl{db_version}.csv\"\n",
    "    if os.path.isfile(raw_file) and not force_update:\n",
    "        print(f\"Using existing raw {target} {activity_type} data from ChEMBL {db_version}\")\n",
    "        raw_df = pd.read_csv(raw_file)\n",
    "        return raw_df\n",
    "    # Note that the column names with chembl id was renamed while downloading, to distinguish multiple occurences.\n",
    "    # Manual data curation may not have same column names. Before going to next step make sure you have same column names as this. I will write the column names in next step.\n",
    "    print(f\"Querying raw {target} {activity_type} data from ChEMBL {db_version}\")\n",
    "    with chembl.connect(version=db_version) as con:\n",
    "        sql = ' '.join([\n",
    "                     \"SELECT DISTINCT act.activity_id, mol.chembl_id AS mol_chembl_id, cr.compound_name,\",\n",
    "                     \"a.chembl_id AS assay_chembl_id, a.assay_type, a.assay_cell_type, a.assay_organism,\",\n",
    "                     \"t.pref_name, a.description, act.standard_type,\",\n",
    "                     \"act.standard_relation, act.standard_value, act.standard_units, cs.canonical_smiles,\",\n",
    "                     \"doc.chembl_id AS doc_chembl_id, doc.title, doc.journal, doc.year, doc.volume, doc.issue,\",\n",
    "                     \"doc.first_page, doc.last_page, doc.doi, doc.pubmed_id, doc.patent_id\", \n",
    "                     \"FROM assays a, activities act, compound_records cr, compound_structures cs,\",\n",
    "                     \"target_dictionary t, molecule_dictionary mol, docs doc\",\n",
    "                     \"WHERE a.tid = t.tid\",\n",
    "                     f\"AND t.chembl_id = '{chembl_target_id[target]}'\",\n",
    "                     \"AND act.assay_id = a.assay_id\",\n",
    "                     f\"AND act.standard_type = '{activity_type}'\",\n",
    "                     \"AND act.standard_value IS NOT NULL\",\n",
    "                     \"AND act.standard_units IS NOT NULL\",\n",
    "                     \"AND act.molregno = cr.molregno\",\n",
    "                     \"AND act.molregno = mol.molregno\",\n",
    "                     \"AND act.doc_id = doc.doc_id\",\n",
    "                     \"AND cs.molregno = cr.molregno\"])\n",
    "        raw_df = pd.read_sql(sql, con=con)\n",
    "        raw_df = raw_df.drop_duplicates(subset='activity_id')\n",
    "  \n",
    "#          # Add a reference column formatted the same way as in GoStar to facilitate checking for duplicates\n",
    "# #         references = []\n",
    "# #         for row in raw_df.itertuples():\n",
    "# #             if row.volume is None:\n",
    "# #                 volume = ''\n",
    "# #             elif type(row.volume) == str:\n",
    "# #                 volume = f\"{float(row.volume):.0f}\"\n",
    "# #             else:\n",
    "# #                 volume = f\"{row.volume:.0f}\"\n",
    "# #             if row.issue is None:\n",
    "# #                 issue = ''\n",
    "# #             elif type(row.issue) == str:\n",
    "# #                 issue = f\"{float(row.issue):.0f}\"\n",
    "# #             else:\n",
    "# #                 issue = f\"{row.issue:.0f}\"\n",
    "# #             if row.journal is None:\n",
    "# #                 journal = ''\n",
    "# #             else:\n",
    "# #                 journal = row.journal.replace('.', '')\n",
    "# #             if not (row.patent_id is None):\n",
    "# #                 references.append(row.patent_id)\n",
    "# #             elif not (row.year is None):\n",
    "# #                 references.append(f\"{journal}, {row.year:.0f}, {volume} ({issue}), {row.first_page}-{row.last_page}\")\n",
    "# #             else:\n",
    "# #                 references.append(\"\")\n",
    "# #         raw_df['reference'] = references\n",
    "        \n",
    "#         # Add a salt-stripped RDKit SMILES column. We only do that here so we can count unique compounds.\n",
    "#         raw_df['base_rdkit_smiles'] = su.base_smiles_from_smiles(raw_df.canonical_smiles.values.tolist(), workers=16)\n",
    "#         raw_df = raw_df[raw_df.base_rdkit_smiles != '']\n",
    "\n",
    "#         # Map ChEMBL column names to corresponding DTC columns, so we can combine tables later, if needed\n",
    "#         raw_df = raw_df.rename(columns={\n",
    "#                         'mol_chembl_id': 'compound_id',\n",
    "#                         'assay_chembl_id': 'assay_id',\n",
    "#                         'assay_cell_type': 'cells_cellline_organ',\n",
    "#                         'assay_organism': 'species',\n",
    "#                         'pref_name': 'standard_name',\n",
    "#                         'description': 'enzyme_cell_assay',\n",
    "#                         'standard_type': 'activity_type',\n",
    "#                         'standard_relation': 'activity_prefix',\n",
    "#                         'standard_value': 'activity_value',\n",
    "#                         'standard_units': 'activity_uom',\n",
    "#                         'canonical_smiles': 'original_smiles',\n",
    "#                         'doc_chembl_id': 'ref_id',\n",
    "#                     })\n",
    "\n",
    "#         raw_df.to_csv(raw_file, index=False)\n",
    "#         print(f\"Wrote {target} {activity_type}s to {raw_file}\")\n",
    "\n",
    "#         # Make a table of unique assays with record and compound counts\n",
    "#         fr_df = cd.freq_table(raw_df, 'assay_id').rename(columns={'Count': 'assay_records'})\n",
    "#         fr_df['assay_cmpds'] = [len(set(raw_df.loc[raw_df.assay_id == id, 'base_rdkit_smiles'].values)) \n",
    "#                                     for id in fr_df.assay_id.values]\n",
    "#         assay_df = raw_df.drop_duplicates(subset='assay_id')\n",
    "#         assay_df = assay_df.merge(fr_df, how='left', on='assay_id')\n",
    "#         assay_file = f\"{dset_dir}/{target}_{activity_type}_chembl{db_version}_assays.csv\"\n",
    "#         assay_df.to_csv(assay_file, index=False)\n",
    "#         print(f\"Wrote {target} assays to {assay_file}\")\n",
    "\n",
    "#         # Do the same for documents (references)\n",
    "#         fr_df = cd.freq_table(raw_df, 'ref_id').rename(columns={'Count': 'ref_records'})\n",
    "#         fr_df['ref_cmpds'] = [len(set(raw_df.loc[raw_df.ref_id == id, 'base_rdkit_smiles'].values)) \n",
    "#                                     for id in fr_df.ref_id.values]\n",
    "#         ref_df = raw_df.drop_duplicates(subset='ref_id')\n",
    "#         ref_df = ref_df.merge(fr_df, how='left', on='ref_id')\n",
    "#         ref_file = f\"{dset_dir}/{target}_{activity_type}_chembl{db_version}_refs.csv\"\n",
    "#         ref_df.to_csv(ref_file, index=False)\n",
    "#         print(f\"Wrote {target} references to {ref_file}\")\n",
    "#         print(f\"{target}: {len(raw_df)} activities, {len(set(raw_df.base_rdkit_smiles.values))} compounds, {len(assay_df)} assays, {len(ref_df)} references\")\n",
    "#         \n",
    "        raw_df.to_csv(raw_file, index=False)\n",
    "        print(f\"Wrote {target} {activity_type}s to {raw_file}\")\n",
    "        return raw_df"
   ]
  },
  {
   "cell_type": "markdown",
   "metadata": {},
   "source": [
    "## Process raw activity data from ChEMBL"
   ]
  },
  {
   "cell_type": "code",
   "execution_count": 7,
   "metadata": {},
   "outputs": [
    {
     "name": "stdout",
     "output_type": "stream",
     "text": [
      "Querying raw CYP2C9 IC50 data from ChEMBL 30\n",
      "Wrote CYP2C9 IC50s to Data//chembl/raw/CYP2C9_IC50_chembl30.csv\n",
      "Querying raw CYP2C9 AC50 data from ChEMBL 30\n",
      "Wrote CYP2C9 AC50s to Data//chembl/raw/CYP2C9_AC50_chembl30.csv\n",
      "Querying raw CYP2C9 EC50 data from ChEMBL 30\n",
      "Wrote CYP2C9 EC50s to Data//chembl/raw/CYP2C9_EC50_chembl30.csv\n",
      "Querying raw CYP2C9 Ki data from ChEMBL 30\n",
      "Wrote CYP2C9 Kis to Data//chembl/raw/CYP2C9_Ki_chembl30.csv\n",
      "Querying raw CYP2C9 Inhibition data from ChEMBL 30\n",
      "Wrote CYP2C9 Inhibitions to Data//chembl/raw/CYP2C9_Inhibition_chembl30.csv\n"
     ]
    },
    {
     "data": {
      "text/html": [
       "<div>\n",
       "<style scoped>\n",
       "    .dataframe tbody tr th:only-of-type {\n",
       "        vertical-align: middle;\n",
       "    }\n",
       "\n",
       "    .dataframe tbody tr th {\n",
       "        vertical-align: top;\n",
       "    }\n",
       "\n",
       "    .dataframe thead th {\n",
       "        text-align: right;\n",
       "    }\n",
       "</style>\n",
       "<table border=\"1\" class=\"dataframe\">\n",
       "  <thead>\n",
       "    <tr style=\"text-align: right;\">\n",
       "      <th></th>\n",
       "      <th>activity_id</th>\n",
       "      <th>mol_chembl_id</th>\n",
       "      <th>compound_name</th>\n",
       "      <th>assay_chembl_id</th>\n",
       "      <th>assay_type</th>\n",
       "      <th>assay_cell_type</th>\n",
       "      <th>assay_organism</th>\n",
       "      <th>pref_name</th>\n",
       "      <th>description</th>\n",
       "      <th>standard_type</th>\n",
       "      <th>standard_relation</th>\n",
       "      <th>standard_value</th>\n",
       "      <th>standard_units</th>\n",
       "      <th>canonical_smiles</th>\n",
       "      <th>doc_chembl_id</th>\n",
       "      <th>title</th>\n",
       "      <th>journal</th>\n",
       "      <th>year</th>\n",
       "      <th>volume</th>\n",
       "      <th>issue</th>\n",
       "      <th>first_page</th>\n",
       "      <th>last_page</th>\n",
       "      <th>doi</th>\n",
       "      <th>pubmed_id</th>\n",
       "      <th>patent_id</th>\n",
       "    </tr>\n",
       "  </thead>\n",
       "  <tbody>\n",
       "    <tr>\n",
       "      <th>0</th>\n",
       "      <td>111517</td>\n",
       "      <td>CHEMBL71472</td>\n",
       "      <td>Ethyl-sulfamic acid 5-tert-butyl-4-{4-hydroxy-...</td>\n",
       "      <td>CHEMBL660952</td>\n",
       "      <td>A</td>\n",
       "      <td>None</td>\n",
       "      <td>None</td>\n",
       "      <td>Cytochrome P450 2C9</td>\n",
       "      <td>Inhibition of Cytochrome P450 2C9 at 1 uM</td>\n",
       "      <td>Inhibition</td>\n",
       "      <td>=</td>\n",
       "      <td>0.0</td>\n",
       "      <td>%</td>\n",
       "      <td>CCNS(=O)(=O)Oc1cc(C(C)(C)C)c(SC2=C(O)OC(C)(CCc...</td>\n",
       "      <td>CHEMBL1131822</td>\n",
       "      <td>Nonpeptidic HIV protease inhibitors: 6-alkyl-5...</td>\n",
       "      <td>Bioorg. Med. Chem. Lett.</td>\n",
       "      <td>1999.0</td>\n",
       "      <td>9</td>\n",
       "      <td>15</td>\n",
       "      <td>2217</td>\n",
       "      <td>2222</td>\n",
       "      <td>10.1016/s0960-894x(99)00360-1</td>\n",
       "      <td>10465549.0</td>\n",
       "      <td>None</td>\n",
       "    </tr>\n",
       "    <tr>\n",
       "      <th>1</th>\n",
       "      <td>111518</td>\n",
       "      <td>CHEMBL71472</td>\n",
       "      <td>Ethyl-sulfamic acid 5-tert-butyl-4-{4-hydroxy-...</td>\n",
       "      <td>CHEMBL660951</td>\n",
       "      <td>A</td>\n",
       "      <td>None</td>\n",
       "      <td>None</td>\n",
       "      <td>Cytochrome P450 2C9</td>\n",
       "      <td>Inhibition of Cytochrome P450 2C9 at 10 uM</td>\n",
       "      <td>Inhibition</td>\n",
       "      <td>=</td>\n",
       "      <td>6.0</td>\n",
       "      <td>%</td>\n",
       "      <td>CCNS(=O)(=O)Oc1cc(C(C)(C)C)c(SC2=C(O)OC(C)(CCc...</td>\n",
       "      <td>CHEMBL1131822</td>\n",
       "      <td>Nonpeptidic HIV protease inhibitors: 6-alkyl-5...</td>\n",
       "      <td>Bioorg. Med. Chem. Lett.</td>\n",
       "      <td>1999.0</td>\n",
       "      <td>9</td>\n",
       "      <td>15</td>\n",
       "      <td>2217</td>\n",
       "      <td>2222</td>\n",
       "      <td>10.1016/s0960-894x(99)00360-1</td>\n",
       "      <td>10465549.0</td>\n",
       "      <td>None</td>\n",
       "    </tr>\n",
       "    <tr>\n",
       "      <th>2</th>\n",
       "      <td>111519</td>\n",
       "      <td>CHEMBL71472</td>\n",
       "      <td>Ethyl-sulfamic acid 5-tert-butyl-4-{4-hydroxy-...</td>\n",
       "      <td>CHEMBL660950</td>\n",
       "      <td>A</td>\n",
       "      <td>None</td>\n",
       "      <td>None</td>\n",
       "      <td>Cytochrome P450 2C9</td>\n",
       "      <td>Inhibition of Cytochrome P450 2C9 at 100 uM</td>\n",
       "      <td>Inhibition</td>\n",
       "      <td>=</td>\n",
       "      <td>46.0</td>\n",
       "      <td>%</td>\n",
       "      <td>CCNS(=O)(=O)Oc1cc(C(C)(C)C)c(SC2=C(O)OC(C)(CCc...</td>\n",
       "      <td>CHEMBL1131822</td>\n",
       "      <td>Nonpeptidic HIV protease inhibitors: 6-alkyl-5...</td>\n",
       "      <td>Bioorg. Med. Chem. Lett.</td>\n",
       "      <td>1999.0</td>\n",
       "      <td>9</td>\n",
       "      <td>15</td>\n",
       "      <td>2217</td>\n",
       "      <td>2222</td>\n",
       "      <td>10.1016/s0960-894x(99)00360-1</td>\n",
       "      <td>10465549.0</td>\n",
       "      <td>None</td>\n",
       "    </tr>\n",
       "    <tr>\n",
       "      <th>3</th>\n",
       "      <td>136755</td>\n",
       "      <td>CHEMBL285759</td>\n",
       "      <td>(S)-6-[2-(4-Amino-phenyl)-ethyl]-3-(2-tert-but...</td>\n",
       "      <td>CHEMBL660952</td>\n",
       "      <td>A</td>\n",
       "      <td>None</td>\n",
       "      <td>None</td>\n",
       "      <td>Cytochrome P450 2C9</td>\n",
       "      <td>Inhibition of Cytochrome P450 2C9 at 1 uM</td>\n",
       "      <td>Inhibition</td>\n",
       "      <td>=</td>\n",
       "      <td>2.0</td>\n",
       "      <td>%</td>\n",
       "      <td>Cc1cc(SC2=C(O)O[C@](CCc3ccc(N)cc3)(C(C)C)CC2=O...</td>\n",
       "      <td>CHEMBL1131822</td>\n",
       "      <td>Nonpeptidic HIV protease inhibitors: 6-alkyl-5...</td>\n",
       "      <td>Bioorg. Med. Chem. Lett.</td>\n",
       "      <td>1999.0</td>\n",
       "      <td>9</td>\n",
       "      <td>15</td>\n",
       "      <td>2217</td>\n",
       "      <td>2222</td>\n",
       "      <td>10.1016/s0960-894x(99)00360-1</td>\n",
       "      <td>10465549.0</td>\n",
       "      <td>None</td>\n",
       "    </tr>\n",
       "    <tr>\n",
       "      <th>5</th>\n",
       "      <td>136756</td>\n",
       "      <td>CHEMBL285759</td>\n",
       "      <td>(S)-6-[2-(4-Amino-phenyl)-ethyl]-3-(2-tert-but...</td>\n",
       "      <td>CHEMBL660948</td>\n",
       "      <td>A</td>\n",
       "      <td>None</td>\n",
       "      <td>None</td>\n",
       "      <td>Cytochrome P450 2C9</td>\n",
       "      <td>Inhibition of Cytochrome P450 2C9 at 10 uM</td>\n",
       "      <td>Inhibition</td>\n",
       "      <td>=</td>\n",
       "      <td>12.0</td>\n",
       "      <td>%</td>\n",
       "      <td>Cc1cc(SC2=C(O)O[C@](CCc3ccc(N)cc3)(C(C)C)CC2=O...</td>\n",
       "      <td>CHEMBL1131822</td>\n",
       "      <td>Nonpeptidic HIV protease inhibitors: 6-alkyl-5...</td>\n",
       "      <td>Bioorg. Med. Chem. Lett.</td>\n",
       "      <td>1999.0</td>\n",
       "      <td>9</td>\n",
       "      <td>15</td>\n",
       "      <td>2217</td>\n",
       "      <td>2222</td>\n",
       "      <td>10.1016/s0960-894x(99)00360-1</td>\n",
       "      <td>10465549.0</td>\n",
       "      <td>None</td>\n",
       "    </tr>\n",
       "    <tr>\n",
       "      <th>...</th>\n",
       "      <td>...</td>\n",
       "      <td>...</td>\n",
       "      <td>...</td>\n",
       "      <td>...</td>\n",
       "      <td>...</td>\n",
       "      <td>...</td>\n",
       "      <td>...</td>\n",
       "      <td>...</td>\n",
       "      <td>...</td>\n",
       "      <td>...</td>\n",
       "      <td>...</td>\n",
       "      <td>...</td>\n",
       "      <td>...</td>\n",
       "      <td>...</td>\n",
       "      <td>...</td>\n",
       "      <td>...</td>\n",
       "      <td>...</td>\n",
       "      <td>...</td>\n",
       "      <td>...</td>\n",
       "      <td>...</td>\n",
       "      <td>...</td>\n",
       "      <td>...</td>\n",
       "      <td>...</td>\n",
       "      <td>...</td>\n",
       "      <td>...</td>\n",
       "    </tr>\n",
       "    <tr>\n",
       "      <th>4832</th>\n",
       "      <td>22976278</td>\n",
       "      <td>CHEMBL4798308</td>\n",
       "      <td>4-(Thiophen-2-yl)-1-(4-(4-(trifluoromethyl)phe...</td>\n",
       "      <td>CHEMBL4771893</td>\n",
       "      <td>A</td>\n",
       "      <td>None</td>\n",
       "      <td>Homo sapiens</td>\n",
       "      <td>Cytochrome P450 2C9</td>\n",
       "      <td>Inhibition of human CYP2C9 using fluorogenic s...</td>\n",
       "      <td>Inhibition</td>\n",
       "      <td>=</td>\n",
       "      <td>74.2</td>\n",
       "      <td>%</td>\n",
       "      <td>O=C(CCCc1cccs1)N1CCN(c2ccc(C(F)(F)F)cc2)CC1</td>\n",
       "      <td>CHEMBL4765370</td>\n",
       "      <td>Design, synthesis, and biological evaluation o...</td>\n",
       "      <td>Eur J Med Chem</td>\n",
       "      <td>2020.0</td>\n",
       "      <td>202</td>\n",
       "      <td>None</td>\n",
       "      <td>112416</td>\n",
       "      <td>112416</td>\n",
       "      <td>10.1016/j.ejmech.2020.112416</td>\n",
       "      <td>32645646.0</td>\n",
       "      <td>None</td>\n",
       "    </tr>\n",
       "    <tr>\n",
       "      <th>4833</th>\n",
       "      <td>22983649</td>\n",
       "      <td>CHEMBL4799439</td>\n",
       "      <td>(S)-2-Methyl-4-(4-methylpiperazin-1-yl)-6-((2-...</td>\n",
       "      <td>CHEMBL4773470</td>\n",
       "      <td>A</td>\n",
       "      <td>None</td>\n",
       "      <td>Homo sapiens</td>\n",
       "      <td>Cytochrome P450 2C9</td>\n",
       "      <td>Inhibition of CYP2C9 in human liver microsomes...</td>\n",
       "      <td>Inhibition</td>\n",
       "      <td>=</td>\n",
       "      <td>1.0</td>\n",
       "      <td>%</td>\n",
       "      <td>Cc1nc(CN2CCC[C@H]2c2ncccc2C)cc(N2CCN(C)CC2)n1</td>\n",
       "      <td>CHEMBL4765416</td>\n",
       "      <td>Design, synthesis, and evaluation of pyrrolidi...</td>\n",
       "      <td>Eur J Med Chem</td>\n",
       "      <td>2020.0</td>\n",
       "      <td>205</td>\n",
       "      <td>None</td>\n",
       "      <td>112537</td>\n",
       "      <td>112537</td>\n",
       "      <td>10.1016/j.ejmech.2020.112537</td>\n",
       "      <td>32768738.0</td>\n",
       "      <td>None</td>\n",
       "    </tr>\n",
       "    <tr>\n",
       "      <th>4834</th>\n",
       "      <td>22992013</td>\n",
       "      <td>CHEMBL4787096</td>\n",
       "      <td>(S)-3-(1-(5-fluoro-2-(1H-pyrazol-1-yl)phenyl)e...</td>\n",
       "      <td>CHEMBL4775386</td>\n",
       "      <td>A</td>\n",
       "      <td>None</td>\n",
       "      <td>Homo sapiens</td>\n",
       "      <td>Cytochrome P450 2C9</td>\n",
       "      <td>Inhibition of CYP2C9 (unknown origin) at 3 uM ...</td>\n",
       "      <td>Inhibition</td>\n",
       "      <td>&lt;</td>\n",
       "      <td>50.0</td>\n",
       "      <td>%</td>\n",
       "      <td>Cc1n[nH]cc1-c1cnc(N)c(O[C@@H](C)c2cc(F)ccc2-n2...</td>\n",
       "      <td>CHEMBL4765473</td>\n",
       "      <td>PF-07059013: A Noncovalent Modulator of Hemogl...</td>\n",
       "      <td>J Med Chem</td>\n",
       "      <td>2021.0</td>\n",
       "      <td>64</td>\n",
       "      <td>1.0</td>\n",
       "      <td>326</td>\n",
       "      <td>342</td>\n",
       "      <td>10.1021/acs.jmedchem.0c01518</td>\n",
       "      <td>33356244.0</td>\n",
       "      <td>None</td>\n",
       "    </tr>\n",
       "    <tr>\n",
       "      <th>4835</th>\n",
       "      <td>23063435</td>\n",
       "      <td>CHEMBL4537788</td>\n",
       "      <td>BAY_784</td>\n",
       "      <td>CHEMBL4508920</td>\n",
       "      <td>B</td>\n",
       "      <td>None</td>\n",
       "      <td>Homo sapiens</td>\n",
       "      <td>Cytochrome P450 2C9</td>\n",
       "      <td>CYP450, 2C9 Eurofins-Panlabs enzyme assay</td>\n",
       "      <td>Inhibition</td>\n",
       "      <td>None</td>\n",
       "      <td>32.0</td>\n",
       "      <td>%</td>\n",
       "      <td>O=C(NCc1ncc(C(F)(F)F)cc1Cl)c1ccc2c(c1)C1(CCS(=...</td>\n",
       "      <td>CHEMBL4507266</td>\n",
       "      <td>Data for DCP probe BAY-784</td>\n",
       "      <td>None</td>\n",
       "      <td>2021.0</td>\n",
       "      <td>None</td>\n",
       "      <td>None</td>\n",
       "      <td>None</td>\n",
       "      <td>None</td>\n",
       "      <td>10.6019/CHEMBL4507266</td>\n",
       "      <td>NaN</td>\n",
       "      <td>None</td>\n",
       "    </tr>\n",
       "    <tr>\n",
       "      <th>4838</th>\n",
       "      <td>23097332</td>\n",
       "      <td>CHEMBL3286797</td>\n",
       "      <td>1-(4-fluorobenzoyl)-3-((6-methoxynaphthalen-2-...</td>\n",
       "      <td>CHEMBL4510879</td>\n",
       "      <td>B</td>\n",
       "      <td>None</td>\n",
       "      <td>None</td>\n",
       "      <td>Cytochrome P450 2C9</td>\n",
       "      <td>CYP2C9 inhibition CEREP ligand profiling</td>\n",
       "      <td>Inhibition</td>\n",
       "      <td>None</td>\n",
       "      <td>41.0</td>\n",
       "      <td>%</td>\n",
       "      <td>COc1ccc2cc(OCC3(C(=O)O)CN(C(=O)c4ccc(F)cc4)C3)...</td>\n",
       "      <td>CHEMBL4507298</td>\n",
       "      <td>Data for DCP probe PF-04418948</td>\n",
       "      <td>None</td>\n",
       "      <td>2021.0</td>\n",
       "      <td>None</td>\n",
       "      <td>None</td>\n",
       "      <td>None</td>\n",
       "      <td>None</td>\n",
       "      <td>10.6019/CHEMBL4507298</td>\n",
       "      <td>NaN</td>\n",
       "      <td>None</td>\n",
       "    </tr>\n",
       "  </tbody>\n",
       "</table>\n",
       "<p>1798 rows × 25 columns</p>\n",
       "</div>"
      ],
      "text/plain": [
       "      activity_id  mol_chembl_id  \\\n",
       "0          111517    CHEMBL71472   \n",
       "1          111518    CHEMBL71472   \n",
       "2          111519    CHEMBL71472   \n",
       "3          136755   CHEMBL285759   \n",
       "5          136756   CHEMBL285759   \n",
       "...           ...            ...   \n",
       "4832     22976278  CHEMBL4798308   \n",
       "4833     22983649  CHEMBL4799439   \n",
       "4834     22992013  CHEMBL4787096   \n",
       "4835     23063435  CHEMBL4537788   \n",
       "4838     23097332  CHEMBL3286797   \n",
       "\n",
       "                                          compound_name assay_chembl_id  \\\n",
       "0     Ethyl-sulfamic acid 5-tert-butyl-4-{4-hydroxy-...    CHEMBL660952   \n",
       "1     Ethyl-sulfamic acid 5-tert-butyl-4-{4-hydroxy-...    CHEMBL660951   \n",
       "2     Ethyl-sulfamic acid 5-tert-butyl-4-{4-hydroxy-...    CHEMBL660950   \n",
       "3     (S)-6-[2-(4-Amino-phenyl)-ethyl]-3-(2-tert-but...    CHEMBL660952   \n",
       "5     (S)-6-[2-(4-Amino-phenyl)-ethyl]-3-(2-tert-but...    CHEMBL660948   \n",
       "...                                                 ...             ...   \n",
       "4832  4-(Thiophen-2-yl)-1-(4-(4-(trifluoromethyl)phe...   CHEMBL4771893   \n",
       "4833  (S)-2-Methyl-4-(4-methylpiperazin-1-yl)-6-((2-...   CHEMBL4773470   \n",
       "4834  (S)-3-(1-(5-fluoro-2-(1H-pyrazol-1-yl)phenyl)e...   CHEMBL4775386   \n",
       "4835                                            BAY_784   CHEMBL4508920   \n",
       "4838  1-(4-fluorobenzoyl)-3-((6-methoxynaphthalen-2-...   CHEMBL4510879   \n",
       "\n",
       "     assay_type assay_cell_type assay_organism            pref_name  \\\n",
       "0             A            None           None  Cytochrome P450 2C9   \n",
       "1             A            None           None  Cytochrome P450 2C9   \n",
       "2             A            None           None  Cytochrome P450 2C9   \n",
       "3             A            None           None  Cytochrome P450 2C9   \n",
       "5             A            None           None  Cytochrome P450 2C9   \n",
       "...         ...             ...            ...                  ...   \n",
       "4832          A            None   Homo sapiens  Cytochrome P450 2C9   \n",
       "4833          A            None   Homo sapiens  Cytochrome P450 2C9   \n",
       "4834          A            None   Homo sapiens  Cytochrome P450 2C9   \n",
       "4835          B            None   Homo sapiens  Cytochrome P450 2C9   \n",
       "4838          B            None           None  Cytochrome P450 2C9   \n",
       "\n",
       "                                            description standard_type  \\\n",
       "0             Inhibition of Cytochrome P450 2C9 at 1 uM    Inhibition   \n",
       "1            Inhibition of Cytochrome P450 2C9 at 10 uM    Inhibition   \n",
       "2           Inhibition of Cytochrome P450 2C9 at 100 uM    Inhibition   \n",
       "3             Inhibition of Cytochrome P450 2C9 at 1 uM    Inhibition   \n",
       "5            Inhibition of Cytochrome P450 2C9 at 10 uM    Inhibition   \n",
       "...                                                 ...           ...   \n",
       "4832  Inhibition of human CYP2C9 using fluorogenic s...    Inhibition   \n",
       "4833  Inhibition of CYP2C9 in human liver microsomes...    Inhibition   \n",
       "4834  Inhibition of CYP2C9 (unknown origin) at 3 uM ...    Inhibition   \n",
       "4835          CYP450, 2C9 Eurofins-Panlabs enzyme assay    Inhibition   \n",
       "4838           CYP2C9 inhibition CEREP ligand profiling    Inhibition   \n",
       "\n",
       "     standard_relation  standard_value standard_units  \\\n",
       "0                    =             0.0              %   \n",
       "1                    =             6.0              %   \n",
       "2                    =            46.0              %   \n",
       "3                    =             2.0              %   \n",
       "5                    =            12.0              %   \n",
       "...                ...             ...            ...   \n",
       "4832                 =            74.2              %   \n",
       "4833                 =             1.0              %   \n",
       "4834                 <            50.0              %   \n",
       "4835              None            32.0              %   \n",
       "4838              None            41.0              %   \n",
       "\n",
       "                                       canonical_smiles  doc_chembl_id  \\\n",
       "0     CCNS(=O)(=O)Oc1cc(C(C)(C)C)c(SC2=C(O)OC(C)(CCc...  CHEMBL1131822   \n",
       "1     CCNS(=O)(=O)Oc1cc(C(C)(C)C)c(SC2=C(O)OC(C)(CCc...  CHEMBL1131822   \n",
       "2     CCNS(=O)(=O)Oc1cc(C(C)(C)C)c(SC2=C(O)OC(C)(CCc...  CHEMBL1131822   \n",
       "3     Cc1cc(SC2=C(O)O[C@](CCc3ccc(N)cc3)(C(C)C)CC2=O...  CHEMBL1131822   \n",
       "5     Cc1cc(SC2=C(O)O[C@](CCc3ccc(N)cc3)(C(C)C)CC2=O...  CHEMBL1131822   \n",
       "...                                                 ...            ...   \n",
       "4832        O=C(CCCc1cccs1)N1CCN(c2ccc(C(F)(F)F)cc2)CC1  CHEMBL4765370   \n",
       "4833      Cc1nc(CN2CCC[C@H]2c2ncccc2C)cc(N2CCN(C)CC2)n1  CHEMBL4765416   \n",
       "4834  Cc1n[nH]cc1-c1cnc(N)c(O[C@@H](C)c2cc(F)ccc2-n2...  CHEMBL4765473   \n",
       "4835  O=C(NCc1ncc(C(F)(F)F)cc1Cl)c1ccc2c(c1)C1(CCS(=...  CHEMBL4507266   \n",
       "4838  COc1ccc2cc(OCC3(C(=O)O)CN(C(=O)c4ccc(F)cc4)C3)...  CHEMBL4507298   \n",
       "\n",
       "                                                  title  \\\n",
       "0     Nonpeptidic HIV protease inhibitors: 6-alkyl-5...   \n",
       "1     Nonpeptidic HIV protease inhibitors: 6-alkyl-5...   \n",
       "2     Nonpeptidic HIV protease inhibitors: 6-alkyl-5...   \n",
       "3     Nonpeptidic HIV protease inhibitors: 6-alkyl-5...   \n",
       "5     Nonpeptidic HIV protease inhibitors: 6-alkyl-5...   \n",
       "...                                                 ...   \n",
       "4832  Design, synthesis, and biological evaluation o...   \n",
       "4833  Design, synthesis, and evaluation of pyrrolidi...   \n",
       "4834  PF-07059013: A Noncovalent Modulator of Hemogl...   \n",
       "4835                         Data for DCP probe BAY-784   \n",
       "4838                     Data for DCP probe PF-04418948   \n",
       "\n",
       "                       journal    year volume issue first_page last_page  \\\n",
       "0     Bioorg. Med. Chem. Lett.  1999.0      9    15       2217      2222   \n",
       "1     Bioorg. Med. Chem. Lett.  1999.0      9    15       2217      2222   \n",
       "2     Bioorg. Med. Chem. Lett.  1999.0      9    15       2217      2222   \n",
       "3     Bioorg. Med. Chem. Lett.  1999.0      9    15       2217      2222   \n",
       "5     Bioorg. Med. Chem. Lett.  1999.0      9    15       2217      2222   \n",
       "...                        ...     ...    ...   ...        ...       ...   \n",
       "4832            Eur J Med Chem  2020.0    202  None     112416    112416   \n",
       "4833            Eur J Med Chem  2020.0    205  None     112537    112537   \n",
       "4834                J Med Chem  2021.0     64   1.0        326       342   \n",
       "4835                      None  2021.0   None  None       None      None   \n",
       "4838                      None  2021.0   None  None       None      None   \n",
       "\n",
       "                                doi   pubmed_id patent_id  \n",
       "0     10.1016/s0960-894x(99)00360-1  10465549.0      None  \n",
       "1     10.1016/s0960-894x(99)00360-1  10465549.0      None  \n",
       "2     10.1016/s0960-894x(99)00360-1  10465549.0      None  \n",
       "3     10.1016/s0960-894x(99)00360-1  10465549.0      None  \n",
       "5     10.1016/s0960-894x(99)00360-1  10465549.0      None  \n",
       "...                             ...         ...       ...  \n",
       "4832   10.1016/j.ejmech.2020.112416  32645646.0      None  \n",
       "4833   10.1016/j.ejmech.2020.112537  32768738.0      None  \n",
       "4834   10.1021/acs.jmedchem.0c01518  33356244.0      None  \n",
       "4835          10.6019/CHEMBL4507266         NaN      None  \n",
       "4838          10.6019/CHEMBL4507298         NaN      None  \n",
       "\n",
       "[1798 rows x 25 columns]"
      ]
     },
     "execution_count": 7,
     "metadata": {},
     "output_type": "execute_result"
    }
   ],
   "source": [
    "#imp.reload(cpd)\n",
    "# Note: get_raw_chembl_parp_activity_data() ONLY WORKS FOR LC, AS THEY HAVE MYSQL AND CHEMBL INSTALLED !\n",
    "get_raw_chembl_parp_activity_data('CYP2C9', 'IC50', force_update=True)\n",
    "get_raw_chembl_parp_activity_data('CYP2C9', 'AC50', force_update=True)\n",
    "get_raw_chembl_parp_activity_data('CYP2C9', 'EC50', force_update=True)\n",
    "get_raw_chembl_parp_activity_data('CYP2C9', 'Ki', force_update=True)\n",
    "get_raw_chembl_parp_activity_data('CYP2C9', 'Inhibition', force_update=True)\n",
    "#get_raw_chembl_parp_activity_data('CYP2C9', 'CL', force_update=True)"
   ]
  },
  {
   "cell_type": "markdown",
   "metadata": {},
   "source": [
    "### At this point, we have downloaded ChEMBL data for different types of activities e.g. IC50, AC50, EC50, Ki, Inhibition percentage. \n",
    "\n",
    "#### Next, we need to check if columns of each downloaded CSV file is in same format and same names. "
   ]
  },
  {
   "cell_type": "code",
   "execution_count": 7,
   "metadata": {},
   "outputs": [
    {
     "data": {
      "text/plain": [
       "Index(['activity_id', 'mol_chembl_id', 'compound_name', 'assay_chembl_id',\n",
       "       'assay_type', 'assay_cell_type', 'assay_organism', 'pref_name',\n",
       "       'description', 'standard_type', 'standard_relation', 'standard_value',\n",
       "       'standard_units', 'canonical_smiles', 'doc_chembl_id', 'title',\n",
       "       'journal', 'year', 'volume', 'issue', 'first_page', 'last_page', 'doi',\n",
       "       'pubmed_id', 'patent_id'],\n",
       "      dtype='object')"
      ]
     },
     "execution_count": 7,
     "metadata": {},
     "output_type": "execute_result"
    }
   ],
   "source": [
    "target = 'CYP2C9'\n",
    "rawdf_IC50 = pd.read_csv(f\"{raw_dir}/{target}_IC50_chembl30.csv\")\n",
    "rawdf_IC50.columns"
   ]
  },
  {
   "cell_type": "code",
   "execution_count": 8,
   "metadata": {},
   "outputs": [
    {
     "data": {
      "text/plain": [
       "Index(['activity_id', 'mol_chembl_id', 'compound_name', 'assay_chembl_id',\n",
       "       'assay_type', 'assay_cell_type', 'assay_organism', 'pref_name',\n",
       "       'description', 'standard_type', 'standard_relation', 'standard_value',\n",
       "       'standard_units', 'canonical_smiles', 'doc_chembl_id', 'title',\n",
       "       'journal', 'year', 'volume', 'issue', 'first_page', 'last_page', 'doi',\n",
       "       'pubmed_id', 'patent_id'],\n",
       "      dtype='object')"
      ]
     },
     "execution_count": 8,
     "metadata": {},
     "output_type": "execute_result"
    }
   ],
   "source": [
    "rawdf_AC50 = pd.read_csv(f\"{raw_dir}/{target}_AC50_chembl30.csv\")\n",
    "rawdf_AC50.columns"
   ]
  },
  {
   "cell_type": "code",
   "execution_count": 9,
   "metadata": {},
   "outputs": [
    {
     "data": {
      "text/plain": [
       "Index(['activity_id', 'mol_chembl_id', 'compound_name', 'assay_chembl_id',\n",
       "       'assay_type', 'assay_cell_type', 'assay_organism', 'pref_name',\n",
       "       'description', 'standard_type', 'standard_relation', 'standard_value',\n",
       "       'standard_units', 'canonical_smiles', 'doc_chembl_id', 'title',\n",
       "       'journal', 'year', 'volume', 'issue', 'first_page', 'last_page', 'doi',\n",
       "       'pubmed_id', 'patent_id'],\n",
       "      dtype='object')"
      ]
     },
     "execution_count": 9,
     "metadata": {},
     "output_type": "execute_result"
    }
   ],
   "source": [
    "rawdf_EC50 = pd.read_csv(f\"{raw_dir}/{target}_EC50_chembl30.csv\")\n",
    "rawdf_EC50.columns"
   ]
  },
  {
   "cell_type": "code",
   "execution_count": 10,
   "metadata": {},
   "outputs": [
    {
     "data": {
      "text/plain": [
       "Index(['activity_id', 'mol_chembl_id', 'compound_name', 'assay_chembl_id',\n",
       "       'assay_type', 'assay_cell_type', 'assay_organism', 'pref_name',\n",
       "       'description', 'standard_type', 'standard_relation', 'standard_value',\n",
       "       'standard_units', 'canonical_smiles', 'doc_chembl_id', 'title',\n",
       "       'journal', 'year', 'volume', 'issue', 'first_page', 'last_page', 'doi',\n",
       "       'pubmed_id', 'patent_id'],\n",
       "      dtype='object')"
      ]
     },
     "execution_count": 10,
     "metadata": {},
     "output_type": "execute_result"
    }
   ],
   "source": [
    "rawdf_Inhibition = pd.read_csv(f\"{raw_dir}/{target}_Inhibition_chembl30.csv\")\n",
    "rawdf_Inhibition.columns"
   ]
  },
  {
   "cell_type": "code",
   "execution_count": 11,
   "metadata": {},
   "outputs": [
    {
     "data": {
      "text/plain": [
       "Index(['activity_id', 'mol_chembl_id', 'compound_name', 'assay_chembl_id',\n",
       "       'assay_type', 'assay_cell_type', 'assay_organism', 'pref_name',\n",
       "       'description', 'standard_type', 'standard_relation', 'standard_value',\n",
       "       'standard_units', 'canonical_smiles', 'doc_chembl_id', 'title',\n",
       "       'journal', 'year', 'volume', 'issue', 'first_page', 'last_page', 'doi',\n",
       "       'pubmed_id', 'patent_id'],\n",
       "      dtype='object')"
      ]
     },
     "execution_count": 11,
     "metadata": {},
     "output_type": "execute_result"
    }
   ],
   "source": [
    "rawdf_Ki = pd.read_csv(f\"{raw_dir}/{target}_Ki_chembl30.csv\")\n",
    "rawdf_Ki.columns"
   ]
  },
  {
   "cell_type": "code",
   "execution_count": 13,
   "metadata": {},
   "outputs": [],
   "source": [
    "#rawdf_CL = pd.read_csv(f\"{raw_dir}/{target}_CL_chembl30.csv\")\n",
    "#rawdf_CL.columns"
   ]
  },
  {
   "cell_type": "code",
   "execution_count": 17,
   "metadata": {},
   "outputs": [
    {
     "name": "stdout",
     "output_type": "stream",
     "text": [
      "All activity dataframes have same columns\n"
     ]
    }
   ],
   "source": [
    "# check if the columns are same or not\n",
    "if (rawdf_IC50.columns.all()) == (rawdf_AC50.columns.all()) and \\\n",
    "   (rawdf_AC50.columns.all()) == (rawdf_EC50.columns.all()) and \\\n",
    "   (rawdf_EC50.columns.all()) == (rawdf_Inhibition.columns.all()) and \\\n",
    "   (rawdf_Inhibition.columns.all()) == (rawdf_Ki.columns.all()):# and \\\n",
    "   #(rawdf_Ki.columns.all()) == (rawdf_CL.columns.all()):\n",
    "    print(\"All activity dataframes have same columns\")\n"
   ]
  },
  {
   "cell_type": "markdown",
   "metadata": {},
   "source": [
    "#### Next, combine all activity data"
   ]
  },
  {
   "cell_type": "code",
   "execution_count": 18,
   "metadata": {},
   "outputs": [
    {
     "data": {
      "text/plain": [
       "[Index(['activity_id', 'mol_chembl_id', 'compound_name', 'assay_chembl_id',\n",
       "        'assay_type', 'assay_cell_type', 'assay_organism', 'pref_name',\n",
       "        'description', 'standard_type', 'standard_relation', 'standard_value',\n",
       "        'standard_units', 'canonical_smiles', 'doc_chembl_id', 'title',\n",
       "        'journal', 'year', 'volume', 'issue', 'first_page', 'last_page', 'doi',\n",
       "        'pubmed_id', 'patent_id'],\n",
       "       dtype='object'),\n",
       " (14380, 25)]"
      ]
     },
     "execution_count": 18,
     "metadata": {},
     "output_type": "execute_result"
    }
   ],
   "source": [
    "activity_df_list = [rawdf_IC50, rawdf_AC50, rawdf_EC50, rawdf_Inhibition, rawdf_Ki] #, rawdf_CL]\n",
    "raw_df = pd.concat(activity_df_list, ignore_index=True)\n",
    "[raw_df.columns, raw_df.shape]"
   ]
  },
  {
   "cell_type": "code",
   "execution_count": 19,
   "metadata": {},
   "outputs": [
    {
     "data": {
      "text/html": [
       "<div>\n",
       "<style scoped>\n",
       "    .dataframe tbody tr th:only-of-type {\n",
       "        vertical-align: middle;\n",
       "    }\n",
       "\n",
       "    .dataframe tbody tr th {\n",
       "        vertical-align: top;\n",
       "    }\n",
       "\n",
       "    .dataframe thead th {\n",
       "        text-align: right;\n",
       "    }\n",
       "</style>\n",
       "<table border=\"1\" class=\"dataframe\">\n",
       "  <thead>\n",
       "    <tr style=\"text-align: right;\">\n",
       "      <th></th>\n",
       "      <th>activity_id</th>\n",
       "      <th>mol_chembl_id</th>\n",
       "      <th>compound_name</th>\n",
       "      <th>assay_chembl_id</th>\n",
       "      <th>assay_type</th>\n",
       "      <th>assay_cell_type</th>\n",
       "      <th>assay_organism</th>\n",
       "      <th>pref_name</th>\n",
       "      <th>description</th>\n",
       "      <th>standard_type</th>\n",
       "      <th>standard_relation</th>\n",
       "      <th>standard_value</th>\n",
       "      <th>standard_units</th>\n",
       "      <th>canonical_smiles</th>\n",
       "      <th>doc_chembl_id</th>\n",
       "      <th>title</th>\n",
       "      <th>journal</th>\n",
       "      <th>year</th>\n",
       "      <th>volume</th>\n",
       "      <th>issue</th>\n",
       "      <th>first_page</th>\n",
       "      <th>last_page</th>\n",
       "      <th>doi</th>\n",
       "      <th>pubmed_id</th>\n",
       "      <th>patent_id</th>\n",
       "    </tr>\n",
       "  </thead>\n",
       "  <tbody>\n",
       "    <tr>\n",
       "      <th>0</th>\n",
       "      <td>31876</td>\n",
       "      <td>CHEMBL152968</td>\n",
       "      <td>N-Biphenyl-3-yl-2-{4-[(R)-2-hydroxy-3-(2-methy...</td>\n",
       "      <td>CHEMBL660388</td>\n",
       "      <td>A</td>\n",
       "      <td>NaN</td>\n",
       "      <td>Cavia porcellus</td>\n",
       "      <td>Cytochrome P450 2C9</td>\n",
       "      <td>Inhibition of cytochrome P450 2C9 of isolated ...</td>\n",
       "      <td>IC50</td>\n",
       "      <td>=</td>\n",
       "      <td>24000.0</td>\n",
       "      <td>nM</td>\n",
       "      <td>Cc1nc2cc(OC[C@H](O)CN3CCN(CC(=O)Nc4cccc(-c5ccc...</td>\n",
       "      <td>CHEMBL1148425</td>\n",
       "      <td>New fatty acid oxidation inhibitors with incre...</td>\n",
       "      <td>Bioorg. Med. Chem. Lett.</td>\n",
       "      <td>2004.0</td>\n",
       "      <td>14.0</td>\n",
       "      <td>2</td>\n",
       "      <td>549.0</td>\n",
       "      <td>552.0</td>\n",
       "      <td>10.1016/j.bmcl.2003.09.093</td>\n",
       "      <td>14698201.0</td>\n",
       "      <td>NaN</td>\n",
       "    </tr>\n",
       "    <tr>\n",
       "      <th>1</th>\n",
       "      <td>45775</td>\n",
       "      <td>CHEMBL292759</td>\n",
       "      <td>4-Bromo-N-[4-methoxy-3-(4-methyl-piperazin-1-y...</td>\n",
       "      <td>CHEMBL666252</td>\n",
       "      <td>A</td>\n",
       "      <td>NaN</td>\n",
       "      <td>Homo sapiens</td>\n",
       "      <td>Cytochrome P450 2C9</td>\n",
       "      <td>Inhibitory potential of human cytochrome P450 ...</td>\n",
       "      <td>IC50</td>\n",
       "      <td>&gt;</td>\n",
       "      <td>100000.0</td>\n",
       "      <td>nM</td>\n",
       "      <td>COc1ccc(NS(=O)(=O)c2ccc(Br)cc2)cc1N1CCN(C)CC1</td>\n",
       "      <td>CHEMBL1132410</td>\n",
       "      <td>5-Chloro-N-(4-methoxy-3-piperazin-1-yl- phenyl...</td>\n",
       "      <td>J. Med. Chem.</td>\n",
       "      <td>1999.0</td>\n",
       "      <td>42.0</td>\n",
       "      <td>2</td>\n",
       "      <td>202.0</td>\n",
       "      <td>205.0</td>\n",
       "      <td>10.1021/jm980532e</td>\n",
       "      <td>9925723.0</td>\n",
       "      <td>NaN</td>\n",
       "    </tr>\n",
       "  </tbody>\n",
       "</table>\n",
       "</div>"
      ],
      "text/plain": [
       "   activity_id mol_chembl_id  \\\n",
       "0        31876  CHEMBL152968   \n",
       "1        45775  CHEMBL292759   \n",
       "\n",
       "                                       compound_name assay_chembl_id  \\\n",
       "0  N-Biphenyl-3-yl-2-{4-[(R)-2-hydroxy-3-(2-methy...    CHEMBL660388   \n",
       "1  4-Bromo-N-[4-methoxy-3-(4-methyl-piperazin-1-y...    CHEMBL666252   \n",
       "\n",
       "  assay_type assay_cell_type   assay_organism            pref_name  \\\n",
       "0          A             NaN  Cavia porcellus  Cytochrome P450 2C9   \n",
       "1          A             NaN     Homo sapiens  Cytochrome P450 2C9   \n",
       "\n",
       "                                         description standard_type  \\\n",
       "0  Inhibition of cytochrome P450 2C9 of isolated ...          IC50   \n",
       "1  Inhibitory potential of human cytochrome P450 ...          IC50   \n",
       "\n",
       "  standard_relation  standard_value standard_units  \\\n",
       "0                 =         24000.0             nM   \n",
       "1                 >        100000.0             nM   \n",
       "\n",
       "                                    canonical_smiles  doc_chembl_id  \\\n",
       "0  Cc1nc2cc(OC[C@H](O)CN3CCN(CC(=O)Nc4cccc(-c5ccc...  CHEMBL1148425   \n",
       "1      COc1ccc(NS(=O)(=O)c2ccc(Br)cc2)cc1N1CCN(C)CC1  CHEMBL1132410   \n",
       "\n",
       "                                               title  \\\n",
       "0  New fatty acid oxidation inhibitors with incre...   \n",
       "1  5-Chloro-N-(4-methoxy-3-piperazin-1-yl- phenyl...   \n",
       "\n",
       "                    journal    year  volume issue  first_page  last_page  \\\n",
       "0  Bioorg. Med. Chem. Lett.  2004.0    14.0     2       549.0      552.0   \n",
       "1             J. Med. Chem.  1999.0    42.0     2       202.0      205.0   \n",
       "\n",
       "                          doi   pubmed_id patent_id  \n",
       "0  10.1016/j.bmcl.2003.09.093  14698201.0       NaN  \n",
       "1           10.1021/jm980532e   9925723.0       NaN  "
      ]
     },
     "execution_count": 19,
     "metadata": {},
     "output_type": "execute_result"
    }
   ],
   "source": [
    "raw_df.head(2)"
   ]
  },
  {
   "cell_type": "markdown",
   "metadata": {},
   "source": [
    "## Perform first stage of filtering and curation for ChEMBL "
   ]
  },
  {
   "cell_type": "code",
   "execution_count": 20,
   "metadata": {},
   "outputs": [],
   "source": [
    "# Make copies of the original activity types, prefixes, values and units, before we overwrite the columns with negative log\n",
    "# transformed values\n",
    "target='CYP2C9'\n",
    "standard_type='IC50', \n",
    "db='chembl'\n",
    "db_version='30'\n",
    "\n",
    "raw_df['orig_standard_type'] = raw_df.standard_type.values\n",
    "raw_df['orig_standard_relation'] = raw_df.standard_relation.values\n",
    "raw_df['orig_standard_value'] = raw_df.standard_value.values\n",
    "raw_df['orig_standard_units'] = raw_df.standard_units.values"
   ]
  },
  {
   "cell_type": "markdown",
   "metadata": {},
   "source": [
    "### First, do some basic curation"
   ]
  },
  {
   "cell_type": "code",
   "execution_count": 21,
   "metadata": {},
   "outputs": [
    {
     "data": {
      "text/plain": [
       "Index(['activity_id', 'compound_id', 'compound_name', 'assay_id', 'assay_type',\n",
       "       'assay_cell_type', 'assay_organism', 'standard_name', 'description',\n",
       "       'standard_type', 'standard_relation', 'standard_value',\n",
       "       'standard_units', 'original_smiles', 'ref_id', 'title', 'journal',\n",
       "       'year', 'volume', 'issue', 'first_page', 'last_page', 'doi',\n",
       "       'pubmed_id', 'patent_id', 'orig_standard_type',\n",
       "       'orig_standard_relation', 'orig_standard_value', 'orig_standard_units'],\n",
       "      dtype='object')"
      ]
     },
     "execution_count": 21,
     "metadata": {},
     "output_type": "execute_result"
    }
   ],
   "source": [
    "# remane some columns to match general data curation functions available at AMPL for DTC and ExCape\n",
    "raw_df = raw_df.rename(columns={\n",
    "                        'mol_chembl_id': 'compound_id',\n",
    "                        'assay_chembl_id': 'assay_id',\n",
    "                        'pref_name': 'standard_name',\n",
    "                        'doc_chembl_id': 'ref_id',\n",
    "                        'canonical_smiles': 'original_smiles',\n",
    "                    })\n",
    "raw_df.columns"
   ]
  },
  {
   "cell_type": "code",
   "execution_count": 24,
   "metadata": {},
   "outputs": [
    {
     "name": "stderr",
     "output_type": "stream",
     "text": [
      "[14:55:22] Can't kekulize mol.  Unkekulized atoms: 3 5 26 27 28 29\n",
      "[14:55:23] Can't kekulize mol.  Unkekulized atoms: 0 3 6\n",
      "/g/g92/sarkar7/miniconda3/envs/AMPL-1.4.2/lib/python3.7/site-packages/ipykernel_launcher.py:6: RuntimeWarning: divide by zero encountered in log10\n",
      "  \n",
      "/g/g92/sarkar7/miniconda3/envs/AMPL-1.4.2/lib/python3.7/site-packages/ipykernel_launcher.py:6: RuntimeWarning: invalid value encountered in log10\n",
      "  \n"
     ]
    }
   ],
   "source": [
    "# Add standardized desalted RDKit SMILES strings\n",
    "raw_df['base_rdkit_smiles'] = su.base_smiles_from_smiles(raw_df.original_smiles.values.tolist(), workers=16) # Note: if you do not want to strip salt, please use ddm.utils.structUtils.get_rdkit_smiles(s)\n",
    "raw_df = raw_df[raw_df.base_rdkit_smiles != '']\n",
    "\n",
    "# # Add pIC50 values and filter on them\n",
    "raw_df['pIC50'] = 9.0 - np.log10(raw_df.standard_value.values)\n",
    "raw_df = raw_df[raw_df.pIC50 >= 3.0]\n",
    "\n",
    "# # Add censoring relations for pIC50 values\n",
    "rels = raw_df['standard_relation'].values\n",
    "log_rels = rels.copy()\n",
    "log_rels[rels == '<'] = '>'\n",
    "log_rels[rels == '>'] = '<'\n",
    "raw_df['pIC50_relation'] = log_rels\n",
    "\n",
    "# get molecular weight using SMILES\n",
    "mwts = [Chem.Descriptors.ExactMolWt(Chem.MolFromSmiles(x)) for x in raw_df.original_smiles.values.tolist()]\n",
    "raw_df['molecular_weight'] = mwts"
   ]
  },
  {
   "cell_type": "code",
   "execution_count": 25,
   "metadata": {},
   "outputs": [
    {
     "data": {
      "text/plain": [
       "0        516.219512\n",
       "1        439.056525\n",
       "2        516.219512\n",
       "3        557.246061\n",
       "4        487.055789\n",
       "            ...    \n",
       "14375    608.095091\n",
       "14376    784.127179\n",
       "14377    332.198759\n",
       "14378    607.192387\n",
       "14379    314.224580\n",
       "Name: molecular_weight, Length: 14231, dtype: float64"
      ]
     },
     "execution_count": 25,
     "metadata": {},
     "output_type": "execute_result"
    }
   ],
   "source": [
    "raw_df.molecular_weight"
   ]
  },
  {
   "cell_type": "code",
   "execution_count": 26,
   "metadata": {},
   "outputs": [
    {
     "data": {
      "text/plain": [
       "(14231, 33)"
      ]
     },
     "execution_count": 26,
     "metadata": {},
     "output_type": "execute_result"
    }
   ],
   "source": [
    "# First curation step: Filter dataset to remove rows with missing IDs, SMILES, values, etc.\n",
    "# Filter out rows with no SMILES string or IC50 data\n",
    "raw_df = raw_df[~raw_df['base_rdkit_smiles'].isna()]\n",
    "raw_df = raw_df[~raw_df['standard_value'].isna()]\n",
    "raw_df.shape"
   ]
  },
  {
   "cell_type": "markdown",
   "metadata": {},
   "source": [
    "#### Standardize relation and units"
   ]
  },
  {
   "cell_type": "code",
   "execution_count": 27,
   "metadata": {},
   "outputs": [
    {
     "name": "stdout",
     "output_type": "stream",
     "text": [
      "standard_type ['IC50' 'AC50' 'EC50' 'Inhibition' 'Ki']\n",
      "standard_relation ['=' '>' '<' '>=' '<=' nan]\n",
      "standard_units ['nM' 'min' 'ug.mL-1' '%' 'uM']\n"
     ]
    }
   ],
   "source": [
    "# Convert activity values to their negative log counterparts (pIC50 and pKi), taking the activity units into account\n",
    "# first, check unique values\n",
    "for col in raw_df:\n",
    "    if col not in ['standard_type', 'standard_relation', 'standard_units']:\n",
    "        continue\n",
    "    print(col, raw_df[col].unique())"
   ]
  },
  {
   "cell_type": "code",
   "execution_count": 28,
   "metadata": {},
   "outputs": [
    {
     "data": {
      "text/plain": [
       "array(['nM', 'min', 'ug.mL-1'], dtype=object)"
      ]
     },
     "execution_count": 28,
     "metadata": {},
     "output_type": "execute_result"
    }
   ],
   "source": [
    "raw_df[raw_df['standard_type']=='IC50'].standard_units.unique()"
   ]
  },
  {
   "cell_type": "code",
   "execution_count": 29,
   "metadata": {},
   "outputs": [
    {
     "data": {
      "text/plain": [
       "array(['nM'], dtype=object)"
      ]
     },
     "execution_count": 29,
     "metadata": {},
     "output_type": "execute_result"
    }
   ],
   "source": [
    "raw_df[raw_df['standard_type']=='AC50'].standard_units.unique()"
   ]
  },
  {
   "cell_type": "code",
   "execution_count": 31,
   "metadata": {},
   "outputs": [
    {
     "data": {
      "text/plain": [
       "array(['nM'], dtype=object)"
      ]
     },
     "execution_count": 31,
     "metadata": {},
     "output_type": "execute_result"
    }
   ],
   "source": [
    "raw_df[raw_df['standard_type']=='EC50'].standard_units.unique()"
   ]
  },
  {
   "cell_type": "code",
   "execution_count": 32,
   "metadata": {},
   "outputs": [
    {
     "data": {
      "text/plain": [
       "array(['%', 'uM'], dtype=object)"
      ]
     },
     "execution_count": 32,
     "metadata": {},
     "output_type": "execute_result"
    }
   ],
   "source": [
    "raw_df[raw_df['standard_type']=='Inhibition'].standard_units.unique()"
   ]
  },
  {
   "cell_type": "code",
   "execution_count": 33,
   "metadata": {},
   "outputs": [
    {
     "data": {
      "text/plain": [
       "array(['nM'], dtype=object)"
      ]
     },
     "execution_count": 33,
     "metadata": {},
     "output_type": "execute_result"
    }
   ],
   "source": [
    "raw_df[raw_df['standard_type']=='Ki'].standard_units.unique()"
   ]
  },
  {
   "cell_type": "markdown",
   "metadata": {},
   "source": [
    "#### Next, convert units\n",
    "#### Question: How to convert '%', 'min', 'ug.mL-1'? "
   ]
  },
  {
   "cell_type": "code",
   "execution_count": 34,
   "metadata": {},
   "outputs": [
    {
     "data": {
      "text/html": [
       "<div>\n",
       "<style scoped>\n",
       "    .dataframe tbody tr th:only-of-type {\n",
       "        vertical-align: middle;\n",
       "    }\n",
       "\n",
       "    .dataframe tbody tr th {\n",
       "        vertical-align: top;\n",
       "    }\n",
       "\n",
       "    .dataframe thead th {\n",
       "        text-align: right;\n",
       "    }\n",
       "</style>\n",
       "<table border=\"1\" class=\"dataframe\">\n",
       "  <thead>\n",
       "    <tr style=\"text-align: right;\">\n",
       "      <th></th>\n",
       "      <th>standard_units</th>\n",
       "      <th>Count</th>\n",
       "    </tr>\n",
       "  </thead>\n",
       "  <tbody>\n",
       "    <tr>\n",
       "      <th>2</th>\n",
       "      <td>nM</td>\n",
       "      <td>12529</td>\n",
       "    </tr>\n",
       "    <tr>\n",
       "      <th>0</th>\n",
       "      <td>%</td>\n",
       "      <td>1694</td>\n",
       "    </tr>\n",
       "    <tr>\n",
       "      <th>1</th>\n",
       "      <td>min</td>\n",
       "      <td>3</td>\n",
       "    </tr>\n",
       "    <tr>\n",
       "      <th>3</th>\n",
       "      <td>uM</td>\n",
       "      <td>3</td>\n",
       "    </tr>\n",
       "    <tr>\n",
       "      <th>4</th>\n",
       "      <td>ug.mL-1</td>\n",
       "      <td>2</td>\n",
       "    </tr>\n",
       "  </tbody>\n",
       "</table>\n",
       "</div>"
      ],
      "text/plain": [
       "  standard_units  Count\n",
       "2             nM  12529\n",
       "0              %   1694\n",
       "1            min      3\n",
       "3             uM      3\n",
       "4        ug.mL-1      2"
      ]
     },
     "execution_count": 34,
     "metadata": {},
     "output_type": "execute_result"
    }
   ],
   "source": [
    "unit_freq_df = cd.freq_table(raw_df, 'standard_units')\n",
    "unit_freq_df"
   ]
  },
  {
   "cell_type": "code",
   "execution_count": 24,
   "metadata": {},
   "outputs": [],
   "source": [
    "# # Special case: Standard unit is nM, but some values are expressed as ug/mL, so convert them to nM\n",
    "# in_ug_ml = (raw_df['standard_units'] == 'ug.mL-1')\n",
    "# if (sum(in_ug_ml) > 0):\n",
    "#     mwts = raw_df.loc[in_ug_ml, 'molecular_weight'].values\n",
    "#     values_in_nM = raw_df.loc[in_ug_ml, 'standard_value'].values * 1e6 / mwts\n",
    "#     raw_df.loc[in_ug_ml, 'standard_value'] = values_in_nM\n",
    "#     raw_df.loc[in_ug_ml, 'standard_units'] = 'nM'"
   ]
  },
  {
   "cell_type": "code",
   "execution_count": 25,
   "metadata": {},
   "outputs": [],
   "source": [
    "# \"\"\"\n",
    "# Standardize the censoring operators to =, < or >, and remove any rows whose operators\n",
    "# don't map to a standard one.\n",
    "# \"\"\"\n",
    "# raw_df['standard_relation'].fillna('=', inplace=True)\n",
    "# ops = raw_df['standard_relation'].values\n",
    "# # Remove annoying quotes around operators for ChEMBL DB\n",
    "# ops = [op.lstrip(\"'\").rstrip(\"'\") for op in ops]\n",
    "# op_dict = {\n",
    "#     \">\": \">\",\n",
    "#     \">=\": \">\",\n",
    "#     \"<\": \"<\",\n",
    "#     \"<=\": \"<\",\n",
    "#     \"=\": \"=\"\n",
    "# }\n",
    "# ops = np.array([op_dict.get(op, \"@\") for op in ops])\n",
    "# raw_df['standard_relation'] = ops\n",
    "# raw_df = raw_df[raw_df['standard_relation'] != \"@\"]"
   ]
  },
  {
   "cell_type": "code",
   "execution_count": 40,
   "metadata": {},
   "outputs": [],
   "source": [
    "# # Convert activity values to their negative log counterparts (pIC50 and pKi), taking the activity units into account\n",
    "# raw_df.loc[raw_df.standard_units.isin(['nM', 'nmol/L']), 'standard_units'] = 9.0 - np.log10(\n",
    "#                                               raw_df.loc[raw_df.standard_units.isin(['nM', 'nmol/L']) and raw_df.standard_type.isin(['IC50', 'AC50']), 'standard_value'].values)\n",
    "\n",
    "# raw_df.loc[raw_df.standard_units == 'uM', 'standard_value'] = 6.0 - np.log10(\n",
    "#                                               raw_df.loc[raw_df.standard_units == 'uM', 'standard_value'].values)\n",
    "\n",
    "\n",
    "# in_ug_ml = (dset_df['Standard Units'] == 'ug.mL-1')\n",
    "# if (sum(in_ug_ml) > 0) and (max_unit == 'nM'):\n",
    "#     mwts = dset_df.loc[in_ug_ml, 'Molecular Weight'].values\n",
    "#     values_in_nM = dset_df.loc[in_ug_ml, 'Standard Value'].values * 1e6 / mwts\n",
    "#     dset_df.loc[in_ug_ml, 'Standard Value'] = values_in_nM\n",
    "#     dset_df.loc[in_ug_ml, 'Standard Units'] = 'nM'\n",
    "\n",
    "    \n",
    "# in_ic_ac = (raw_df['standard_type'].isin(['IC50', 'AC50'])\n",
    "            \n",
    "#     mwts = dset_df.loc[in_ic_ac, 'standard_units'].values\n",
    "#     values_in_nM = dset_df.loc[in_ug_ml, 'Standard Value'].values * 1e6 / mwts\n",
    "            \n",
    "#     raw_df.loc[in_ug_ml, 'standard_value'] = values_in_nM\n",
    "#     raw_df.loc[in_ug_ml, 'standard_units'] = 'nM'\n",
    "            \n",
    "            \n",
    "# if (max_type in ['IC50', 'AC50']) and (max_unit == 'nM'):\n",
    "#         raw_df['pIC50'] = 9.0 - np.log10(raw_df['standard_value'].values)\n",
    "#         log_ops[ops == '>'] = '<'\n",
    "#         log_ops[ops == '<'] = '>'"
   ]
  },
  {
   "cell_type": "code",
   "execution_count": 35,
   "metadata": {},
   "outputs": [
    {
     "data": {
      "text/plain": [
       "['nM', 'min', 'ug.mL-1', '%', 'uM']"
      ]
     },
     "execution_count": 35,
     "metadata": {},
     "output_type": "execute_result"
    }
   ],
   "source": [
    "raw_df.standard_units.unique().tolist()"
   ]
  },
  {
   "cell_type": "code",
   "execution_count": 36,
   "metadata": {},
   "outputs": [
    {
     "name": "stdout",
     "output_type": "stream",
     "text": [
      "  standard_units  Count\n",
      "2             nM  12529\n",
      "0              %   1694\n",
      "1            min      3\n",
      "3             uM      3\n",
      "4        ug.mL-1      2\n",
      "nM\n"
     ]
    }
   ],
   "source": [
    "unit_freq_df = cd.freq_table(raw_df, 'standard_units')\n",
    "max_unit = unit_freq_df['standard_units'].values[0]\n",
    "print(unit_freq_df)\n",
    "print(max_unit)"
   ]
  },
  {
   "cell_type": "code",
   "execution_count": 37,
   "metadata": {},
   "outputs": [
    {
     "name": "stdout",
     "output_type": "stream",
     "text": [
      "  standard_type  Count\n",
      "0          AC50   7280\n",
      "2          IC50   5061\n",
      "3    Inhibition   1697\n",
      "4            Ki    159\n",
      "1          EC50     34\n",
      "AC50\n"
     ]
    }
   ],
   "source": [
    "type_df = cd.freq_table(raw_df, 'standard_type')\n",
    "max_type = type_df['standard_type'].values[0]\n",
    "print(type_df)\n",
    "print(max_type)"
   ]
  },
  {
   "cell_type": "code",
   "execution_count": 38,
   "metadata": {},
   "outputs": [
    {
     "data": {
      "text/plain": [
       "['nM', 'AC50']"
      ]
     },
     "execution_count": 38,
     "metadata": {},
     "output_type": "execute_result"
    }
   ],
   "source": [
    "[max_unit, max_type]"
   ]
  },
  {
   "cell_type": "code",
   "execution_count": 39,
   "metadata": {},
   "outputs": [],
   "source": [
    "# # Add a column for the pIC50 or log-transformed value, and a column for the associated censoring relation.\n",
    "# # For pXC50 values, this will be the opposite of the original censoring relation.\n",
    "\n",
    "# ops = raw_df['standard_relation'].values\n",
    "# log_ops = ops.copy()\n",
    "\n",
    "# for max_type in type_df['standard_type'].to_list():\n",
    "#     print(max_type)\n",
    "#     if (max_type in ['IC50', 'AC50']) and (max_unit == 'nM'):\n",
    "#         raw_df['pIC50'] = 9.0 - np.log10(raw_df['standard_value'].values)\n",
    "#         log_ops[ops == '>'] = '<'\n",
    "#         log_ops[ops == '<'] = '>'\n",
    "# elif (max_type == 'Ki') and (max_unit == 'nM'):\n",
    "#     dset_df['pKi'] = 9.0 - np.log10(dset_df['Standard Value'].values)\n",
    "#     log_ops[ops == '>'] = '<'\n",
    "#     log_ops[ops == '<'] = '>'\n",
    "# elif (max_type == 'Solubility') and (max_unit == 'nM'):\n",
    "#     dset_df['logSolubility'] = np.log10(dset_df['Standard Value'].values) - 9.0\n",
    "# elif max_type == 'CL':\n",
    "#     dset_df['logCL'] = np.log10(dset_df['Standard Value'].values)\n",
    "# dset_df['LogVarRelation'] = log_ops\n"
   ]
  },
  {
   "cell_type": "code",
   "execution_count": null,
   "metadata": {},
   "outputs": [],
   "source": []
  },
  {
   "cell_type": "code",
   "execution_count": 40,
   "metadata": {},
   "outputs": [],
   "source": [
    "# standard_type = 'IC50'\n",
    "# # Standardize the relational operators. For activity types that were already negative log values (pIC50 or pKi, \n",
    "# # indicated by null units), keep the same relationships; otherwise, invert them.\n",
    "# neglog_df = raw_df[raw_df.standard_units.isna()].copy()\n",
    "# neglog_df = dcf.standardize_relations(neglog_df, rel_col='standard_relation', output_rel_col='standard_relation')\n",
    "\n",
    "# needs_inv_df = raw_df[~raw_df.standard_units.isna()].copy()\n",
    "# needs_inv_df = dcf.standardize_relations(needs_inv_df, rel_col='standard_relation', output_rel_col='standard_relation', invert=True)\n",
    "# needs_inv_df['standard_type'] = f\"p{standard_type}\"\n",
    "\n",
    "# raw_df = pd.concat([neglog_df, needs_inv_df], ignore_index=True)\n",
    "# raw_df"
   ]
  },
  {
   "cell_type": "code",
   "execution_count": 51,
   "metadata": {},
   "outputs": [],
   "source": [
    "# Everything is pIC50 or pKi now, so remove the units\n",
    "raw_df['standard_units'] = np.nan\n",
    "\n",
    "# convert smiles to standardize form \n",
    "\n"
   ]
  },
  {
   "cell_type": "code",
   "execution_count": 30,
   "metadata": {},
   "outputs": [],
   "source": [
    "# # Add URLs for Google Scholar or Google Patents queries on the references to make it easier to run searches from Excel\n",
    "# # versions of the output files (using the HYPERLINK function)\n",
    "# ref_urls = []\n",
    "# for ref in raw_df.reference.values:\n",
    "#     query = urllib.parse.quote_plus(ref)\n",
    "#     if ref.startswith('US') or ref.startswith('WO'):\n",
    "#         ref_urls.append(f\"https://patents.google.com?oq={query}\")\n",
    "#     else:\n",
    "#         ref_urls.append(f\"https://scholar.google.com/scholar?hl=en&as_sdt=0&q={query}&btnG=\")\n",
    "# raw_df['ref_search_url'] = ref_urls\n",
    "\n",
    "# # Write excluded and included records to separate files\n",
    "# excluded_file = f\"{dset_dir}/{target}_p{activity_type}_excluded_{db}_{db_version}.csv\"\n",
    "# excluded_df.to_csv(excluded_file, index=False)\n",
    "# print(f\"Wrote excluded {db} data to {excluded_file}\")\n",
    "\n",
    "# filtered_file = f\"{dset_dir}/{target}_p{activity_type}_filtered_{db}_{db_version}.csv\"\n",
    "# filtered_df.to_csv(filtered_file, index=False)\n",
    "# print(f\"Wrote filtered {db} data to {filtered_file}\")"
   ]
  },
  {
   "cell_type": "code",
   "execution_count": 29,
   "metadata": {
    "scrolled": false
   },
   "outputs": [],
   "source": [
    "# imp.reload(cpd)\n",
    "# chembl_filt_df = cpd.curate_parp_activity_data(chembl_df, target='CYP2C9', activity_type='IC50', db='chembl', db_version='30')"
   ]
  },
  {
   "cell_type": "code",
   "execution_count": 52,
   "metadata": {},
   "outputs": [
    {
     "data": {
      "text/plain": [
       "Index(['activity_id', 'compound_id', 'compound_name', 'assay_id', 'assay_type',\n",
       "       'assay_cell_type', 'assay_organism', 'standard_name', 'description',\n",
       "       'standard_type', 'standard_relation', 'standard_value',\n",
       "       'standard_units', 'canonical_smiles', 'ref_id', 'title', 'journal',\n",
       "       'year', 'volume', 'issue', 'first_page', 'last_page', 'doi',\n",
       "       'pubmed_id', 'patent_id', 'orig_standard_type',\n",
       "       'orig_standard_relation', 'orig_standard_value', 'orig_standard_units'],\n",
       "      dtype='object')"
      ]
     },
     "execution_count": 52,
     "metadata": {},
     "output_type": "execute_result"
    }
   ],
   "source": [
    "raw_df.columns # final raw df"
   ]
  },
  {
   "cell_type": "markdown",
   "metadata": {},
   "source": [
    "#### Next, remove outliers and bad duplicates using AMPL"
   ]
  },
  {
   "cell_type": "code",
   "execution_count": 42,
   "metadata": {},
   "outputs": [
    {
     "name": "stdout",
     "output_type": "stream",
     "text": [
      "Removed 946 standard_value replicate measurements that were > 0.5 from median\n"
     ]
    },
    {
     "data": {
      "text/plain": [
       "((14231, 33), (13285, 33))"
      ]
     },
     "execution_count": 42,
     "metadata": {},
     "output_type": "execute_result"
    }
   ],
   "source": [
    "#imp.reload(cpd)\n",
    "filt_df = cd.remove_outlier_replicates(raw_df, response_col='standard_value', max_diff_from_median=0.5)\n",
    "raw_df.shape, filt_df.shape"
   ]
  },
  {
   "cell_type": "markdown",
   "metadata": {},
   "source": [
    "#### Next, aggregate assay data using AMPL\n",
    "\n",
    "Note that, active threshold 6.0 is used here. This can be changed based on application and domain knowledge. For drug discovery, usually molecules with pIC50 value 6 or less are good drug candidates. "
   ]
  },
  {
   "cell_type": "code",
   "execution_count": 44,
   "metadata": {},
   "outputs": [
    {
     "name": "stderr",
     "output_type": "stream",
     "text": [
      "[14:59:23] Can't kekulize mol.  Unkekulized atoms: 3 5 26 27 28 29\n",
      "[14:59:28] Can't kekulize mol.  Unkekulized atoms: 0 3 6\n"
     ]
    },
    {
     "data": {
      "text/plain": [
       "(13083, 5)"
      ]
     },
     "execution_count": 44,
     "metadata": {},
     "output_type": "execute_result"
    }
   ],
   "source": [
    "agg_df = cd.aggregate_assay_data(filt_df, value_col='standard_value', active_thresh=6.0, id_col='compound_id',\n",
    "                                   smiles_col='base_rdkit_smiles', relation_col='standard_relation')\n",
    "agg_df.shape"
   ]
  },
  {
   "cell_type": "code",
   "execution_count": 45,
   "metadata": {},
   "outputs": [
    {
     "data": {
      "text/html": [
       "<div>\n",
       "<style scoped>\n",
       "    .dataframe tbody tr th:only-of-type {\n",
       "        vertical-align: middle;\n",
       "    }\n",
       "\n",
       "    .dataframe tbody tr th {\n",
       "        vertical-align: top;\n",
       "    }\n",
       "\n",
       "    .dataframe thead th {\n",
       "        text-align: right;\n",
       "    }\n",
       "</style>\n",
       "<table border=\"1\" class=\"dataframe\">\n",
       "  <thead>\n",
       "    <tr style=\"text-align: right;\">\n",
       "      <th></th>\n",
       "      <th>compound_id</th>\n",
       "      <th>base_rdkit_smiles</th>\n",
       "      <th>relation</th>\n",
       "      <th>standard_value</th>\n",
       "      <th>active</th>\n",
       "    </tr>\n",
       "  </thead>\n",
       "  <tbody>\n",
       "    <tr>\n",
       "      <th>0</th>\n",
       "      <td>CHEMBL1591190</td>\n",
       "      <td>CN(C)c1ncc2ncc(=O)n(Cc3cccs3)c2n1</td>\n",
       "      <td></td>\n",
       "      <td>39810.72</td>\n",
       "      <td>1</td>\n",
       "    </tr>\n",
       "    <tr>\n",
       "      <th>1</th>\n",
       "      <td>CHEMBL1599663</td>\n",
       "      <td>Cc1cc(C)n(-c2cc(N3CCN(C(=O)c4cccc(Br)c4)CC3)cc...</td>\n",
       "      <td></td>\n",
       "      <td>5623.41</td>\n",
       "      <td>1</td>\n",
       "    </tr>\n",
       "    <tr>\n",
       "      <th>2</th>\n",
       "      <td>CHEMBL1382227</td>\n",
       "      <td>Cc1ccc(NC(=O)Cn2nc([N+](=O)[O-])c(Br)c2C)cc1C</td>\n",
       "      <td></td>\n",
       "      <td>14125.38</td>\n",
       "      <td>1</td>\n",
       "    </tr>\n",
       "    <tr>\n",
       "      <th>3</th>\n",
       "      <td>CHEMBL4516287</td>\n",
       "      <td>C=CC(=O)Nc1cc(Nc2nccc(Nc3ccccc3S(=O)(=O)C(C)C)...</td>\n",
       "      <td></td>\n",
       "      <td>90.00</td>\n",
       "      <td>1</td>\n",
       "    </tr>\n",
       "    <tr>\n",
       "      <th>4</th>\n",
       "      <td>CHEMBL1335690</td>\n",
       "      <td>COc1ccc(C2Nc3ccccc3C(=O)N2Cc2ccco2)cc1COc1ccc(...</td>\n",
       "      <td></td>\n",
       "      <td>177.83</td>\n",
       "      <td>1</td>\n",
       "    </tr>\n",
       "  </tbody>\n",
       "</table>\n",
       "</div>"
      ],
      "text/plain": [
       "     compound_id                                  base_rdkit_smiles relation  \\\n",
       "0  CHEMBL1591190                  CN(C)c1ncc2ncc(=O)n(Cc3cccs3)c2n1            \n",
       "1  CHEMBL1599663  Cc1cc(C)n(-c2cc(N3CCN(C(=O)c4cccc(Br)c4)CC3)cc...            \n",
       "2  CHEMBL1382227      Cc1ccc(NC(=O)Cn2nc([N+](=O)[O-])c(Br)c2C)cc1C            \n",
       "3  CHEMBL4516287  C=CC(=O)Nc1cc(Nc2nccc(Nc3ccccc3S(=O)(=O)C(C)C)...            \n",
       "4  CHEMBL1335690  COc1ccc(C2Nc3ccccc3C(=O)N2Cc2ccco2)cc1COc1ccc(...            \n",
       "\n",
       "   standard_value  active  \n",
       "0        39810.72       1  \n",
       "1         5623.41       1  \n",
       "2        14125.38       1  \n",
       "3           90.00       1  \n",
       "4          177.83       1  "
      ]
     },
     "execution_count": 45,
     "metadata": {},
     "output_type": "execute_result"
    }
   ],
   "source": [
    "agg_df.head()"
   ]
  },
  {
   "cell_type": "code",
   "execution_count": 46,
   "metadata": {},
   "outputs": [
    {
     "name": "stdout",
     "output_type": "stream",
     "text": [
      "Wrote Data//CYP2C9_chembl_pIC50_curated.csv\n"
     ]
    }
   ],
   "source": [
    "cur_file = f\"{dset_dir}/{target}_chembl_pIC50_curated.csv\"\n",
    "filt_df.to_csv(cur_file, index=False)\n",
    "print(f\"Wrote {cur_file}\")"
   ]
  },
  {
   "cell_type": "code",
   "execution_count": 47,
   "metadata": {},
   "outputs": [
    {
     "name": "stdout",
     "output_type": "stream",
     "text": [
      "Wrote Data//CYP2C9_chembl_pIC50_agg.csv\n"
     ]
    }
   ],
   "source": [
    "agg_file = f\"{dset_dir}/{target}_chembl_pIC50_agg.csv\"\n",
    "agg_df.to_csv(agg_file, index=False)\n",
    "print(f\"Wrote {agg_file}\")"
   ]
  },
  {
   "cell_type": "code",
   "execution_count": 48,
   "metadata": {},
   "outputs": [
    {
     "data": {
      "text/html": [
       "<div>\n",
       "<style scoped>\n",
       "    .dataframe tbody tr th:only-of-type {\n",
       "        vertical-align: middle;\n",
       "    }\n",
       "\n",
       "    .dataframe tbody tr th {\n",
       "        vertical-align: top;\n",
       "    }\n",
       "\n",
       "    .dataframe thead th {\n",
       "        text-align: right;\n",
       "    }\n",
       "</style>\n",
       "<table border=\"1\" class=\"dataframe\">\n",
       "  <thead>\n",
       "    <tr style=\"text-align: right;\">\n",
       "      <th></th>\n",
       "      <th>relation</th>\n",
       "      <th>Count</th>\n",
       "    </tr>\n",
       "  </thead>\n",
       "  <tbody>\n",
       "    <tr>\n",
       "      <th>0</th>\n",
       "      <td></td>\n",
       "      <td>10526</td>\n",
       "    </tr>\n",
       "    <tr>\n",
       "      <th>2</th>\n",
       "      <td>&gt;</td>\n",
       "      <td>2235</td>\n",
       "    </tr>\n",
       "    <tr>\n",
       "      <th>1</th>\n",
       "      <td>&lt;</td>\n",
       "      <td>322</td>\n",
       "    </tr>\n",
       "  </tbody>\n",
       "</table>\n",
       "</div>"
      ],
      "text/plain": [
       "  relation  Count\n",
       "0           10526\n",
       "2        >   2235\n",
       "1        <    322"
      ]
     },
     "execution_count": 48,
     "metadata": {},
     "output_type": "execute_result"
    }
   ],
   "source": [
    "cd.freq_table(agg_df, 'relation')"
   ]
  },
  {
   "cell_type": "code",
   "execution_count": null,
   "metadata": {},
   "outputs": [],
   "source": []
  }
 ],
 "metadata": {
  "kernelspec": {
   "display_name": "ampl-1.4.2",
   "language": "python",
   "name": "ampl-1.4.2"
  },
  "language_info": {
   "codemirror_mode": {
    "name": "ipython",
    "version": 3
   },
   "file_extension": ".py",
   "mimetype": "text/x-python",
   "name": "python",
   "nbconvert_exporter": "python",
   "pygments_lexer": "ipython3",
   "version": "3.7.10"
  }
 },
 "nbformat": 4,
 "nbformat_minor": 4
}
