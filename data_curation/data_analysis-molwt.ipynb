{
 "cells": [
  {
   "cell_type": "code",
   "execution_count": 2,
   "metadata": {
    "colab": {
     "base_uri": "https://localhost:8080/"
    },
    "executionInfo": {
     "elapsed": 194,
     "status": "ok",
     "timestamp": 1656607111185,
     "user": {
      "displayName": "TS NIH",
      "userId": "16535302786239675949"
     },
     "user_tz": 240
    },
    "id": "ux5buVVMeH90",
    "outputId": "c0f9f104-9a7c-4751-a752-ecd7fe4447e5"
   },
   "outputs": [
    {
     "name": "stdout",
     "output_type": "stream",
     "text": [
      "Sun Mar 19 21:20:47 EDT 2023\r\n"
     ]
    }
   ],
   "source": [
    "!date"
   ]
  },
  {
   "cell_type": "code",
   "execution_count": null,
   "metadata": {},
   "outputs": [],
   "source": [
    "# AMPL imports\n",
    "import atomsci.ddm.utils.struct_utils as struct_utils\n",
    "import atomsci.ddm.utils.curate_data as curate_data\n",
    "import atomsci.ddm.pipeline.diversity_plots as dp"
   ]
  },
  {
   "cell_type": "code",
   "execution_count": 172,
   "metadata": {
    "colab": {
     "base_uri": "https://localhost:8080/"
    },
    "executionInfo": {
     "elapsed": 3,
     "status": "ok",
     "timestamp": 1656607493822,
     "user": {
      "displayName": "TS NIH",
      "userId": "16535302786239675949"
     },
     "user_tz": 240
    },
    "id": "NoOxdIOrdwPI",
    "outputId": "c3b68856-021a-4767-99cd-31165450217c"
   },
   "outputs": [
    {
     "name": "stdout",
     "output_type": "stream",
     "text": [
      "Imports Done.\n"
     ]
    }
   ],
   "source": [
    "# manipulate data\n",
    "import pandas as pd\n",
    "\n",
    "# plot data\n",
    "import numpy as np\n",
    "import matplotlib.pyplot as plt\n",
    "from rdkit.Chem.Descriptors import MolWt, MolLogP\n",
    "from rdkit import Chem\n",
    "\n",
    "\n",
    "import tempfile\n",
    "from rdkit import Chem\n",
    "from rdkit.Chem import Draw\n",
    "from itertools import islice\n",
    "from IPython.display import Image, display\n",
    "\n",
    "# visualize data\n",
    "import seaborn as sns\n",
    "import matplotlib_venn as mpv\n",
    "from scipy.stats import pearsonr\n",
    "\n",
    "# set up visualization parameters\n",
    "sns.set_context(\"paper\")\n",
    "sns.set_style(\"whitegrid\")\n",
    "sns.set_palette(\"Set2\")\n",
    "pal = sns.color_palette()\n",
    "plt.rcParams['figure.figsize'] = [6,4]\n",
    "plt.rcParams['font.size'] = 15\n",
    "\n",
    "pd.set_option('display.max_columns',(90))\n",
    "pd.set_option('display.max_rows',(20))\n",
    "print(\"Imports Done.\")"
   ]
  },
  {
   "cell_type": "code",
   "execution_count": 207,
   "metadata": {
    "executionInfo": {
     "elapsed": 190,
     "status": "ok",
     "timestamp": 1656607199126,
     "user": {
      "displayName": "TS NIH",
      "userId": "16535302786239675949"
     },
     "user_tz": 240
    },
    "id": "nJxNDQAudwPM"
   },
   "outputs": [],
   "source": [
    "target = 'CYP3A4'"
   ]
  },
  {
   "cell_type": "code",
   "execution_count": 208,
   "metadata": {
    "colab": {
     "base_uri": "https://localhost:8080/"
    },
    "executionInfo": {
     "elapsed": 403,
     "status": "ok",
     "timestamp": 1656607487973,
     "user": {
      "displayName": "TS NIH",
      "userId": "16535302786239675949"
     },
     "user_tz": 240
    },
    "id": "2k8G-zS9dwPM",
    "outputId": "a7762fbf-571e-4417-ecb0-4e132d4b4774",
    "scrolled": true
   },
   "outputs": [
    {
     "name": "stdout",
     "output_type": "stream",
     "text": [
      "CHEMBL25-CYP3A4_human_IC50_26Nov2019.txt\r\n",
      "cyp3a4_chembl_smiles_active.csv\r\n",
      "cyp3a4_chembl_smiles_active_th5.csv\r\n",
      "cyp3a4_chembl_testset_base_smiles_union_active.csv\r\n",
      "cyp3a4_chembl_testset_base_smiles_union.csv\r\n",
      "cyp3a4_dtc_smiles_active.csv\r\n",
      "cyp3a4_dtc_smiles_active_th5.csv\r\n",
      "cyp3a4_dtc_smiles.csv\r\n",
      "cyp3a4_dtc_testset_base_smiles_union_active.csv\r\n",
      "cyp3a4_dtc_testset_base_smiles_union.csv\r\n",
      "cyp3a4_excape_smiles_active.csv\r\n",
      "cyp3a4_excape_smiles_active_th5.csv\r\n",
      "cyp3a4_excape_smiles.csv\r\n",
      "cyp3a4_excape_testset_base_smiles_union_active.csv\r\n",
      "cyp3a4_excape_testset_base_smiles_union.csv\r\n",
      "cyp3a4_union_testset_base_smiles.csv\r\n",
      "cyp3a4_union_testset_base_smiles_with_mordred_filtered_descriptors.csv\r\n",
      "cyp3a4_union_test_smiles_active.csv\r\n",
      "cyp3a4_union_test_smiles_active_th5.csv\r\n",
      "cyp3a4_union_test_smiles_active_th5_molwt_logp.csv\r\n",
      "cyp3a4_union_trainset_base_smiles.csv\r\n",
      "cyp3a4_union_trainset_base_smiles_train_valid_test_scaffold_3c072810-f47b-49ef-9365-6ffa9e5bf911.csv\r\n",
      "cyp3a4_union_trainset_base_smiles_with_mordred_filtered_descriptors.csv\r\n",
      "cyp3a4_union_train_smiles_active.csv\r\n",
      "cyp3a4_union_train_smiles_active_th5.csv\r\n",
      "cyp3a4_union_train_smiles_active_th5_molwt_logp.csv\r\n",
      "scaled_descriptors\r\n"
     ]
    }
   ],
   "source": [
    "root_dir = './../MoDaC/NCI_DOE_Archive/ATOM/Safety_Screen_Targets/'\n",
    "home_dir = root_dir + target.upper() + '-ampl-1.1.0/'\n",
    "!ls $home_dir"
   ]
  },
  {
   "cell_type": "markdown",
   "metadata": {
    "id": "2TyZSo9sdwPL"
   },
   "source": [
    "## Reading files for each Target "
   ]
  },
  {
   "cell_type": "code",
   "execution_count": 209,
   "metadata": {
    "colab": {
     "base_uri": "https://localhost:8080/"
    },
    "executionInfo": {
     "elapsed": 376,
     "status": "ok",
     "timestamp": 1656607641816,
     "user": {
      "displayName": "TS NIH",
      "userId": "16535302786239675949"
     },
     "user_tz": 240
    },
    "id": "hnXtC3PXdwPR",
    "outputId": "7badf874-c6d5-4898-a305-b2e55b850ca9"
   },
   "outputs": [
    {
     "name": "stdout",
     "output_type": "stream",
     "text": [
      "17796 17796\n"
     ]
    },
    {
     "data": {
      "text/html": [
       "<div>\n",
       "<style scoped>\n",
       "    .dataframe tbody tr th:only-of-type {\n",
       "        vertical-align: middle;\n",
       "    }\n",
       "\n",
       "    .dataframe tbody tr th {\n",
       "        vertical-align: top;\n",
       "    }\n",
       "\n",
       "    .dataframe thead th {\n",
       "        text-align: right;\n",
       "    }\n",
       "</style>\n",
       "<table border=\"1\" class=\"dataframe\">\n",
       "  <thead>\n",
       "    <tr style=\"text-align: right;\">\n",
       "      <th></th>\n",
       "      <th>Unnamed: 0</th>\n",
       "      <th>base_rdkit_smiles</th>\n",
       "      <th>compound_id</th>\n",
       "      <th>pIC50</th>\n",
       "      <th>relation</th>\n",
       "      <th>active</th>\n",
       "    </tr>\n",
       "  </thead>\n",
       "  <tbody>\n",
       "    <tr>\n",
       "      <th>0</th>\n",
       "      <td>0</td>\n",
       "      <td>O=C([C@H]1CNCC[C@@]12OCc1cc(F)c(F)cc12)N(Cc1cc...</td>\n",
       "      <td>CHEMBL1923118</td>\n",
       "      <td>5.441849</td>\n",
       "      <td>NaN</td>\n",
       "      <td>1.0</td>\n",
       "    </tr>\n",
       "    <tr>\n",
       "      <th>1</th>\n",
       "      <td>1</td>\n",
       "      <td>COc1ccc(-n2c(=O)c(C)nc3cnc(Oc4ccccc4)nc32)cc1</td>\n",
       "      <td>BAARRVDYHOBEOI-UHFFFAOYNA-N</td>\n",
       "      <td>4.800000</td>\n",
       "      <td>&lt;</td>\n",
       "      <td>0.0</td>\n",
       "    </tr>\n",
       "  </tbody>\n",
       "</table>\n",
       "</div>"
      ],
      "text/plain": [
       "   Unnamed: 0                                  base_rdkit_smiles  \\\n",
       "0           0  O=C([C@H]1CNCC[C@@]12OCc1cc(F)c(F)cc12)N(Cc1cc...   \n",
       "1           1      COc1ccc(-n2c(=O)c(C)nc3cnc(Oc4ccccc4)nc32)cc1   \n",
       "\n",
       "                   compound_id     pIC50 relation  active  \n",
       "0                CHEMBL1923118  5.441849      NaN     1.0  \n",
       "1  BAARRVDYHOBEOI-UHFFFAOYNA-N  4.800000        <     0.0  "
      ]
     },
     "execution_count": 209,
     "metadata": {},
     "output_type": "execute_result"
    }
   ],
   "source": [
    "union_train_df = pd.read_csv(home_dir + target.lower() + '_union_train_smiles_active_th5.csv')\n",
    "union_train = union_train_df['base_rdkit_smiles'].to_list()\n",
    "print(len(union_train), len(set(union_train)))\n",
    "union_train_df.head(2)"
   ]
  },
  {
   "cell_type": "code",
   "execution_count": 210,
   "metadata": {
    "colab": {
     "base_uri": "https://localhost:8080/"
    },
    "executionInfo": {
     "elapsed": 376,
     "status": "ok",
     "timestamp": 1656607644354,
     "user": {
      "displayName": "TS NIH",
      "userId": "16535302786239675949"
     },
     "user_tz": 240
    },
    "id": "2NkdMw09dwPR",
    "outputId": "9d96bc48-f5de-45ba-9c57-60fb739521de"
   },
   "outputs": [
    {
     "name": "stdout",
     "output_type": "stream",
     "text": [
      "3141 3141\n"
     ]
    },
    {
     "data": {
      "text/html": [
       "<div>\n",
       "<style scoped>\n",
       "    .dataframe tbody tr th:only-of-type {\n",
       "        vertical-align: middle;\n",
       "    }\n",
       "\n",
       "    .dataframe tbody tr th {\n",
       "        vertical-align: top;\n",
       "    }\n",
       "\n",
       "    .dataframe thead th {\n",
       "        text-align: right;\n",
       "    }\n",
       "</style>\n",
       "<table border=\"1\" class=\"dataframe\">\n",
       "  <thead>\n",
       "    <tr style=\"text-align: right;\">\n",
       "      <th></th>\n",
       "      <th>Unnamed: 0</th>\n",
       "      <th>base_rdkit_smiles</th>\n",
       "      <th>compound_id</th>\n",
       "      <th>pIC50</th>\n",
       "      <th>relation</th>\n",
       "      <th>active</th>\n",
       "    </tr>\n",
       "  </thead>\n",
       "  <tbody>\n",
       "    <tr>\n",
       "      <th>0</th>\n",
       "      <td>0</td>\n",
       "      <td>CC(C)C[C@@H]1C(=O)N[C@H](C2Cc3ccccc3C2)C(=O)N1...</td>\n",
       "      <td>CHEMBL196478</td>\n",
       "      <td>5.39897</td>\n",
       "      <td>NaN</td>\n",
       "      <td>1</td>\n",
       "    </tr>\n",
       "    <tr>\n",
       "      <th>1</th>\n",
       "      <td>1</td>\n",
       "      <td>COCC(=O)N[C@@H](Cc1cccc(-c2ncco2)c1)[C@H](O)CN...</td>\n",
       "      <td>CHEMBL2181890</td>\n",
       "      <td>7.00000</td>\n",
       "      <td>NaN</td>\n",
       "      <td>1</td>\n",
       "    </tr>\n",
       "  </tbody>\n",
       "</table>\n",
       "</div>"
      ],
      "text/plain": [
       "   Unnamed: 0                                  base_rdkit_smiles  \\\n",
       "0           0  CC(C)C[C@@H]1C(=O)N[C@H](C2Cc3ccccc3C2)C(=O)N1...   \n",
       "1           1  COCC(=O)N[C@@H](Cc1cccc(-c2ncco2)c1)[C@H](O)CN...   \n",
       "\n",
       "     compound_id    pIC50 relation  active  \n",
       "0   CHEMBL196478  5.39897      NaN       1  \n",
       "1  CHEMBL2181890  7.00000      NaN       1  "
      ]
     },
     "execution_count": 210,
     "metadata": {},
     "output_type": "execute_result"
    }
   ],
   "source": [
    "union_test_df = pd.read_csv(home_dir + target.lower() + '_union_test_smiles_active_th5.csv')\n",
    "union_test = union_test_df['base_rdkit_smiles'].to_list()\n",
    "print(len(union_test), len(set(union_test)))\n",
    "union_test_df.head(2)"
   ]
  },
  {
   "cell_type": "markdown",
   "metadata": {},
   "source": [
    "## Get molWt and MolLogP"
   ]
  },
  {
   "cell_type": "code",
   "execution_count": 211,
   "metadata": {},
   "outputs": [
    {
     "data": {
      "text/html": [
       "<div>\n",
       "<style scoped>\n",
       "    .dataframe tbody tr th:only-of-type {\n",
       "        vertical-align: middle;\n",
       "    }\n",
       "\n",
       "    .dataframe tbody tr th {\n",
       "        vertical-align: top;\n",
       "    }\n",
       "\n",
       "    .dataframe thead th {\n",
       "        text-align: right;\n",
       "    }\n",
       "</style>\n",
       "<table border=\"1\" class=\"dataframe\">\n",
       "  <thead>\n",
       "    <tr style=\"text-align: right;\">\n",
       "      <th></th>\n",
       "      <th>Unnamed: 0</th>\n",
       "      <th>base_rdkit_smiles</th>\n",
       "      <th>compound_id</th>\n",
       "      <th>pIC50</th>\n",
       "      <th>relation</th>\n",
       "      <th>active</th>\n",
       "      <th>molecular_weight</th>\n",
       "      <th>logp</th>\n",
       "    </tr>\n",
       "  </thead>\n",
       "  <tbody>\n",
       "    <tr>\n",
       "      <th>0</th>\n",
       "      <td>0</td>\n",
       "      <td>O=C([C@H]1CNCC[C@@]12OCc1cc(F)c(F)cc12)N(Cc1cc...</td>\n",
       "      <td>CHEMBL1923118</td>\n",
       "      <td>5.441849</td>\n",
       "      <td>NaN</td>\n",
       "      <td>1.0</td>\n",
       "      <td>500.895</td>\n",
       "      <td>5.16320</td>\n",
       "    </tr>\n",
       "    <tr>\n",
       "      <th>1</th>\n",
       "      <td>1</td>\n",
       "      <td>COc1ccc(-n2c(=O)c(C)nc3cnc(Oc4ccccc4)nc32)cc1</td>\n",
       "      <td>BAARRVDYHOBEOI-UHFFFAOYNA-N</td>\n",
       "      <td>4.800000</td>\n",
       "      <td>&lt;</td>\n",
       "      <td>0.0</td>\n",
       "      <td>360.373</td>\n",
       "      <td>3.28502</td>\n",
       "    </tr>\n",
       "    <tr>\n",
       "      <th>2</th>\n",
       "      <td>2</td>\n",
       "      <td>COc1ccc(C(C(=O)NC2CCCC2)N(C(=O)c2snc(-c3ccc(F)...</td>\n",
       "      <td>AMKHNFFZBIGCEX-ZYMSVLFVNA-N</td>\n",
       "      <td>4.900000</td>\n",
       "      <td>&lt;</td>\n",
       "      <td>0.0</td>\n",
       "      <td>562.642</td>\n",
       "      <td>6.12600</td>\n",
       "    </tr>\n",
       "    <tr>\n",
       "      <th>3</th>\n",
       "      <td>3</td>\n",
       "      <td>CN1CCN(CCCN(C(=O)Nc2ccc(F)c(C(F)(F)F)c2)C2CCC3...</td>\n",
       "      <td>CHEMBL1289614</td>\n",
       "      <td>7.300577</td>\n",
       "      <td>NaN</td>\n",
       "      <td>1.0</td>\n",
       "      <td>543.609</td>\n",
       "      <td>5.30788</td>\n",
       "    </tr>\n",
       "    <tr>\n",
       "      <th>4</th>\n",
       "      <td>4</td>\n",
       "      <td>CCOc1cc(C(=O)NC(CC(=O)O)c2ccccc2C)nn1-c1ccccc1F</td>\n",
       "      <td>MLFFCILPEDOIHN-KRWDZBQOSA-N</td>\n",
       "      <td>7.823909</td>\n",
       "      <td>NaN</td>\n",
       "      <td>1.0</td>\n",
       "      <td>411.433</td>\n",
       "      <td>3.66432</td>\n",
       "    </tr>\n",
       "  </tbody>\n",
       "</table>\n",
       "</div>"
      ],
      "text/plain": [
       "   Unnamed: 0                                  base_rdkit_smiles  \\\n",
       "0           0  O=C([C@H]1CNCC[C@@]12OCc1cc(F)c(F)cc12)N(Cc1cc...   \n",
       "1           1      COc1ccc(-n2c(=O)c(C)nc3cnc(Oc4ccccc4)nc32)cc1   \n",
       "2           2  COc1ccc(C(C(=O)NC2CCCC2)N(C(=O)c2snc(-c3ccc(F)...   \n",
       "3           3  CN1CCN(CCCN(C(=O)Nc2ccc(F)c(C(F)(F)F)c2)C2CCC3...   \n",
       "4           4    CCOc1cc(C(=O)NC(CC(=O)O)c2ccccc2C)nn1-c1ccccc1F   \n",
       "\n",
       "                   compound_id     pIC50 relation  active  molecular_weight  \\\n",
       "0                CHEMBL1923118  5.441849      NaN     1.0           500.895   \n",
       "1  BAARRVDYHOBEOI-UHFFFAOYNA-N  4.800000        <     0.0           360.373   \n",
       "2  AMKHNFFZBIGCEX-ZYMSVLFVNA-N  4.900000        <     0.0           562.642   \n",
       "3                CHEMBL1289614  7.300577      NaN     1.0           543.609   \n",
       "4  MLFFCILPEDOIHN-KRWDZBQOSA-N  7.823909      NaN     1.0           411.433   \n",
       "\n",
       "      logp  \n",
       "0  5.16320  \n",
       "1  3.28502  \n",
       "2  6.12600  \n",
       "3  5.30788  \n",
       "4  3.66432  "
      ]
     },
     "execution_count": 211,
     "metadata": {},
     "output_type": "execute_result"
    }
   ],
   "source": [
    "union_train_df['molecular_weight'] = [MolWt(Chem.MolFromSmiles(smi)) for smi in union_train_df['base_rdkit_smiles'].to_list()]\n",
    "union_train_df['logp'] = [MolLogP(Chem.MolFromSmiles(smi)) for smi in union_train_df['base_rdkit_smiles'].to_list()]\n",
    "union_train_df.to_csv(home_dir+target.lower()+'_union_train_smiles_active_th5_molwt_logp.csv', index=False)\n",
    "union_train_df.head(5)"
   ]
  },
  {
   "cell_type": "code",
   "execution_count": 212,
   "metadata": {},
   "outputs": [
    {
     "data": {
      "text/plain": [
       "count    17796.000000\n",
       "mean       421.882492\n",
       "std        126.866067\n",
       "min         68.079000\n",
       "25%        337.467000\n",
       "50%        402.496000\n",
       "75%        481.932750\n",
       "max       1555.912000\n",
       "Name: molecular_weight, dtype: float64"
      ]
     },
     "execution_count": 212,
     "metadata": {},
     "output_type": "execute_result"
    }
   ],
   "source": [
    "union_train_df.molecular_weight.describe()"
   ]
  },
  {
   "cell_type": "code",
   "execution_count": 213,
   "metadata": {},
   "outputs": [
    {
     "data": {
      "text/plain": [
       "count    17796.000000\n",
       "mean         3.827835\n",
       "std          1.488646\n",
       "min         -6.295800\n",
       "25%          2.876530\n",
       "50%          3.773210\n",
       "75%          4.742900\n",
       "max         14.139200\n",
       "Name: logp, dtype: float64"
      ]
     },
     "execution_count": 213,
     "metadata": {},
     "output_type": "execute_result"
    }
   ],
   "source": [
    "union_train_df.logp.describe()"
   ]
  },
  {
   "cell_type": "code",
   "execution_count": 214,
   "metadata": {},
   "outputs": [
    {
     "data": {
      "text/html": [
       "<div>\n",
       "<style scoped>\n",
       "    .dataframe tbody tr th:only-of-type {\n",
       "        vertical-align: middle;\n",
       "    }\n",
       "\n",
       "    .dataframe tbody tr th {\n",
       "        vertical-align: top;\n",
       "    }\n",
       "\n",
       "    .dataframe thead th {\n",
       "        text-align: right;\n",
       "    }\n",
       "</style>\n",
       "<table border=\"1\" class=\"dataframe\">\n",
       "  <thead>\n",
       "    <tr style=\"text-align: right;\">\n",
       "      <th></th>\n",
       "      <th>Unnamed: 0</th>\n",
       "      <th>base_rdkit_smiles</th>\n",
       "      <th>compound_id</th>\n",
       "      <th>pIC50</th>\n",
       "      <th>relation</th>\n",
       "      <th>active</th>\n",
       "      <th>molecular_weight</th>\n",
       "      <th>logp</th>\n",
       "    </tr>\n",
       "  </thead>\n",
       "  <tbody>\n",
       "    <tr>\n",
       "      <th>0</th>\n",
       "      <td>0</td>\n",
       "      <td>CC(C)C[C@@H]1C(=O)N[C@H](C2Cc3ccccc3C2)C(=O)N1...</td>\n",
       "      <td>CHEMBL196478</td>\n",
       "      <td>5.398970</td>\n",
       "      <td>NaN</td>\n",
       "      <td>1</td>\n",
       "      <td>497.586</td>\n",
       "      <td>3.6872</td>\n",
       "    </tr>\n",
       "    <tr>\n",
       "      <th>1</th>\n",
       "      <td>1</td>\n",
       "      <td>COCC(=O)N[C@@H](Cc1cccc(-c2ncco2)c1)[C@H](O)CN...</td>\n",
       "      <td>CHEMBL2181890</td>\n",
       "      <td>7.000000</td>\n",
       "      <td>NaN</td>\n",
       "      <td>1</td>\n",
       "      <td>562.711</td>\n",
       "      <td>4.3959</td>\n",
       "    </tr>\n",
       "    <tr>\n",
       "      <th>2</th>\n",
       "      <td>2</td>\n",
       "      <td>COc1cc(NC(=O)Cc2c(C(=O)O)[nH]c3ccccc23)cc(OC)c1OC</td>\n",
       "      <td>ZKKZVJGZGNIDEN-GWZBNUJDNA-N</td>\n",
       "      <td>4.900000</td>\n",
       "      <td>&lt;</td>\n",
       "      <td>0</td>\n",
       "      <td>384.388</td>\n",
       "      <td>3.0731</td>\n",
       "    </tr>\n",
       "    <tr>\n",
       "      <th>3</th>\n",
       "      <td>3</td>\n",
       "      <td>O=C(Nc1ccc(S(=O)(=O)N2CC3CCC(C2)O3)cc1)[C@@H]1...</td>\n",
       "      <td>CHEMBL3127525</td>\n",
       "      <td>5.464197</td>\n",
       "      <td>NaN</td>\n",
       "      <td>1</td>\n",
       "      <td>413.499</td>\n",
       "      <td>2.3757</td>\n",
       "    </tr>\n",
       "    <tr>\n",
       "      <th>4</th>\n",
       "      <td>4</td>\n",
       "      <td>CONC(=O)Nc1ccc(-c2sc3c(c2CN(C)CCn2ccnn2)c(=O)n...</td>\n",
       "      <td>VNISZKLRKNEAMG-PHLAQJRANA-N</td>\n",
       "      <td>5.070000</td>\n",
       "      <td>NaN</td>\n",
       "      <td>1</td>\n",
       "      <td>672.718</td>\n",
       "      <td>4.6138</td>\n",
       "    </tr>\n",
       "  </tbody>\n",
       "</table>\n",
       "</div>"
      ],
      "text/plain": [
       "   Unnamed: 0                                  base_rdkit_smiles  \\\n",
       "0           0  CC(C)C[C@@H]1C(=O)N[C@H](C2Cc3ccccc3C2)C(=O)N1...   \n",
       "1           1  COCC(=O)N[C@@H](Cc1cccc(-c2ncco2)c1)[C@H](O)CN...   \n",
       "2           2  COc1cc(NC(=O)Cc2c(C(=O)O)[nH]c3ccccc23)cc(OC)c1OC   \n",
       "3           3  O=C(Nc1ccc(S(=O)(=O)N2CC3CCC(C2)O3)cc1)[C@@H]1...   \n",
       "4           4  CONC(=O)Nc1ccc(-c2sc3c(c2CN(C)CCn2ccnn2)c(=O)n...   \n",
       "\n",
       "                   compound_id     pIC50 relation  active  molecular_weight  \\\n",
       "0                 CHEMBL196478  5.398970      NaN       1           497.586   \n",
       "1                CHEMBL2181890  7.000000      NaN       1           562.711   \n",
       "2  ZKKZVJGZGNIDEN-GWZBNUJDNA-N  4.900000        <       0           384.388   \n",
       "3                CHEMBL3127525  5.464197      NaN       1           413.499   \n",
       "4  VNISZKLRKNEAMG-PHLAQJRANA-N  5.070000      NaN       1           672.718   \n",
       "\n",
       "     logp  \n",
       "0  3.6872  \n",
       "1  4.3959  \n",
       "2  3.0731  \n",
       "3  2.3757  \n",
       "4  4.6138  "
      ]
     },
     "execution_count": 214,
     "metadata": {},
     "output_type": "execute_result"
    }
   ],
   "source": [
    "union_test_df['molecular_weight'] = [MolWt(Chem.MolFromSmiles(smi)) for smi in union_test_df['base_rdkit_smiles'].to_list()]\n",
    "union_test_df['logp'] = [MolLogP(Chem.MolFromSmiles(smi)) for smi in union_test_df['base_rdkit_smiles'].to_list()]\n",
    "union_test_df.to_csv(home_dir+target.lower()+'_union_test_smiles_active_th5_molwt_logp.csv', index=False)\n",
    "union_test_df.head(5)"
   ]
  },
  {
   "cell_type": "code",
   "execution_count": 215,
   "metadata": {},
   "outputs": [
    {
     "data": {
      "text/plain": [
       "count    3141.000000\n",
       "mean      424.334782\n",
       "std       128.567688\n",
       "min        94.117000\n",
       "25%       336.395000\n",
       "50%       404.459000\n",
       "75%       486.616000\n",
       "max       997.405000\n",
       "Name: molecular_weight, dtype: float64"
      ]
     },
     "execution_count": 215,
     "metadata": {},
     "output_type": "execute_result"
    }
   ],
   "source": [
    "union_test_df.molecular_weight.describe()"
   ]
  },
  {
   "cell_type": "code",
   "execution_count": 216,
   "metadata": {},
   "outputs": [
    {
     "data": {
      "text/plain": [
       "count    3141.000000\n",
       "mean        3.784334\n",
       "std         1.475576\n",
       "min        -3.011500\n",
       "25%         2.871200\n",
       "50%         3.719500\n",
       "75%         4.681600\n",
       "max        11.095000\n",
       "Name: logp, dtype: float64"
      ]
     },
     "execution_count": 216,
     "metadata": {},
     "output_type": "execute_result"
    }
   ],
   "source": [
    "union_test_df.logp.describe()"
   ]
  },
  {
   "cell_type": "markdown",
   "metadata": {},
   "source": [
    "## Plot molwts "
   ]
  },
  {
   "cell_type": "code",
   "execution_count": 217,
   "metadata": {},
   "outputs": [
    {
     "data": {
      "image/png": "[encoded data removed]",
      "text/plain": [
       "<Figure size 480x320 with 1 Axes>"
      ]
     },
     "metadata": {},
     "output_type": "display_data"
    }
   ],
   "source": [
    "# fig, ax = plt.subplots(figsize = (6,4))\n",
    "bins = np.linspace(100, 1000, 50)\n",
    "plt.hist(union_train_df['molecular_weight'].to_numpy(), bins, alpha=0.5, label='union_train', color='g')\n",
    "plt.hist(union_test_df['molecular_weight'].to_numpy(), bins, alpha=0.5, label='union_test', color='b')\n",
    "plt.legend(loc='upper right', prop={'size': 10})\n",
    "plt.title(target.upper()+ \" - Distribution of molWt (Union)\")\n",
    "plt.xlabel(\"molecular weight\")\n",
    "plt.show()"
   ]
  },
  {
   "cell_type": "code",
   "execution_count": 218,
   "metadata": {},
   "outputs": [],
   "source": [
    "#print(plt.style.available)"
   ]
  },
  {
   "cell_type": "markdown",
   "metadata": {},
   "source": [
    "## Plot molWt vs pIC50 "
   ]
  },
  {
   "cell_type": "code",
   "execution_count": 221,
   "metadata": {},
   "outputs": [
    {
     "data": {
      "image/png": "[encoded data removed]",
      "text/plain": [
       "<Figure size 480x320 with 1 Axes>"
      ]
     },
     "metadata": {},
     "output_type": "display_data"
    }
   ],
   "source": [
    "plt.scatter(union_train_df['logp'], union_train_df['molecular_weight'], color='red', marker='x')\n",
    "plt.scatter(union_test_df['logp'], union_test_df['molecular_weight'], color='black', marker='x')\n",
    "plt.legend(loc='upper right', prop={'size': 10}, labels=['union_train', 'union_test'])\n",
    "plt.title(target.upper()+ \" - Plot of molWt vs. logP (Union)\")\n",
    "plt.xlabel(\"logP\")\n",
    "plt.ylabel(\"molecular weight\")\n",
    "plt.show();"
   ]
  },
  {
   "cell_type": "code",
   "execution_count": 220,
   "metadata": {},
   "outputs": [
    {
     "data": {
      "image/png": "[encoded data removed]",
      "text/plain": [
       "<Figure size 480x320 with 1 Axes>"
      ]
     },
     "metadata": {},
     "output_type": "display_data"
    }
   ],
   "source": [
    "#plt.hist(union_train_df['molecular_weight'].to_numpy(), union_train_df['pIC50'].to_numpy(), color='g')\n",
    "plt.scatter(union_train_df['pIC50'], union_train_df['molecular_weight'], color='red', marker='x')\n",
    "plt.scatter(union_test_df['pIC50'], union_test_df['molecular_weight'], color='black', marker='x')\n",
    "plt.legend(loc='upper right', prop={'size': 10}, labels=['union_train', 'union_test'])\n",
    "plt.title(target.upper()+ \" - Plot of molWt vs. pIC50 (Union)\")\n",
    "plt.xlabel(\"pIC50\")\n",
    "plt.ylabel(\"molecular weight\")\n",
    "plt.show();"
   ]
  }
 ],
 "metadata": {
  "accelerator": "GPU",
  "colab": {
   "collapsed_sections": [],
   "name": "data_analysis.ipynb",
   "provenance": []
  },
  "gpuClass": "standard",
  "kernelspec": {
   "display_name": "ampl-1.4.0",
   "language": "python",
   "name": "ampl-1.4.0"
  },
  "language_info": {
   "codemirror_mode": {
    "name": "ipython",
    "version": 3
   },
   "file_extension": ".py",
   "mimetype": "text/x-python",
   "name": "python",
   "nbconvert_exporter": "python",
   "pygments_lexer": "ipython3",
   "version": "3.7.10"
  }
 },
 "nbformat": 4,
 "nbformat_minor": 1
}
