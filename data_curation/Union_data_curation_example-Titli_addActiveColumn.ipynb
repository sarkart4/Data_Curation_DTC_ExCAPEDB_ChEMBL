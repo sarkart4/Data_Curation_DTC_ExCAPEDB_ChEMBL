{
 "cells": [
  {
   "cell_type": "markdown",
   "metadata": {},
   "source": [
    "# Here, we will add active column to Union train and test data from MoDac. \n",
    "\n",
    "### Please note that we have already done similar curation on individual DTC, Excape and ChEMBL 'raw' data as earlier stages. Now, we will use active column of those individual dataset to find active value of each compound on union train and testset by matching the rdkit_smiles and compound_id.\n",
    "\n",
    "Titli Sarkar\n",
    "March 15, 2023"
   ]
  },
  {
   "cell_type": "code",
   "execution_count": 3,
   "metadata": {},
   "outputs": [],
   "source": [
    "import importlib as imp\n",
    "import sys\n",
    "import pandas as pd\n",
    "import numpy as np\n",
    "import seaborn as sns\n",
    "import matplotlib.pyplot as plt\n",
    "sns.set_context('paper')\n",
    "sns.set_style(\"whitegrid\")\n",
    "sns.set_palette(\"Set2\")\n",
    "plt.rcParams['figure.figsize'] = [10,5]\n",
    "#pal = sns.color_palette(\"Set2\")\n",
    "plt.rcParams['font.size'] = 5"
   ]
  },
  {
   "cell_type": "code",
   "execution_count": 4,
   "metadata": {},
   "outputs": [],
   "source": [
    "import atomsci.ddm.utils.data_curation_functions as dcf\n",
    "import atomsci.ddm.utils.curate_data as curate_data\n",
    "from atomsci.ddm.utils.struct_utils import base_smiles_from_smiles"
   ]
  },
  {
   "cell_type": "code",
   "execution_count": 6,
   "metadata": {},
   "outputs": [],
   "source": [
    "# Just run all cells with changing target you want\n",
    "target = 'CYP2D6' # 'CYP2D6' or 'CYP2C9'"
   ]
  },
  {
   "cell_type": "code",
   "execution_count": 7,
   "metadata": {},
   "outputs": [
    {
     "name": "stdout",
     "output_type": "stream",
     "text": [
      "B9FDFB00\r\n",
      "CHEMBL25-CYP2D6_human_IC50_26Nov2019.txt\r\n",
      "cyp2d6_chembl_smiles_active.csv\r\n",
      "cyp2d6_chembl_smiles_active_th5.csv\r\n",
      "cyp2d6_chembl_testset_base_smiles_union_active.csv\r\n",
      "cyp2d6_chembl_testset_base_smiles_union.csv\r\n",
      "CYP2D6_curated.csv\r\n",
      "CYP2D6_curated_train_valid_test_scaffold_0f84c002-8d4f-408b-a50f-e3fcba80ca4c.csv\r\n",
      "cyp2d6_dtc_smiles_active.csv\r\n",
      "cyp2d6_dtc_smiles_active_th5.csv\r\n",
      "cyp2d6_dtc_smiles.csv\r\n",
      "cyp2d6_dtc_testset_base_smiles_union_active.csv\r\n",
      "cyp2d6_dtc_testset_base_smiles_union.csv\r\n",
      "cyp2d6_excape_smiles_active.csv\r\n",
      "cyp2d6_excape_smiles_active_th5.csv\r\n",
      "cyp2d6_excape_smiles.csv\r\n",
      "cyp2d6_excape_testset_base_smiles_union_active.csv\r\n",
      "cyp2d6_excape_testset_base_smiles_union.csv\r\n",
      "CYP2D6_merged\r\n",
      "CYP2D6_merged.csv\r\n",
      "CYP2D6_reject_IC50.csv\r\n",
      "cyp2d6_union_testset_base_smiles.csv\r\n",
      "cyp2d6_union_trainset_base_smiles.csv\r\n",
      "cyp2d6_union_trainset_base_smiles_train_valid_test_scaffold_4cb49d5e-1882-474e-ae0b-781d77a4738a.csv\r\n",
      "cyp2d6_union_trainset_base_smiles_train_valid_test_scaffold_c8c36365-b294-41a4-983a-57879bbde0c0.csv\r\n",
      "cyp2d6_union_trainset_base_smiles_train_valid_test_scaffold_f2a8eff6-71b7-4139-882a-ef83b157b27f.csv\r\n",
      "scaled_descriptors\r\n"
     ]
    }
   ],
   "source": [
    "data_dir = \"/mnt/projects/ATOM/sarkart4/MoDaC/NCI_DOE_Archive/ATOM/Safety_Screen_Targets/\"+target.upper()+'-ampl-1.1.0/'\n",
    "!ls $data_dir"
   ]
  },
  {
   "cell_type": "code",
   "execution_count": 8,
   "metadata": {},
   "outputs": [
    {
     "name": "stdout",
     "output_type": "stream",
     "text": [
      "(1843, 5)\n"
     ]
    },
    {
     "name": "stderr",
     "output_type": "stream",
     "text": [
      "/home/sarkart4/miniconda3/envs/ampl-1.4.1/lib/python3.7/site-packages/IPython/core/interactiveshell.py:3343: FutureWarning: The error_bad_lines argument has been deprecated and will be removed in a future version.\n",
      "\n",
      "\n",
      "  exec(code_obj, self.user_global_ns, self.user_ns)\n"
     ]
    },
    {
     "data": {
      "text/html": [
       "<div>\n",
       "<style scoped>\n",
       "    .dataframe tbody tr th:only-of-type {\n",
       "        vertical-align: middle;\n",
       "    }\n",
       "\n",
       "    .dataframe tbody tr th {\n",
       "        vertical-align: top;\n",
       "    }\n",
       "\n",
       "    .dataframe thead th {\n",
       "        text-align: right;\n",
       "    }\n",
       "</style>\n",
       "<table border=\"1\" class=\"dataframe\">\n",
       "  <thead>\n",
       "    <tr style=\"text-align: right;\">\n",
       "      <th></th>\n",
       "      <th>base_rdkit_smiles</th>\n",
       "      <th>compound_id</th>\n",
       "      <th>pIC50</th>\n",
       "      <th>relation</th>\n",
       "      <th>active</th>\n",
       "    </tr>\n",
       "  </thead>\n",
       "  <tbody>\n",
       "    <tr>\n",
       "      <th>0</th>\n",
       "      <td>S=C(Nc1ccc2cn[nH]c2c1)Nc1ccc2cn[nH]c2c1</td>\n",
       "      <td>OTJWJLLGPAFTIP-KNLWZTMUNA-N</td>\n",
       "      <td>5.700000</td>\n",
       "      <td>NaN</td>\n",
       "      <td>1</td>\n",
       "    </tr>\n",
       "    <tr>\n",
       "      <th>1</th>\n",
       "      <td>Cc1[nH]c2ccccc2c1C(c1ccccn1)N1CCC(C)CC1</td>\n",
       "      <td>NBKDMBGWUXYCJB-UHFFFAOYNA-N</td>\n",
       "      <td>4.600000</td>\n",
       "      <td>&lt;</td>\n",
       "      <td>0</td>\n",
       "    </tr>\n",
       "    <tr>\n",
       "      <th>2</th>\n",
       "      <td>CC(C)(Cc1c[nH]c2ccc(Cl)cc12)NCCOc1ccccc1OCC1CC1</td>\n",
       "      <td>XLZHXAXXJVKTFM-UHFFFAOYNA-N</td>\n",
       "      <td>7.000000</td>\n",
       "      <td>NaN</td>\n",
       "      <td>1</td>\n",
       "    </tr>\n",
       "    <tr>\n",
       "      <th>3</th>\n",
       "      <td>CCN(CC)C(=O)CN1CCCC(c2nc3ccccc3n2Cc2ccc(F)cc2)C1</td>\n",
       "      <td>CHEMBL1935432</td>\n",
       "      <td>5.720831</td>\n",
       "      <td>NaN</td>\n",
       "      <td>1</td>\n",
       "    </tr>\n",
       "    <tr>\n",
       "      <th>4</th>\n",
       "      <td>NC(=NCc1ccc(Cl)cc1)SCCCc1c[nH]cn1</td>\n",
       "      <td>UCAIEVHKDLMIFL-QDYITYEQNA-N</td>\n",
       "      <td>4.900000</td>\n",
       "      <td>&lt;</td>\n",
       "      <td>0</td>\n",
       "    </tr>\n",
       "  </tbody>\n",
       "</table>\n",
       "</div>"
      ],
      "text/plain": [
       "                                  base_rdkit_smiles  \\\n",
       "0           S=C(Nc1ccc2cn[nH]c2c1)Nc1ccc2cn[nH]c2c1   \n",
       "1           Cc1[nH]c2ccccc2c1C(c1ccccn1)N1CCC(C)CC1   \n",
       "2   CC(C)(Cc1c[nH]c2ccc(Cl)cc12)NCCOc1ccccc1OCC1CC1   \n",
       "3  CCN(CC)C(=O)CN1CCCC(c2nc3ccccc3n2Cc2ccc(F)cc2)C1   \n",
       "4                 NC(=NCc1ccc(Cl)cc1)SCCCc1c[nH]cn1   \n",
       "\n",
       "                   compound_id     pIC50 relation  active  \n",
       "0  OTJWJLLGPAFTIP-KNLWZTMUNA-N  5.700000      NaN       1  \n",
       "1  NBKDMBGWUXYCJB-UHFFFAOYNA-N  4.600000        <       0  \n",
       "2  XLZHXAXXJVKTFM-UHFFFAOYNA-N  7.000000      NaN       1  \n",
       "3                CHEMBL1935432  5.720831      NaN       1  \n",
       "4  UCAIEVHKDLMIFL-QDYITYEQNA-N  4.900000        <       0  "
      ]
     },
     "execution_count": 8,
     "metadata": {},
     "output_type": "execute_result"
    }
   ],
   "source": [
    "file = data_dir + target.lower()+'_union_testset_base_smiles.csv' # exisitng MoDaC raw\n",
    "union_test_df = pd.read_csv(file,sep=\",\",engine=\"python\",error_bad_lines=False) # Note that my orig_df is MoDaC files, you should use the raw file downloaded form ExcapeDB\n",
    "print(union_test_df.shape)\n",
    "union_test_df.head()"
   ]
  },
  {
   "cell_type": "code",
   "execution_count": 9,
   "metadata": {},
   "outputs": [
    {
     "data": {
      "text/plain": [
       "Index(['base_rdkit_smiles', 'compound_id', 'pIC50', 'relation', 'active'], dtype='object')"
      ]
     },
     "execution_count": 9,
     "metadata": {},
     "output_type": "execute_result"
    }
   ],
   "source": [
    "union_test_df.columns"
   ]
  },
  {
   "cell_type": "code",
   "execution_count": 10,
   "metadata": {},
   "outputs": [
    {
     "name": "stdout",
     "output_type": "stream",
     "text": [
      "(1843, 4)\n"
     ]
    },
    {
     "data": {
      "text/html": [
       "<div>\n",
       "<style scoped>\n",
       "    .dataframe tbody tr th:only-of-type {\n",
       "        vertical-align: middle;\n",
       "    }\n",
       "\n",
       "    .dataframe tbody tr th {\n",
       "        vertical-align: top;\n",
       "    }\n",
       "\n",
       "    .dataframe thead th {\n",
       "        text-align: right;\n",
       "    }\n",
       "</style>\n",
       "<table border=\"1\" class=\"dataframe\">\n",
       "  <thead>\n",
       "    <tr style=\"text-align: right;\">\n",
       "      <th></th>\n",
       "      <th>base_rdkit_smiles</th>\n",
       "      <th>compound_id</th>\n",
       "      <th>pIC50</th>\n",
       "      <th>relation</th>\n",
       "    </tr>\n",
       "  </thead>\n",
       "  <tbody>\n",
       "    <tr>\n",
       "      <th>0</th>\n",
       "      <td>S=C(Nc1ccc2cn[nH]c2c1)Nc1ccc2cn[nH]c2c1</td>\n",
       "      <td>OTJWJLLGPAFTIP-KNLWZTMUNA-N</td>\n",
       "      <td>5.7</td>\n",
       "      <td>NaN</td>\n",
       "    </tr>\n",
       "    <tr>\n",
       "      <th>1</th>\n",
       "      <td>Cc1[nH]c2ccccc2c1C(c1ccccn1)N1CCC(C)CC1</td>\n",
       "      <td>NBKDMBGWUXYCJB-UHFFFAOYNA-N</td>\n",
       "      <td>4.6</td>\n",
       "      <td>&lt;</td>\n",
       "    </tr>\n",
       "  </tbody>\n",
       "</table>\n",
       "</div>"
      ],
      "text/plain": [
       "                         base_rdkit_smiles                  compound_id  \\\n",
       "0  S=C(Nc1ccc2cn[nH]c2c1)Nc1ccc2cn[nH]c2c1  OTJWJLLGPAFTIP-KNLWZTMUNA-N   \n",
       "1  Cc1[nH]c2ccccc2c1C(c1ccccn1)N1CCC(C)CC1  NBKDMBGWUXYCJB-UHFFFAOYNA-N   \n",
       "\n",
       "   pIC50 relation  \n",
       "0    5.7      NaN  \n",
       "1    4.6        <  "
      ]
     },
     "execution_count": 10,
     "metadata": {},
     "output_type": "execute_result"
    }
   ],
   "source": [
    "# first, delete old 'active' column\n",
    "union_test_df = union_test_df.drop(columns = ['active'])\n",
    "print(union_test_df.shape) \n",
    "union_test_df.head(2)"
   ]
  },
  {
   "cell_type": "code",
   "execution_count": null,
   "metadata": {},
   "outputs": [],
   "source": [
    "#next, standardize smiles (for extra precaution)\n",
    "#union_test_df['base_rdkit_smiles'] = base_smiles_from_smiles(union_test_df['base_rdkit_smiles'].to_list())"
   ]
  },
  {
   "cell_type": "code",
   "execution_count": 11,
   "metadata": {},
   "outputs": [
    {
     "data": {
      "text/plain": [
       "[(3834, 2), (7961, 2), (2297, 2)]"
      ]
     },
     "execution_count": 11,
     "metadata": {},
     "output_type": "execute_result"
    }
   ],
   "source": [
    "# Read three previously correctly 'active' marked raw dataframes\n",
    "dtc_df = pd.read_csv(data_dir +target.lower()+'_dtc_smiles_active.csv')[['rdkit_smiles', 'active']]\n",
    "excape_df = pd.read_csv(data_dir +target.lower()+'_excape_smiles_active.csv')[['rdkit_smiles', 'active']]\n",
    "chembl_df = pd.read_csv(data_dir +target.lower()+'_chembl_smiles_active.csv')[['rdkit_smiles', 'active']]\n",
    "[dtc_df.shape, excape_df.shape, chembl_df.shape]"
   ]
  },
  {
   "cell_type": "code",
   "execution_count": 12,
   "metadata": {},
   "outputs": [
    {
     "data": {
      "text/plain": [
       "False    1439\n",
       "True      404\n",
       "Name: base_rdkit_smiles, dtype: int64"
      ]
     },
     "execution_count": 12,
     "metadata": {},
     "output_type": "execute_result"
    }
   ],
   "source": [
    "union_test_df['base_rdkit_smiles'].isin(dtc_df['rdkit_smiles']).value_counts()"
   ]
  },
  {
   "cell_type": "code",
   "execution_count": 13,
   "metadata": {},
   "outputs": [
    {
     "data": {
      "text/plain": [
       "True     1166\n",
       "False     677\n",
       "Name: base_rdkit_smiles, dtype: int64"
      ]
     },
     "execution_count": 13,
     "metadata": {},
     "output_type": "execute_result"
    }
   ],
   "source": [
    "union_test_df['base_rdkit_smiles'].isin(excape_df['rdkit_smiles']).value_counts()"
   ]
  },
  {
   "cell_type": "code",
   "execution_count": 14,
   "metadata": {},
   "outputs": [
    {
     "data": {
      "text/plain": [
       "False    1513\n",
       "True      330\n",
       "Name: base_rdkit_smiles, dtype: int64"
      ]
     },
     "execution_count": 14,
     "metadata": {},
     "output_type": "execute_result"
    }
   ],
   "source": [
    "union_test_df['base_rdkit_smiles'].isin(chembl_df['rdkit_smiles']).value_counts()"
   ]
  },
  {
   "cell_type": "code",
   "execution_count": null,
   "metadata": {},
   "outputs": [],
   "source": [
    "# #dtc_df[['rdkit_smiles', 'active']]\n",
    "# dtc_df['base_rdkit_smiles'] = base_smiles_from_smiles(dtc_df['rdkit_smiles'].to_list())\n",
    "# dtc_df.head(5)"
   ]
  },
  {
   "cell_type": "code",
   "execution_count": null,
   "metadata": {},
   "outputs": [],
   "source": [
    "# dtc_df = dtc_df.drop(columns=['rdkit_smiles'])"
   ]
  },
  {
   "cell_type": "code",
   "execution_count": null,
   "metadata": {},
   "outputs": [],
   "source": [
    "# dtc_df"
   ]
  },
  {
   "cell_type": "code",
   "execution_count": 27,
   "metadata": {},
   "outputs": [
    {
     "name": "stdout",
     "output_type": "stream",
     "text": [
      "(1892, 6)\n",
      "Index(['base_rdkit_smiles', 'compound_id', 'pIC50', 'relation', 'rdkit_smiles',\n",
      "       'active'],\n",
      "      dtype='object')\n"
     ]
    },
    {
     "data": {
      "text/html": [
       "<div>\n",
       "<style scoped>\n",
       "    .dataframe tbody tr th:only-of-type {\n",
       "        vertical-align: middle;\n",
       "    }\n",
       "\n",
       "    .dataframe tbody tr th {\n",
       "        vertical-align: top;\n",
       "    }\n",
       "\n",
       "    .dataframe thead th {\n",
       "        text-align: right;\n",
       "    }\n",
       "</style>\n",
       "<table border=\"1\" class=\"dataframe\">\n",
       "  <thead>\n",
       "    <tr style=\"text-align: right;\">\n",
       "      <th></th>\n",
       "      <th>base_rdkit_smiles</th>\n",
       "      <th>compound_id</th>\n",
       "      <th>pIC50</th>\n",
       "      <th>relation</th>\n",
       "      <th>rdkit_smiles</th>\n",
       "      <th>active</th>\n",
       "    </tr>\n",
       "  </thead>\n",
       "  <tbody>\n",
       "    <tr>\n",
       "      <th>0</th>\n",
       "      <td>S=C(Nc1ccc2cn[nH]c2c1)Nc1ccc2cn[nH]c2c1</td>\n",
       "      <td>OTJWJLLGPAFTIP-KNLWZTMUNA-N</td>\n",
       "      <td>5.700000</td>\n",
       "      <td>NaN</td>\n",
       "      <td>S=C(Nc1ccc2cn[nH]c2c1)Nc1ccc2cn[nH]c2c1</td>\n",
       "      <td>NaN</td>\n",
       "    </tr>\n",
       "    <tr>\n",
       "      <th>1</th>\n",
       "      <td>Cc1[nH]c2ccccc2c1C(c1ccccn1)N1CCC(C)CC1</td>\n",
       "      <td>NBKDMBGWUXYCJB-UHFFFAOYNA-N</td>\n",
       "      <td>4.600000</td>\n",
       "      <td>&lt;</td>\n",
       "      <td>Cc1[nH]c2ccccc2c1C(c1ccccn1)N1CCC(C)CC1</td>\n",
       "      <td>NaN</td>\n",
       "    </tr>\n",
       "    <tr>\n",
       "      <th>2</th>\n",
       "      <td>CC(C)(Cc1c[nH]c2ccc(Cl)cc12)NCCOc1ccccc1OCC1CC1</td>\n",
       "      <td>XLZHXAXXJVKTFM-UHFFFAOYNA-N</td>\n",
       "      <td>7.000000</td>\n",
       "      <td>NaN</td>\n",
       "      <td>CC(C)(Cc1c[nH]c2ccc(Cl)cc12)NCCOc1ccccc1OCC1CC1</td>\n",
       "      <td>NaN</td>\n",
       "    </tr>\n",
       "    <tr>\n",
       "      <th>3</th>\n",
       "      <td>CCN(CC)C(=O)CN1CCCC(c2nc3ccccc3n2Cc2ccc(F)cc2)C1</td>\n",
       "      <td>CHEMBL1935432</td>\n",
       "      <td>5.720831</td>\n",
       "      <td>NaN</td>\n",
       "      <td>CCN(CC)C(=O)CN1CCCC(c2nc3ccccc3n2Cc2ccc(F)cc2)C1</td>\n",
       "      <td>0.0</td>\n",
       "    </tr>\n",
       "    <tr>\n",
       "      <th>4</th>\n",
       "      <td>NC(=NCc1ccc(Cl)cc1)SCCCc1c[nH]cn1</td>\n",
       "      <td>UCAIEVHKDLMIFL-QDYITYEQNA-N</td>\n",
       "      <td>4.900000</td>\n",
       "      <td>&lt;</td>\n",
       "      <td>NC(=NCc1ccc(Cl)cc1)SCCCc1c[nH]cn1</td>\n",
       "      <td>NaN</td>\n",
       "    </tr>\n",
       "  </tbody>\n",
       "</table>\n",
       "</div>"
      ],
      "text/plain": [
       "                                  base_rdkit_smiles  \\\n",
       "0           S=C(Nc1ccc2cn[nH]c2c1)Nc1ccc2cn[nH]c2c1   \n",
       "1           Cc1[nH]c2ccccc2c1C(c1ccccn1)N1CCC(C)CC1   \n",
       "2   CC(C)(Cc1c[nH]c2ccc(Cl)cc12)NCCOc1ccccc1OCC1CC1   \n",
       "3  CCN(CC)C(=O)CN1CCCC(c2nc3ccccc3n2Cc2ccc(F)cc2)C1   \n",
       "4                 NC(=NCc1ccc(Cl)cc1)SCCCc1c[nH]cn1   \n",
       "\n",
       "                   compound_id     pIC50 relation  \\\n",
       "0  OTJWJLLGPAFTIP-KNLWZTMUNA-N  5.700000      NaN   \n",
       "1  NBKDMBGWUXYCJB-UHFFFAOYNA-N  4.600000        <   \n",
       "2  XLZHXAXXJVKTFM-UHFFFAOYNA-N  7.000000      NaN   \n",
       "3                CHEMBL1935432  5.720831      NaN   \n",
       "4  UCAIEVHKDLMIFL-QDYITYEQNA-N  4.900000        <   \n",
       "\n",
       "                                       rdkit_smiles  active  \n",
       "0           S=C(Nc1ccc2cn[nH]c2c1)Nc1ccc2cn[nH]c2c1     NaN  \n",
       "1           Cc1[nH]c2ccccc2c1C(c1ccccn1)N1CCC(C)CC1     NaN  \n",
       "2   CC(C)(Cc1c[nH]c2ccc(Cl)cc12)NCCOc1ccccc1OCC1CC1     NaN  \n",
       "3  CCN(CC)C(=O)CN1CCCC(c2nc3ccccc3n2Cc2ccc(F)cc2)C1     0.0  \n",
       "4                 NC(=NCc1ccc(Cl)cc1)SCCCc1c[nH]cn1     NaN  "
      ]
     },
     "execution_count": 27,
     "metadata": {},
     "output_type": "execute_result"
    }
   ],
   "source": [
    "# Add 'active' column to original data and save file to FRCE\n",
    "df1 = pd.merge(left=dtc_df, right=excape_df, how='outer', on='rdkit_smiles')\n",
    "df1 = df1.drop(columns=['active_y']).rename(columns={'active_x':'active'})\n",
    "\n",
    "df2 = pd.merge(left=df1, right=chembl_df, how='outer', on='rdkit_smiles')\n",
    "df2 = df2.drop(columns=['active_y']).rename(columns={'active_x':'active'})\n",
    "df2\n",
    "\n",
    "merged = pd.merge(left=union_test_df, right=df2, how='left', left_on='base_rdkit_smiles', right_on='rdkit_smiles')\n",
    "#merged = merged.drop(columns=['rdkit_smiles'])\n",
    "\n",
    "# merged = pd.merge(left=merged, right=dtc_df, how='left', left_on='base_rdkit_smiles', right_on='rdkit_smiles')\n",
    "# merged = merged.drop(columns=['rdkit_smiles'])\n",
    "# merged = pd.merge(pd.merge(union_test_df,dtc_df,left_on='base_rdkit_smiles', right_on='rdkit_smiles'),\n",
    "#                   df3,on='Courses')\n",
    "\n",
    "#merged = pd.merge(left=union_test_df, right=dtc_df, how='left', left_on='base_rdkit_smiles', right_on='rdkit_smiles')\n",
    "#merged = merged.drop(columns=['compound_id_y', 'pIC50_y', 'relation_y'])\n",
    "#merged = merged.rename(columns={'compound_id_x':'compound_id', 'pIC50_x':'pIC50', 'relation_':'relation'})\n",
    "print(merged.shape)\n",
    "print(merged.columns)\n",
    "merged.head()"
   ]
  },
  {
   "cell_type": "code",
   "execution_count": 28,
   "metadata": {},
   "outputs": [
    {
     "data": {
      "text/plain": [
       "0.0    389\n",
       "1.0     51\n",
       "Name: active, dtype: int64"
      ]
     },
     "execution_count": 28,
     "metadata": {},
     "output_type": "execute_result"
    }
   ],
   "source": [
    "merged.active.value_counts()"
   ]
  },
  {
   "cell_type": "code",
   "execution_count": null,
   "metadata": {},
   "outputs": [],
   "source": [
    "merged.to_csv(data_dir +target.lower()+'_excape_smiles_active.csv')"
   ]
  },
  {
   "cell_type": "markdown",
   "metadata": {},
   "source": [
    "# Add 'active' column to testset"
   ]
  },
  {
   "cell_type": "code",
   "execution_count": null,
   "metadata": {},
   "outputs": [],
   "source": [
    "excape_raw_active = pd.read_csv(data_dir + target.lower()+'_excape_smiles_active.csv' ,sep=\",\")\n",
    "print(excape_raw_active.shape)\n",
    "excape_raw_active.head(2)"
   ]
  },
  {
   "cell_type": "code",
   "execution_count": null,
   "metadata": {},
   "outputs": [],
   "source": [
    "excape_test_df = pd.read_csv(data_dir + target.lower()+'_excape_testset_base_smiles_union.csv' ,sep=\",\")\n",
    "excape_test_df.active.value_counts()"
   ]
  },
  {
   "cell_type": "code",
   "execution_count": null,
   "metadata": {},
   "outputs": [],
   "source": [
    "excape_test_df.shape"
   ]
  },
  {
   "cell_type": "code",
   "execution_count": null,
   "metadata": {},
   "outputs": [],
   "source": [
    "excape_test_df = excape_test_df.drop(columns = ['active'])\n",
    "print(excape_test_df.shape) # Note: wrong 'active' column, will be marked correctly in next step\n",
    "excape_test_df.head(2)"
   ]
  },
  {
   "cell_type": "code",
   "execution_count": null,
   "metadata": {},
   "outputs": [],
   "source": [
    "# Add 'active' column and save file to FRCE\n",
    "#merged = pd.merge(left=dtc_test_df, right=dtc_raw_active, how='left', left_on='base_rdkit_smiles', right_on='rdkit_smiles')\n",
    "merged = excape_test_df.merge(excape_raw_active[['rdkit_smiles', 'active']], how = 'left', \n",
    "                           left_on = 'base_rdkit_smiles', right_on = 'rdkit_smiles').drop(columns = ['rdkit_smiles'])\n",
    "print(merged.shape)\n",
    "merged.head(2)"
   ]
  },
  {
   "cell_type": "code",
   "execution_count": null,
   "metadata": {},
   "outputs": [],
   "source": [
    "merged.active.value_counts()"
   ]
  },
  {
   "cell_type": "code",
   "execution_count": null,
   "metadata": {},
   "outputs": [],
   "source": [
    "merged.to_csv(data_dir +target.lower()+'_excape_testset_base_smiles_union_active.csv')"
   ]
  },
  {
   "cell_type": "markdown",
   "metadata": {},
   "source": [
    "# Plot pIC50 for A:N from Excape paper labelling (column='Activity Flag')"
   ]
  },
  {
   "cell_type": "code",
   "execution_count": null,
   "metadata": {},
   "outputs": [],
   "source": [
    "#plot pIC50 distribution based on ExcapeDB A:N labels (ModDaC raw)\n",
    "raw = pd.read_csv(data_dir +target.lower()+'_excape_smiles_active.csv')\n",
    "fig, ax = plt.subplots(figsize = (6,4))\n",
    "sns.kdeplot(data=raw, x=\"pIC50\", hue=\"Activity_Flag\", palette=\"Set2\")\n",
    "plt.title(target.upper()+' - Distribution of pIC50 from ExcapeDB (MoDaC raw)')\n",
    "plt.xlabel('pIC50')\n",
    "plt.show()"
   ]
  },
  {
   "cell_type": "markdown",
   "metadata": {},
   "source": [
    "# Plot pIC50 for 'Active' column from our labelling (column='active')"
   ]
  },
  {
   "cell_type": "code",
   "execution_count": null,
   "metadata": {},
   "outputs": [],
   "source": [
    "#plot pIC50 distribution based on our 'active' labelling (ModDaC raw)\n",
    "#raw = pd.read_csv(data_dir +target.lower()+'_excape_smiles_active.csv')\n",
    "fig, ax = plt.subplots(figsize = (6,4))\n",
    "sns.kdeplot(data=raw, x=\"pIC50\", hue=\"active\", palette=\"Set1\")\n",
    "plt.title(target.upper()+' - Distribution of pIC50 (MoDaC raw)')\n",
    "plt.xlabel('pIC50')\n",
    "plt.show()"
   ]
  },
  {
   "cell_type": "markdown",
   "metadata": {},
   "source": [
    "# Use active_threashold=5 in aggregate_assay_data()"
   ]
  },
  {
   "cell_type": "code",
   "execution_count": null,
   "metadata": {},
   "outputs": [],
   "source": [
    "imp.reload(curate_data)\n",
    "tolerance=10\n",
    "column='pIC50'   #'pXC50'; #'standard_value'\n",
    "list_bad_duplicates='Yes'\n",
    "max_std=1\n",
    "data=agg_data\n",
    "print(\"before\",data.shape)\n",
    "temp_df1=curate_data.aggregate_assay_data(data, value_col=column, output_value_col=None,\n",
    "                             label_actives=True,\n",
    "                             active_thresh=5, # val > 5 -> 'active' (drug-like compounds) # can be - None(default)| This creates 'active' column based on pIC50 value. Rule used here: pIC50 >=6 'active', labelled as 0, else 1\n",
    "                             id_col='Ambit_InchiKey', smiles_col='rdkit_smiles', relation_col='standard_relation')\n",
    "                             #id_col='standard_inchi_key', smiles_col='rdkit_smiles', relation_col='standard_relation')\n",
    "# Remove inf in curated_df\n",
    "temp_df1 = temp_df1[~temp_df1.isin([np.inf]).any(1)]\n",
    "print(\"after\",temp_df1.shape)\n",
    "temp_df1.head()"
   ]
  },
  {
   "cell_type": "code",
   "execution_count": null,
   "metadata": {},
   "outputs": [],
   "source": [
    "# Add 'active' column to original data and save file to FRCE\n",
    "merged = pd.merge(left=excape_raw_df, right=temp_df1, how='left', left_on='rdkit_smiles', right_on='base_rdkit_smiles')\n",
    "merged = merged.drop(columns=['pIC50_y', 'base_rdkit_smiles'])\n",
    "merged = merged.rename(columns={'pIC50_x':'pIC50'})\n",
    "print(merged.shape)\n",
    "print(merged.active.value_counts())\n",
    "merged.to_csv(data_dir +target.lower()+'_excape_smiles_active_th5.csv')\n",
    "merged.head(5)"
   ]
  },
  {
   "cell_type": "markdown",
   "metadata": {},
   "source": [
    "# plot pIC50 distribution  with active_threashold=5\n"
   ]
  },
  {
   "cell_type": "code",
   "execution_count": null,
   "metadata": {},
   "outputs": [],
   "source": [
    "raw = pd.read_csv(data_dir +target.lower()+'_excape_smiles_active_th5.csv')\n",
    "fig, ax = plt.subplots(figsize = (6,4))\n",
    "sns.kdeplot(data=raw, x=\"pIC50\", hue=\"active\", palette=\"Set2\")\n",
    "plt.title(target.upper()+' - Distribution of pIC50 with active_threashold=5 (MoDaC raw)')\n",
    "plt.xlabel('pIC50')\n",
    "plt.show()"
   ]
  }
 ],
 "metadata": {
  "kernelspec": {
   "display_name": "ampl-1.4.1",
   "language": "python",
   "name": "ampl-1.4.1"
  },
  "language_info": {
   "codemirror_mode": {
    "name": "ipython",
    "version": 3
   },
   "file_extension": ".py",
   "mimetype": "text/x-python",
   "name": "python",
   "nbconvert_exporter": "python",
   "pygments_lexer": "ipython3",
   "version": "3.7.10"
  }
 },
 "nbformat": 4,
 "nbformat_minor": 2
}
