{
 "cells": [
  {
   "cell_type": "markdown",
   "metadata": {},
   "source": [
    "# Here, we will add active column to Union test data from MoDac. \n",
    "\n",
    "### Please note that we have already done similar curation on individual DTC, Excape and ChEMBL 'raw' data as earlier stages. Now, we will use active column of those individual dataset to find active value of each compound on union train and testset by matching the rdkit_smiles and compound_id.\n",
    "\n",
    "Titli Sarkar\n",
    "March 15, 2023"
   ]
  },
  {
   "cell_type": "code",
   "execution_count": 1,
   "metadata": {},
   "outputs": [],
   "source": [
    "import importlib as imp\n",
    "import sys\n",
    "import pandas as pd\n",
    "import numpy as np\n",
    "import seaborn as sns\n",
    "import matplotlib.pyplot as plt\n",
    "sns.set_context('paper')\n",
    "sns.set_style(\"whitegrid\")\n",
    "sns.set_palette(\"Set2\")\n",
    "plt.rcParams['figure.figsize'] = [10,5]\n",
    "#pal = sns.color_palette(\"Set2\")\n",
    "plt.rcParams['font.size'] = 5"
   ]
  },
  {
   "cell_type": "code",
   "execution_count": 2,
   "metadata": {},
   "outputs": [],
   "source": [
    "import atomsci.ddm.utils.data_curation_functions as dcf\n",
    "import atomsci.ddm.utils.curate_data as curate_data"
   ]
  },
  {
   "cell_type": "code",
   "execution_count": 42,
   "metadata": {},
   "outputs": [],
   "source": [
    "# Just run all cells with changing target you want\n",
    "target = 'CYP3A4'"
   ]
  },
  {
   "cell_type": "code",
   "execution_count": 43,
   "metadata": {},
   "outputs": [
    {
     "name": "stdout",
     "output_type": "stream",
     "text": [
      "CHEMBL25-CYP3A4_human_IC50_26Nov2019.txt\r\n",
      "cyp3a4_chembl_smiles_active.csv\r\n",
      "cyp3a4_chembl_smiles_active_th5.csv\r\n",
      "cyp3a4_chembl_testset_base_smiles_union_active.csv\r\n",
      "cyp3a4_chembl_testset_base_smiles_union.csv\r\n",
      "cyp3a4_dtc_smiles_active.csv\r\n",
      "cyp3a4_dtc_smiles_active_th5.csv\r\n",
      "cyp3a4_dtc_smiles.csv\r\n",
      "cyp3a4_dtc_testset_base_smiles_union_active.csv\r\n",
      "cyp3a4_dtc_testset_base_smiles_union.csv\r\n",
      "cyp3a4_excape_smiles_active.csv\r\n",
      "cyp3a4_excape_smiles_active_th5.csv\r\n",
      "cyp3a4_excape_smiles.csv\r\n",
      "cyp3a4_excape_testset_base_smiles_union_active.csv\r\n",
      "cyp3a4_excape_testset_base_smiles_union.csv\r\n",
      "cyp3a4_union_testset_base_smiles.csv\r\n",
      "cyp3a4_union_testset_base_smiles_with_mordred_filtered_descriptors.csv\r\n",
      "cyp3a4_union_test_smiles_active.csv\r\n",
      "cyp3a4_union_test_smiles_active_th5.csv\r\n",
      "cyp3a4_union_trainset_base_smiles.csv\r\n",
      "cyp3a4_union_trainset_base_smiles_train_valid_test_scaffold_3c072810-f47b-49ef-9365-6ffa9e5bf911.csv\r\n",
      "cyp3a4_union_trainset_base_smiles_with_mordred_filtered_descriptors.csv\r\n",
      "scaled_descriptors\r\n"
     ]
    }
   ],
   "source": [
    "data_dir = \"/mnt/projects/ATOM/sarkart4/MoDaC/NCI_DOE_Archive/ATOM/Safety_Screen_Targets/\"+target.upper()+'-ampl-1.1.0/'\n",
    "!ls $data_dir"
   ]
  },
  {
   "cell_type": "code",
   "execution_count": 44,
   "metadata": {},
   "outputs": [
    {
     "name": "stdout",
     "output_type": "stream",
     "text": [
      "(17796, 5)\n"
     ]
    },
    {
     "name": "stderr",
     "output_type": "stream",
     "text": [
      "/home/sarkart4/miniconda3/envs/ampl-1.4.1/lib/python3.7/site-packages/IPython/core/interactiveshell.py:3343: FutureWarning: The error_bad_lines argument has been deprecated and will be removed in a future version.\n",
      "\n",
      "\n",
      "  exec(code_obj, self.user_global_ns, self.user_ns)\n"
     ]
    },
    {
     "data": {
      "text/html": [
       "<div>\n",
       "<style scoped>\n",
       "    .dataframe tbody tr th:only-of-type {\n",
       "        vertical-align: middle;\n",
       "    }\n",
       "\n",
       "    .dataframe tbody tr th {\n",
       "        vertical-align: top;\n",
       "    }\n",
       "\n",
       "    .dataframe thead th {\n",
       "        text-align: right;\n",
       "    }\n",
       "</style>\n",
       "<table border=\"1\" class=\"dataframe\">\n",
       "  <thead>\n",
       "    <tr style=\"text-align: right;\">\n",
       "      <th></th>\n",
       "      <th>base_rdkit_smiles</th>\n",
       "      <th>compound_id</th>\n",
       "      <th>pIC50</th>\n",
       "      <th>relation</th>\n",
       "      <th>active</th>\n",
       "    </tr>\n",
       "  </thead>\n",
       "  <tbody>\n",
       "    <tr>\n",
       "      <th>0</th>\n",
       "      <td>O=C([C@H]1CNCC[C@@]12OCc1cc(F)c(F)cc12)N(Cc1cc...</td>\n",
       "      <td>CHEMBL1923118</td>\n",
       "      <td>5.441849</td>\n",
       "      <td>NaN</td>\n",
       "      <td>1</td>\n",
       "    </tr>\n",
       "    <tr>\n",
       "      <th>1</th>\n",
       "      <td>COc1ccc(-n2c(=O)c(C)nc3cnc(Oc4ccccc4)nc32)cc1</td>\n",
       "      <td>BAARRVDYHOBEOI-UHFFFAOYNA-N</td>\n",
       "      <td>4.800000</td>\n",
       "      <td>&lt;</td>\n",
       "      <td>0</td>\n",
       "    </tr>\n",
       "    <tr>\n",
       "      <th>2</th>\n",
       "      <td>COc1ccc(C(C(=O)NC2CCCC2)N(C(=O)c2snc(-c3ccc(F)...</td>\n",
       "      <td>AMKHNFFZBIGCEX-ZYMSVLFVNA-N</td>\n",
       "      <td>4.900000</td>\n",
       "      <td>&lt;</td>\n",
       "      <td>0</td>\n",
       "    </tr>\n",
       "    <tr>\n",
       "      <th>3</th>\n",
       "      <td>CN1CCN(CCCN(C(=O)Nc2ccc(F)c(C(F)(F)F)c2)C2CCC3...</td>\n",
       "      <td>CHEMBL1289614</td>\n",
       "      <td>7.300577</td>\n",
       "      <td>NaN</td>\n",
       "      <td>1</td>\n",
       "    </tr>\n",
       "    <tr>\n",
       "      <th>4</th>\n",
       "      <td>CCOc1cc(C(=O)NC(CC(=O)O)c2ccccc2C)nn1-c1ccccc1F</td>\n",
       "      <td>MLFFCILPEDOIHN-KRWDZBQOSA-N</td>\n",
       "      <td>7.823909</td>\n",
       "      <td>NaN</td>\n",
       "      <td>1</td>\n",
       "    </tr>\n",
       "  </tbody>\n",
       "</table>\n",
       "</div>"
      ],
      "text/plain": [
       "                                   base_rdkit_smiles  \\\n",
       "0  O=C([C@H]1CNCC[C@@]12OCc1cc(F)c(F)cc12)N(Cc1cc...   \n",
       "1      COc1ccc(-n2c(=O)c(C)nc3cnc(Oc4ccccc4)nc32)cc1   \n",
       "2  COc1ccc(C(C(=O)NC2CCCC2)N(C(=O)c2snc(-c3ccc(F)...   \n",
       "3  CN1CCN(CCCN(C(=O)Nc2ccc(F)c(C(F)(F)F)c2)C2CCC3...   \n",
       "4    CCOc1cc(C(=O)NC(CC(=O)O)c2ccccc2C)nn1-c1ccccc1F   \n",
       "\n",
       "                   compound_id     pIC50 relation  active  \n",
       "0                CHEMBL1923118  5.441849      NaN       1  \n",
       "1  BAARRVDYHOBEOI-UHFFFAOYNA-N  4.800000        <       0  \n",
       "2  AMKHNFFZBIGCEX-ZYMSVLFVNA-N  4.900000        <       0  \n",
       "3                CHEMBL1289614  7.300577      NaN       1  \n",
       "4  MLFFCILPEDOIHN-KRWDZBQOSA-N  7.823909      NaN       1  "
      ]
     },
     "execution_count": 44,
     "metadata": {},
     "output_type": "execute_result"
    }
   ],
   "source": [
    "file = data_dir + target.lower()+'_union_trainset_base_smiles.csv' # exisitng MoDaC raw\n",
    "union_test_df = pd.read_csv(file,sep=\",\",engine=\"python\",error_bad_lines=False) # Note that my orig_df is MoDaC files, you should use the raw file downloaded form ExcapeDB\n",
    "print(union_test_df.shape)\n",
    "union_test_df.head()"
   ]
  },
  {
   "cell_type": "code",
   "execution_count": 45,
   "metadata": {},
   "outputs": [
    {
     "data": {
      "text/plain": [
       "Index(['base_rdkit_smiles', 'compound_id', 'pIC50', 'relation', 'active'], dtype='object')"
      ]
     },
     "execution_count": 45,
     "metadata": {},
     "output_type": "execute_result"
    }
   ],
   "source": [
    "union_test_df.columns"
   ]
  },
  {
   "cell_type": "code",
   "execution_count": 46,
   "metadata": {},
   "outputs": [
    {
     "name": "stdout",
     "output_type": "stream",
     "text": [
      "(17796, 4)\n"
     ]
    },
    {
     "data": {
      "text/html": [
       "<div>\n",
       "<style scoped>\n",
       "    .dataframe tbody tr th:only-of-type {\n",
       "        vertical-align: middle;\n",
       "    }\n",
       "\n",
       "    .dataframe tbody tr th {\n",
       "        vertical-align: top;\n",
       "    }\n",
       "\n",
       "    .dataframe thead th {\n",
       "        text-align: right;\n",
       "    }\n",
       "</style>\n",
       "<table border=\"1\" class=\"dataframe\">\n",
       "  <thead>\n",
       "    <tr style=\"text-align: right;\">\n",
       "      <th></th>\n",
       "      <th>base_rdkit_smiles</th>\n",
       "      <th>compound_id</th>\n",
       "      <th>pIC50</th>\n",
       "      <th>relation</th>\n",
       "    </tr>\n",
       "  </thead>\n",
       "  <tbody>\n",
       "    <tr>\n",
       "      <th>0</th>\n",
       "      <td>O=C([C@H]1CNCC[C@@]12OCc1cc(F)c(F)cc12)N(Cc1cc...</td>\n",
       "      <td>CHEMBL1923118</td>\n",
       "      <td>5.441849</td>\n",
       "      <td>NaN</td>\n",
       "    </tr>\n",
       "    <tr>\n",
       "      <th>1</th>\n",
       "      <td>COc1ccc(-n2c(=O)c(C)nc3cnc(Oc4ccccc4)nc32)cc1</td>\n",
       "      <td>BAARRVDYHOBEOI-UHFFFAOYNA-N</td>\n",
       "      <td>4.800000</td>\n",
       "      <td>&lt;</td>\n",
       "    </tr>\n",
       "  </tbody>\n",
       "</table>\n",
       "</div>"
      ],
      "text/plain": [
       "                                   base_rdkit_smiles  \\\n",
       "0  O=C([C@H]1CNCC[C@@]12OCc1cc(F)c(F)cc12)N(Cc1cc...   \n",
       "1      COc1ccc(-n2c(=O)c(C)nc3cnc(Oc4ccccc4)nc32)cc1   \n",
       "\n",
       "                   compound_id     pIC50 relation  \n",
       "0                CHEMBL1923118  5.441849      NaN  \n",
       "1  BAARRVDYHOBEOI-UHFFFAOYNA-N  4.800000        <  "
      ]
     },
     "execution_count": 46,
     "metadata": {},
     "output_type": "execute_result"
    }
   ],
   "source": [
    "# drop old active column\n",
    "union_test_df = union_test_df.drop(columns = ['active'])\n",
    "print(union_test_df.shape) # Note: wrong 'active' column, will be marked correctly in next step\n",
    "union_test_df.head(2)"
   ]
  },
  {
   "cell_type": "markdown",
   "metadata": {},
   "source": [
    "\n",
    "### Apply standard ATOM curation steps"
   ]
  },
  {
   "cell_type": "code",
   "execution_count": 47,
   "metadata": {},
   "outputs": [
    {
     "name": "stdout",
     "output_type": "stream",
     "text": [
      "Bad duplicates removed from dataset\n",
      "Dataframe size (17796, 8)\n",
      "List of 'bad' duplicates removed\n",
      "Empty DataFrame\n",
      "Columns: [compound_id, pIC50, VALUE_NUM_mean, Perc_Var, VALUE_NUM_std]\n",
      "Index: []\n",
      "\n",
      "Dataset de-duplicated\n",
      "Dataframe size (17796, 8)\n",
      "New column created with averaged values:  VALUE_NUM_mean\n"
     ]
    },
    {
     "data": {
      "text/html": [
       "<div>\n",
       "<style scoped>\n",
       "    .dataframe tbody tr th:only-of-type {\n",
       "        vertical-align: middle;\n",
       "    }\n",
       "\n",
       "    .dataframe tbody tr th {\n",
       "        vertical-align: top;\n",
       "    }\n",
       "\n",
       "    .dataframe thead th {\n",
       "        text-align: right;\n",
       "    }\n",
       "</style>\n",
       "<table border=\"1\" class=\"dataframe\">\n",
       "  <thead>\n",
       "    <tr style=\"text-align: right;\">\n",
       "      <th></th>\n",
       "      <th>base_rdkit_smiles</th>\n",
       "      <th>compound_id</th>\n",
       "      <th>pIC50</th>\n",
       "      <th>relation</th>\n",
       "      <th>VALUE_NUM_mean</th>\n",
       "      <th>VALUE_NUM_std</th>\n",
       "      <th>Perc_Var</th>\n",
       "      <th>Remove_BadDuplicate</th>\n",
       "    </tr>\n",
       "  </thead>\n",
       "  <tbody>\n",
       "    <tr>\n",
       "      <th>0</th>\n",
       "      <td>O=C([C@H]1CNCC[C@@]12OCc1cc(F)c(F)cc12)N(Cc1cc...</td>\n",
       "      <td>CHEMBL1923118</td>\n",
       "      <td>5.441849</td>\n",
       "      <td>NaN</td>\n",
       "      <td>5.441849</td>\n",
       "      <td>NaN</td>\n",
       "      <td>0.0</td>\n",
       "      <td>0</td>\n",
       "    </tr>\n",
       "    <tr>\n",
       "      <th>1</th>\n",
       "      <td>COc1ccc(-n2c(=O)c(C)nc3cnc(Oc4ccccc4)nc32)cc1</td>\n",
       "      <td>BAARRVDYHOBEOI-UHFFFAOYNA-N</td>\n",
       "      <td>4.800000</td>\n",
       "      <td>&lt;</td>\n",
       "      <td>4.800000</td>\n",
       "      <td>NaN</td>\n",
       "      <td>0.0</td>\n",
       "      <td>0</td>\n",
       "    </tr>\n",
       "    <tr>\n",
       "      <th>2</th>\n",
       "      <td>COc1ccc(C(C(=O)NC2CCCC2)N(C(=O)c2snc(-c3ccc(F)...</td>\n",
       "      <td>AMKHNFFZBIGCEX-ZYMSVLFVNA-N</td>\n",
       "      <td>4.900000</td>\n",
       "      <td>&lt;</td>\n",
       "      <td>4.900000</td>\n",
       "      <td>NaN</td>\n",
       "      <td>0.0</td>\n",
       "      <td>0</td>\n",
       "    </tr>\n",
       "    <tr>\n",
       "      <th>3</th>\n",
       "      <td>CN1CCN(CCCN(C(=O)Nc2ccc(F)c(C(F)(F)F)c2)C2CCC3...</td>\n",
       "      <td>CHEMBL1289614</td>\n",
       "      <td>7.300577</td>\n",
       "      <td>NaN</td>\n",
       "      <td>7.300577</td>\n",
       "      <td>NaN</td>\n",
       "      <td>0.0</td>\n",
       "      <td>0</td>\n",
       "    </tr>\n",
       "    <tr>\n",
       "      <th>4</th>\n",
       "      <td>CCOc1cc(C(=O)NC(CC(=O)O)c2ccccc2C)nn1-c1ccccc1F</td>\n",
       "      <td>MLFFCILPEDOIHN-KRWDZBQOSA-N</td>\n",
       "      <td>7.823909</td>\n",
       "      <td>NaN</td>\n",
       "      <td>7.823909</td>\n",
       "      <td>NaN</td>\n",
       "      <td>0.0</td>\n",
       "      <td>0</td>\n",
       "    </tr>\n",
       "  </tbody>\n",
       "</table>\n",
       "</div>"
      ],
      "text/plain": [
       "                                   base_rdkit_smiles  \\\n",
       "0  O=C([C@H]1CNCC[C@@]12OCc1cc(F)c(F)cc12)N(Cc1cc...   \n",
       "1      COc1ccc(-n2c(=O)c(C)nc3cnc(Oc4ccccc4)nc32)cc1   \n",
       "2  COc1ccc(C(C(=O)NC2CCCC2)N(C(=O)c2snc(-c3ccc(F)...   \n",
       "3  CN1CCN(CCCN(C(=O)Nc2ccc(F)c(C(F)(F)F)c2)C2CCC3...   \n",
       "4    CCOc1cc(C(=O)NC(CC(=O)O)c2ccccc2C)nn1-c1ccccc1F   \n",
       "\n",
       "                   compound_id     pIC50 relation  VALUE_NUM_mean  \\\n",
       "0                CHEMBL1923118  5.441849      NaN        5.441849   \n",
       "1  BAARRVDYHOBEOI-UHFFFAOYNA-N  4.800000        <        4.800000   \n",
       "2  AMKHNFFZBIGCEX-ZYMSVLFVNA-N  4.900000        <        4.900000   \n",
       "3                CHEMBL1289614  7.300577      NaN        7.300577   \n",
       "4  MLFFCILPEDOIHN-KRWDZBQOSA-N  7.823909      NaN        7.823909   \n",
       "\n",
       "   VALUE_NUM_std  Perc_Var  Remove_BadDuplicate  \n",
       "0            NaN       0.0                    0  \n",
       "1            NaN       0.0                    0  \n",
       "2            NaN       0.0                    0  \n",
       "3            NaN       0.0                    0  \n",
       "4            NaN       0.0                    0  "
      ]
     },
     "execution_count": 47,
     "metadata": {},
     "output_type": "execute_result"
    }
   ],
   "source": [
    "imp.reload(dcf)\n",
    "data=union_test_df\n",
    "column = 'pIC50'\n",
    "tolerance = 10\n",
    "list_bad_duplicates = 'Yes'\n",
    "max_std = 1\n",
    "compound_id = 'compound_id'\n",
    "smiles_col = 'base_rdkit_smiles'\n",
    "check_df = curate_data.average_and_remove_duplicates(column, tolerance, \n",
    "                                                       list_bad_duplicates, \n",
    "                                                       data, \n",
    "                                                     max_std, \n",
    "                                                       compound_id=compound_id, \n",
    "                                                       smiles_col=smiles_col)\n",
    "# note: checked that this is already curated\n",
    "[check_df.shape]\n",
    "check_df.head()"
   ]
  },
  {
   "cell_type": "code",
   "execution_count": 48,
   "metadata": {},
   "outputs": [
    {
     "data": {
      "text/plain": [
       "Index(['base_rdkit_smiles', 'compound_id', 'pIC50', 'relation',\n",
       "       'VALUE_NUM_mean', 'VALUE_NUM_std', 'Perc_Var', 'Remove_BadDuplicate'],\n",
       "      dtype='object')"
      ]
     },
     "execution_count": 48,
     "metadata": {},
     "output_type": "execute_result"
    }
   ],
   "source": [
    "check_df.columns"
   ]
  },
  {
   "cell_type": "code",
   "execution_count": 49,
   "metadata": {},
   "outputs": [
    {
     "name": "stdout",
     "output_type": "stream",
     "text": [
      "Post-processing dataset\n",
      "\n",
      "Total Number of results = 17796\n",
      "dataset mean = 5.19002940583703 NM\n",
      "dataset stdev = 0.7306274284934289 NM\n",
      "dataset max = 10.66 NM\n",
      "dataset min = 1.3 NM\n",
      "\n"
     ]
    },
    {
     "data": {
      "image/png": "[encoded data removed]",
      "text/plain": [
       "<Figure size 720x360 with 1 Axes>"
      ]
     },
     "metadata": {},
     "output_type": "display_data"
    }
   ],
   "source": [
    "imp.reload(curate_data)\n",
    "targ_lst = [target.upper()]\n",
    "column = 'pIC50'\n",
    "num_bins = 20\n",
    "units = 'NM'\n",
    "filepath = \"\"\n",
    "for it in range(len(targ_lst)) :\n",
    "    title = targ_lst[it]\n",
    "    data=check_df\n",
    "    curate_data.summarize_data(column, num_bins, title, units, filepath, data)"
   ]
  },
  {
   "cell_type": "markdown",
   "metadata": {},
   "source": [
    "## Use Kevin's \"aggregate_assay_data\" to add 'active' column"
   ]
  },
  {
   "cell_type": "code",
   "execution_count": 50,
   "metadata": {},
   "outputs": [
    {
     "name": "stdout",
     "output_type": "stream",
     "text": [
      "before (17796, 8)\n",
      "after (17796, 5)\n"
     ]
    },
    {
     "data": {
      "text/html": [
       "<div>\n",
       "<style scoped>\n",
       "    .dataframe tbody tr th:only-of-type {\n",
       "        vertical-align: middle;\n",
       "    }\n",
       "\n",
       "    .dataframe tbody tr th {\n",
       "        vertical-align: top;\n",
       "    }\n",
       "\n",
       "    .dataframe thead th {\n",
       "        text-align: right;\n",
       "    }\n",
       "</style>\n",
       "<table border=\"1\" class=\"dataframe\">\n",
       "  <thead>\n",
       "    <tr style=\"text-align: right;\">\n",
       "      <th></th>\n",
       "      <th>compound_id</th>\n",
       "      <th>base_rdkit_smiles</th>\n",
       "      <th>relation</th>\n",
       "      <th>pIC50</th>\n",
       "      <th>active</th>\n",
       "    </tr>\n",
       "  </thead>\n",
       "  <tbody>\n",
       "    <tr>\n",
       "      <th>0</th>\n",
       "      <td>IFEXCZMSTXWJSK-VQTJNVASSA-N</td>\n",
       "      <td>O=C(Nc1ccc(S(=O)(=O)c2cccc(OC(F)(F)F)c2)cc1)C1...</td>\n",
       "      <td></td>\n",
       "      <td>6.618848</td>\n",
       "      <td>1</td>\n",
       "    </tr>\n",
       "    <tr>\n",
       "      <th>1</th>\n",
       "      <td>IKBHCHNXQACDSM-UBOZLPQGNA-N</td>\n",
       "      <td>CCC1=C(OC(=O)N(CC)CC)N2C(=O)OC(=NCC3CC3)[C@]2(...</td>\n",
       "      <td></td>\n",
       "      <td>5.300000</td>\n",
       "      <td>0</td>\n",
       "    </tr>\n",
       "    <tr>\n",
       "      <th>2</th>\n",
       "      <td>BVMYNIUPRXUZKB-LNNLXFCONA-N</td>\n",
       "      <td>CCCc1ccc(-c2cc(C(=O)NN3CCOCC3)c3ccccc3n2)cc1</td>\n",
       "      <td>&lt;</td>\n",
       "      <td>4.900000</td>\n",
       "      <td>0</td>\n",
       "    </tr>\n",
       "    <tr>\n",
       "      <th>3</th>\n",
       "      <td>CHEMBL231609</td>\n",
       "      <td>Cc1cc(C(=O)NC2CCCC2)cc2[nH]c(-c3c(NCC(O)c4cccc...</td>\n",
       "      <td></td>\n",
       "      <td>5.795880</td>\n",
       "      <td>0</td>\n",
       "    </tr>\n",
       "    <tr>\n",
       "      <th>4</th>\n",
       "      <td>RTAOSKPTWQTCBX-GIWSTSDLSA-N</td>\n",
       "      <td>CC(C)(c1ncc(-c2ccccn2)o1)N1CCN(CC(O)CC(Cc2cccc...</td>\n",
       "      <td></td>\n",
       "      <td>5.301030</td>\n",
       "      <td>0</td>\n",
       "    </tr>\n",
       "  </tbody>\n",
       "</table>\n",
       "</div>"
      ],
      "text/plain": [
       "                   compound_id  \\\n",
       "0  IFEXCZMSTXWJSK-VQTJNVASSA-N   \n",
       "1  IKBHCHNXQACDSM-UBOZLPQGNA-N   \n",
       "2  BVMYNIUPRXUZKB-LNNLXFCONA-N   \n",
       "3                 CHEMBL231609   \n",
       "4  RTAOSKPTWQTCBX-GIWSTSDLSA-N   \n",
       "\n",
       "                                   base_rdkit_smiles relation     pIC50  \\\n",
       "0  O=C(Nc1ccc(S(=O)(=O)c2cccc(OC(F)(F)F)c2)cc1)C1...           6.618848   \n",
       "1  CCC1=C(OC(=O)N(CC)CC)N2C(=O)OC(=NCC3CC3)[C@]2(...           5.300000   \n",
       "2       CCCc1ccc(-c2cc(C(=O)NN3CCOCC3)c3ccccc3n2)cc1        <  4.900000   \n",
       "3  Cc1cc(C(=O)NC2CCCC2)cc2[nH]c(-c3c(NCC(O)c4cccc...           5.795880   \n",
       "4  CC(C)(c1ncc(-c2ccccn2)o1)N1CCN(CC(O)CC(Cc2cccc...           5.301030   \n",
       "\n",
       "   active  \n",
       "0       1  \n",
       "1       0  \n",
       "2       0  \n",
       "3       0  \n",
       "4       0  "
      ]
     },
     "execution_count": 50,
     "metadata": {},
     "output_type": "execute_result"
    }
   ],
   "source": [
    "imp.reload(curate_data)\n",
    "tolerance=10\n",
    "column='pIC50'   #'pXC50'; #'standard_value'\n",
    "list_bad_duplicates='Yes'\n",
    "max_std=1\n",
    "agg_data=check_df\n",
    "data=agg_data\n",
    "print(\"before\",data.shape)\n",
    "temp_df=curate_data.aggregate_assay_data(data, value_col=column, output_value_col=None,\n",
    "                             label_actives=True,\n",
    "                             active_thresh=6, # val > 6 -> 'active' (drug-like compounds) # can be - None(default)| This creates 'active' column based on pIC50 value. Rule used here: pIC50 >=6 'active', labelled as 0, else 1\n",
    "                             id_col='compound_id', smiles_col='base_rdkit_smiles', relation_col='relation')\n",
    "                             #id_col='standard_inchi_key', smiles_col='rdkit_smiles', relation_col='standard_relation')\n",
    "# Remove inf in curated_df\n",
    "temp_df = temp_df[~temp_df.isin([np.inf]).any(1)]\n",
    "print(\"after\",temp_df.shape)\n",
    "temp_df.head()"
   ]
  },
  {
   "cell_type": "code",
   "execution_count": 51,
   "metadata": {},
   "outputs": [
    {
     "name": "stdout",
     "output_type": "stream",
     "text": [
      "(17796, 5) (17796, 4)\n"
     ]
    },
    {
     "data": {
      "text/html": [
       "<div>\n",
       "<style scoped>\n",
       "    .dataframe tbody tr th:only-of-type {\n",
       "        vertical-align: middle;\n",
       "    }\n",
       "\n",
       "    .dataframe tbody tr th {\n",
       "        vertical-align: top;\n",
       "    }\n",
       "\n",
       "    .dataframe thead th {\n",
       "        text-align: right;\n",
       "    }\n",
       "</style>\n",
       "<table border=\"1\" class=\"dataframe\">\n",
       "  <thead>\n",
       "    <tr style=\"text-align: right;\">\n",
       "      <th></th>\n",
       "      <th>base_rdkit_smiles</th>\n",
       "      <th>compound_id</th>\n",
       "      <th>pIC50</th>\n",
       "      <th>relation</th>\n",
       "      <th>active</th>\n",
       "    </tr>\n",
       "  </thead>\n",
       "  <tbody>\n",
       "    <tr>\n",
       "      <th>0</th>\n",
       "      <td>O=C([C@H]1CNCC[C@@]12OCc1cc(F)c(F)cc12)N(Cc1cc...</td>\n",
       "      <td>CHEMBL1923118</td>\n",
       "      <td>5.441849</td>\n",
       "      <td>NaN</td>\n",
       "      <td>0.0</td>\n",
       "    </tr>\n",
       "    <tr>\n",
       "      <th>1</th>\n",
       "      <td>COc1ccc(-n2c(=O)c(C)nc3cnc(Oc4ccccc4)nc32)cc1</td>\n",
       "      <td>BAARRVDYHOBEOI-UHFFFAOYNA-N</td>\n",
       "      <td>4.800000</td>\n",
       "      <td>&lt;</td>\n",
       "      <td>0.0</td>\n",
       "    </tr>\n",
       "    <tr>\n",
       "      <th>2</th>\n",
       "      <td>COc1ccc(C(C(=O)NC2CCCC2)N(C(=O)c2snc(-c3ccc(F)...</td>\n",
       "      <td>AMKHNFFZBIGCEX-ZYMSVLFVNA-N</td>\n",
       "      <td>4.900000</td>\n",
       "      <td>&lt;</td>\n",
       "      <td>0.0</td>\n",
       "    </tr>\n",
       "    <tr>\n",
       "      <th>3</th>\n",
       "      <td>CN1CCN(CCCN(C(=O)Nc2ccc(F)c(C(F)(F)F)c2)C2CCC3...</td>\n",
       "      <td>CHEMBL1289614</td>\n",
       "      <td>7.300577</td>\n",
       "      <td>NaN</td>\n",
       "      <td>1.0</td>\n",
       "    </tr>\n",
       "    <tr>\n",
       "      <th>4</th>\n",
       "      <td>CCOc1cc(C(=O)NC(CC(=O)O)c2ccccc2C)nn1-c1ccccc1F</td>\n",
       "      <td>MLFFCILPEDOIHN-KRWDZBQOSA-N</td>\n",
       "      <td>7.823909</td>\n",
       "      <td>NaN</td>\n",
       "      <td>1.0</td>\n",
       "    </tr>\n",
       "  </tbody>\n",
       "</table>\n",
       "</div>"
      ],
      "text/plain": [
       "                                   base_rdkit_smiles  \\\n",
       "0  O=C([C@H]1CNCC[C@@]12OCc1cc(F)c(F)cc12)N(Cc1cc...   \n",
       "1      COc1ccc(-n2c(=O)c(C)nc3cnc(Oc4ccccc4)nc32)cc1   \n",
       "2  COc1ccc(C(C(=O)NC2CCCC2)N(C(=O)c2snc(-c3ccc(F)...   \n",
       "3  CN1CCN(CCCN(C(=O)Nc2ccc(F)c(C(F)(F)F)c2)C2CCC3...   \n",
       "4    CCOc1cc(C(=O)NC(CC(=O)O)c2ccccc2C)nn1-c1ccccc1F   \n",
       "\n",
       "                   compound_id     pIC50 relation  active  \n",
       "0                CHEMBL1923118  5.441849      NaN     0.0  \n",
       "1  BAARRVDYHOBEOI-UHFFFAOYNA-N  4.800000        <     0.0  \n",
       "2  AMKHNFFZBIGCEX-ZYMSVLFVNA-N  4.900000        <     0.0  \n",
       "3                CHEMBL1289614  7.300577      NaN     1.0  \n",
       "4  MLFFCILPEDOIHN-KRWDZBQOSA-N  7.823909      NaN     1.0  "
      ]
     },
     "execution_count": 51,
     "metadata": {},
     "output_type": "execute_result"
    }
   ],
   "source": [
    "# Add 'active' column to original data and save file to FRCE\n",
    "merged = pd.merge(left=union_test_df, right=temp_df, how='left', left_on='base_rdkit_smiles', right_on='base_rdkit_smiles')\n",
    "merged = merged.drop(columns=['compound_id_y', 'relation_y', 'pIC50_y'])\n",
    "merged = merged.rename(columns={'compound_id_x':'compound_id', 'relation_x':'relation', 'pIC50_x':'pIC50'})\n",
    "print(merged.shape, union_test_df.shape)\n",
    "merged.head(5)"
   ]
  },
  {
   "cell_type": "code",
   "execution_count": 52,
   "metadata": {},
   "outputs": [
    {
     "data": {
      "text/plain": [
       "0.0    15861\n",
       "1.0     1930\n",
       "Name: active, dtype: int64"
      ]
     },
     "execution_count": 52,
     "metadata": {},
     "output_type": "execute_result"
    }
   ],
   "source": [
    "merged.active.value_counts()"
   ]
  },
  {
   "cell_type": "code",
   "execution_count": 53,
   "metadata": {},
   "outputs": [],
   "source": [
    "merged.to_csv(data_dir +target.lower()+'_union_train_smiles_active.csv')"
   ]
  },
  {
   "cell_type": "markdown",
   "metadata": {},
   "source": [
    "# Plot pIC50 for 'Active' column from our labelling (column='active')"
   ]
  },
  {
   "cell_type": "code",
   "execution_count": 54,
   "metadata": {},
   "outputs": [
    {
     "data": {
      "image/png": "[encoded data removed]",
      "text/plain": [
       "<Figure size 432x288 with 1 Axes>"
      ]
     },
     "metadata": {},
     "output_type": "display_data"
    }
   ],
   "source": [
    "#plot pIC50 distribution based on our 'active' labelling (ModDaC raw)\n",
    "raw = pd.read_csv(data_dir +target.lower()+'_union_train_smiles_active.csv')\n",
    "fig, ax = plt.subplots(figsize = (6,4))\n",
    "sns.kdeplot(data=raw, x=\"pIC50\", hue=\"active\", palette=\"Set1\")\n",
    "plt.title(target.upper()+' - Distribution of pIC50 (Union Train)')\n",
    "plt.xlabel('pIC50')\n",
    "plt.show()"
   ]
  },
  {
   "cell_type": "markdown",
   "metadata": {},
   "source": [
    "# Use active_threashold=5 in aggregate_assay_data()"
   ]
  },
  {
   "cell_type": "code",
   "execution_count": 55,
   "metadata": {},
   "outputs": [
    {
     "name": "stdout",
     "output_type": "stream",
     "text": [
      "before (17796, 8)\n",
      "after (17796, 5)\n"
     ]
    },
    {
     "data": {
      "text/html": [
       "<div>\n",
       "<style scoped>\n",
       "    .dataframe tbody tr th:only-of-type {\n",
       "        vertical-align: middle;\n",
       "    }\n",
       "\n",
       "    .dataframe tbody tr th {\n",
       "        vertical-align: top;\n",
       "    }\n",
       "\n",
       "    .dataframe thead th {\n",
       "        text-align: right;\n",
       "    }\n",
       "</style>\n",
       "<table border=\"1\" class=\"dataframe\">\n",
       "  <thead>\n",
       "    <tr style=\"text-align: right;\">\n",
       "      <th></th>\n",
       "      <th>compound_id</th>\n",
       "      <th>base_rdkit_smiles</th>\n",
       "      <th>relation</th>\n",
       "      <th>pIC50</th>\n",
       "      <th>active</th>\n",
       "    </tr>\n",
       "  </thead>\n",
       "  <tbody>\n",
       "    <tr>\n",
       "      <th>0</th>\n",
       "      <td>IFEXCZMSTXWJSK-VQTJNVASSA-N</td>\n",
       "      <td>O=C(Nc1ccc(S(=O)(=O)c2cccc(OC(F)(F)F)c2)cc1)C1...</td>\n",
       "      <td></td>\n",
       "      <td>6.618848</td>\n",
       "      <td>1</td>\n",
       "    </tr>\n",
       "    <tr>\n",
       "      <th>1</th>\n",
       "      <td>IKBHCHNXQACDSM-UBOZLPQGNA-N</td>\n",
       "      <td>CCC1=C(OC(=O)N(CC)CC)N2C(=O)OC(=NCC3CC3)[C@]2(...</td>\n",
       "      <td></td>\n",
       "      <td>5.300000</td>\n",
       "      <td>1</td>\n",
       "    </tr>\n",
       "    <tr>\n",
       "      <th>2</th>\n",
       "      <td>BVMYNIUPRXUZKB-LNNLXFCONA-N</td>\n",
       "      <td>CCCc1ccc(-c2cc(C(=O)NN3CCOCC3)c3ccccc3n2)cc1</td>\n",
       "      <td>&lt;</td>\n",
       "      <td>4.900000</td>\n",
       "      <td>0</td>\n",
       "    </tr>\n",
       "    <tr>\n",
       "      <th>3</th>\n",
       "      <td>CHEMBL231609</td>\n",
       "      <td>Cc1cc(C(=O)NC2CCCC2)cc2[nH]c(-c3c(NCC(O)c4cccc...</td>\n",
       "      <td></td>\n",
       "      <td>5.795880</td>\n",
       "      <td>1</td>\n",
       "    </tr>\n",
       "    <tr>\n",
       "      <th>4</th>\n",
       "      <td>RTAOSKPTWQTCBX-GIWSTSDLSA-N</td>\n",
       "      <td>CC(C)(c1ncc(-c2ccccn2)o1)N1CCN(CC(O)CC(Cc2cccc...</td>\n",
       "      <td></td>\n",
       "      <td>5.301030</td>\n",
       "      <td>1</td>\n",
       "    </tr>\n",
       "  </tbody>\n",
       "</table>\n",
       "</div>"
      ],
      "text/plain": [
       "                   compound_id  \\\n",
       "0  IFEXCZMSTXWJSK-VQTJNVASSA-N   \n",
       "1  IKBHCHNXQACDSM-UBOZLPQGNA-N   \n",
       "2  BVMYNIUPRXUZKB-LNNLXFCONA-N   \n",
       "3                 CHEMBL231609   \n",
       "4  RTAOSKPTWQTCBX-GIWSTSDLSA-N   \n",
       "\n",
       "                                   base_rdkit_smiles relation     pIC50  \\\n",
       "0  O=C(Nc1ccc(S(=O)(=O)c2cccc(OC(F)(F)F)c2)cc1)C1...           6.618848   \n",
       "1  CCC1=C(OC(=O)N(CC)CC)N2C(=O)OC(=NCC3CC3)[C@]2(...           5.300000   \n",
       "2       CCCc1ccc(-c2cc(C(=O)NN3CCOCC3)c3ccccc3n2)cc1        <  4.900000   \n",
       "3  Cc1cc(C(=O)NC2CCCC2)cc2[nH]c(-c3c(NCC(O)c4cccc...           5.795880   \n",
       "4  CC(C)(c1ncc(-c2ccccn2)o1)N1CCN(CC(O)CC(Cc2cccc...           5.301030   \n",
       "\n",
       "   active  \n",
       "0       1  \n",
       "1       1  \n",
       "2       0  \n",
       "3       1  \n",
       "4       1  "
      ]
     },
     "execution_count": 55,
     "metadata": {},
     "output_type": "execute_result"
    }
   ],
   "source": [
    "imp.reload(curate_data)\n",
    "tolerance=10\n",
    "column='pIC50'   #'pXC50'; #'standard_value'\n",
    "list_bad_duplicates='Yes'\n",
    "max_std=1\n",
    "data=agg_data\n",
    "print(\"before\",data.shape)\n",
    "temp_df1=curate_data.aggregate_assay_data(data, value_col=column, output_value_col=None,\n",
    "                             label_actives=True,\n",
    "                             active_thresh=5, # val > 5 -> 'active' (drug-like compounds) # can be - None(default)| This creates 'active' column based on pIC50 value. Rule used here: pIC50 >=6 'active', labelled as 0, else 1\n",
    "                             id_col='compound_id', smiles_col='base_rdkit_smiles', relation_col='relation')\n",
    "                             #id_col='standard_inchi_key', smiles_col='rdkit_smiles', relation_col='standard_relation')\n",
    "# Remove inf in curated_df\n",
    "temp_df1 = temp_df1[~temp_df1.isin([np.inf]).any(1)]\n",
    "print(\"after\",temp_df1.shape)\n",
    "temp_df1.head()"
   ]
  },
  {
   "cell_type": "code",
   "execution_count": 56,
   "metadata": {},
   "outputs": [
    {
     "name": "stdout",
     "output_type": "stream",
     "text": [
      "(17796, 5) (17796, 4)\n",
      "0.0    9320\n",
      "1.0    8471\n",
      "Name: active, dtype: int64\n"
     ]
    },
    {
     "data": {
      "text/html": [
       "<div>\n",
       "<style scoped>\n",
       "    .dataframe tbody tr th:only-of-type {\n",
       "        vertical-align: middle;\n",
       "    }\n",
       "\n",
       "    .dataframe tbody tr th {\n",
       "        vertical-align: top;\n",
       "    }\n",
       "\n",
       "    .dataframe thead th {\n",
       "        text-align: right;\n",
       "    }\n",
       "</style>\n",
       "<table border=\"1\" class=\"dataframe\">\n",
       "  <thead>\n",
       "    <tr style=\"text-align: right;\">\n",
       "      <th></th>\n",
       "      <th>base_rdkit_smiles</th>\n",
       "      <th>compound_id</th>\n",
       "      <th>pIC50</th>\n",
       "      <th>relation</th>\n",
       "      <th>active</th>\n",
       "    </tr>\n",
       "  </thead>\n",
       "  <tbody>\n",
       "    <tr>\n",
       "      <th>0</th>\n",
       "      <td>O=C([C@H]1CNCC[C@@]12OCc1cc(F)c(F)cc12)N(Cc1cc...</td>\n",
       "      <td>CHEMBL1923118</td>\n",
       "      <td>5.441849</td>\n",
       "      <td>NaN</td>\n",
       "      <td>1.0</td>\n",
       "    </tr>\n",
       "    <tr>\n",
       "      <th>1</th>\n",
       "      <td>COc1ccc(-n2c(=O)c(C)nc3cnc(Oc4ccccc4)nc32)cc1</td>\n",
       "      <td>BAARRVDYHOBEOI-UHFFFAOYNA-N</td>\n",
       "      <td>4.800000</td>\n",
       "      <td>&lt;</td>\n",
       "      <td>0.0</td>\n",
       "    </tr>\n",
       "    <tr>\n",
       "      <th>2</th>\n",
       "      <td>COc1ccc(C(C(=O)NC2CCCC2)N(C(=O)c2snc(-c3ccc(F)...</td>\n",
       "      <td>AMKHNFFZBIGCEX-ZYMSVLFVNA-N</td>\n",
       "      <td>4.900000</td>\n",
       "      <td>&lt;</td>\n",
       "      <td>0.0</td>\n",
       "    </tr>\n",
       "    <tr>\n",
       "      <th>3</th>\n",
       "      <td>CN1CCN(CCCN(C(=O)Nc2ccc(F)c(C(F)(F)F)c2)C2CCC3...</td>\n",
       "      <td>CHEMBL1289614</td>\n",
       "      <td>7.300577</td>\n",
       "      <td>NaN</td>\n",
       "      <td>1.0</td>\n",
       "    </tr>\n",
       "    <tr>\n",
       "      <th>4</th>\n",
       "      <td>CCOc1cc(C(=O)NC(CC(=O)O)c2ccccc2C)nn1-c1ccccc1F</td>\n",
       "      <td>MLFFCILPEDOIHN-KRWDZBQOSA-N</td>\n",
       "      <td>7.823909</td>\n",
       "      <td>NaN</td>\n",
       "      <td>1.0</td>\n",
       "    </tr>\n",
       "  </tbody>\n",
       "</table>\n",
       "</div>"
      ],
      "text/plain": [
       "                                   base_rdkit_smiles  \\\n",
       "0  O=C([C@H]1CNCC[C@@]12OCc1cc(F)c(F)cc12)N(Cc1cc...   \n",
       "1      COc1ccc(-n2c(=O)c(C)nc3cnc(Oc4ccccc4)nc32)cc1   \n",
       "2  COc1ccc(C(C(=O)NC2CCCC2)N(C(=O)c2snc(-c3ccc(F)...   \n",
       "3  CN1CCN(CCCN(C(=O)Nc2ccc(F)c(C(F)(F)F)c2)C2CCC3...   \n",
       "4    CCOc1cc(C(=O)NC(CC(=O)O)c2ccccc2C)nn1-c1ccccc1F   \n",
       "\n",
       "                   compound_id     pIC50 relation  active  \n",
       "0                CHEMBL1923118  5.441849      NaN     1.0  \n",
       "1  BAARRVDYHOBEOI-UHFFFAOYNA-N  4.800000        <     0.0  \n",
       "2  AMKHNFFZBIGCEX-ZYMSVLFVNA-N  4.900000        <     0.0  \n",
       "3                CHEMBL1289614  7.300577      NaN     1.0  \n",
       "4  MLFFCILPEDOIHN-KRWDZBQOSA-N  7.823909      NaN     1.0  "
      ]
     },
     "execution_count": 56,
     "metadata": {},
     "output_type": "execute_result"
    }
   ],
   "source": [
    "# Add 'active' column to original data and save file to FRCE\n",
    "merged = pd.merge(left=union_test_df, right=temp_df1, how='left', left_on='base_rdkit_smiles', right_on='base_rdkit_smiles')\n",
    "merged = merged.drop(columns=['compound_id_y', 'relation_y', 'pIC50_y'])\n",
    "merged = merged.rename(columns={'compound_id_x':'compound_id', 'relation_x':'relation', 'pIC50_x':'pIC50'})\n",
    "print(merged.shape, union_test_df.shape)\n",
    "print(merged.active.value_counts())\n",
    "merged.to_csv(data_dir +target.lower()+'_union_train_smiles_active_th5.csv')\n",
    "merged.head(5)"
   ]
  },
  {
   "cell_type": "markdown",
   "metadata": {},
   "source": [
    "# plot pIC50 distribution  with active_threashold=5\n"
   ]
  },
  {
   "cell_type": "code",
   "execution_count": 57,
   "metadata": {},
   "outputs": [
    {
     "data": {
      "image/png": "[encoded data removed]",
      "text/plain": [
       "<Figure size 432x288 with 1 Axes>"
      ]
     },
     "metadata": {},
     "output_type": "display_data"
    }
   ],
   "source": [
    "raw = pd.read_csv(data_dir +target.lower()+'_union_train_smiles_active_th5.csv')\n",
    "fig, ax = plt.subplots(figsize = (6,4))\n",
    "sns.kdeplot(data=raw, x=\"pIC50\", hue=\"active\", palette=\"Set2\")\n",
    "plt.title(target.upper()+' - Distribution of pIC50 with active_threashold=5 (Union Train)')\n",
    "plt.xlabel('pIC50')\n",
    "plt.show()"
   ]
  },
  {
   "cell_type": "code",
   "execution_count": null,
   "metadata": {},
   "outputs": [],
   "source": []
  },
  {
   "cell_type": "code",
   "execution_count": null,
   "metadata": {},
   "outputs": [],
   "source": []
  }
 ],
 "metadata": {
  "kernelspec": {
   "display_name": "ampl-1.4.1",
   "language": "python",
   "name": "ampl-1.4.1"
  },
  "language_info": {
   "codemirror_mode": {
    "name": "ipython",
    "version": 3
   },
   "file_extension": ".py",
   "mimetype": "text/x-python",
   "name": "python",
   "nbconvert_exporter": "python",
   "pygments_lexer": "ipython3",
   "version": "3.7.10"
  }
 },
 "nbformat": 4,
 "nbformat_minor": 2
}
